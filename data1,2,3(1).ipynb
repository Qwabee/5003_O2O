{
 "cells": [
  {
   "cell_type": "code",
   "execution_count": 230,
   "metadata": {},
   "outputs": [],
   "source": [
    "from pyspark.sql.functions import udf, collect_list\n",
    "from pyspark.sql.types import FloatType\n",
    "from pyspark.sql.types import StringType\n",
    "from pyspark.sql.types import IntegerType\n",
    "\n",
    "\n",
    "off_train = spark.read.csv('ccf_offline_stage1_train.csv', header=True, inferSchema=True)\n",
    "off_test = spark.read.csv('ccf_offline_stage1_test_revised.csv', header = True, inferSchema=True)\n",
    "on_train = spark.read.csv('ccf_online_stage1_train.csv', header = True, inferSchema = True)"
   ]
  },
  {
   "cell_type": "code",
   "execution_count": 231,
   "metadata": {},
   "outputs": [],
   "source": [
    "dataset3 = off_test\n",
    "feature3 = off_train.filter(((off_train.Date>='20160315')&(off_train.Date<='20160630'))\\\n",
    "                           |((off_train.Date=='null') & (off_train.Date_received>='20160315')&(off_train.Date_received<='20160630')))\\\n",
    "                        .select('*')\n",
    "dataset2 = off_train.filter((off_train.Date_received>='20160515')&(off_train.Date_received<='20160615')).select('*')\n",
    "feature2 = off_train.filter((off_train.Date>='20160201')&(off_train.Date<='20160514')|((off_train.Date=='null')&(off_train.Date_received>='20160201')&(off_train.Date_received<='20160514'))).select('*')\n",
    "dataset1 = off_train.filter((off_train.Date_received>='20160414')&(off_train.Date_received<='20160514')).select('*')\n",
    "feature1 = off_train.filter((off_train.Date>='20160101')&(off_train.Date<='20160413')|((off_train.Date=='null')&(off_train.Date_received>='20160101')&(off_train.Date_received<='20160413'))).select('*')"
   ]
  },
  {
   "cell_type": "code",
   "execution_count": 234,
   "metadata": {},
   "outputs": [],
   "source": [
    "###5. other feature:###\n",
    "\n",
    "#for dataset3\n",
    "t = dataset3.select('User_id')\n",
    "t = t.select('User_id').groupBy('User_id').count().withColumnRenamed('count', 'Receive_all_coupon_count')\n",
    "\n",
    "#print(t.orderBy('User_id').show())"
   ]
  },
  {
   "cell_type": "code",
   "execution_count": 235,
   "metadata": {},
   "outputs": [],
   "source": [
    "t1 = dataset3.select('User_id','Coupon_id')\n",
    "t1 = t1.select('User_id','Coupon_id').groupBy('User_id','Coupon_id').count().withColumnRenamed('Count', 'Receive_same_coupon_count')\n",
    "\n",
    "#print(t1.orderBy('User_id').show())"
   ]
  },
  {
   "cell_type": "code",
   "execution_count": 236,
   "metadata": {},
   "outputs": [],
   "source": [
    "t2 = dataset3.select('User_id', 'Coupon_id', 'Date_received')"
   ]
  },
  {
   "cell_type": "code",
   "execution_count": 237,
   "metadata": {},
   "outputs": [],
   "source": [
    "from pyspark.sql import functions as F\n",
    "t2 = t2.groupby(['User_id', 'Coupon_id']).agg(F.max(\"Date_received\"),F.min(\"Date_received\"))\n",
    "t2 = t2.withColumnRenamed('max(Date_received)','Max_date_received').withColumnRenamed('Min(Date_received)','Min_date_received')\n",
    "#t2.show()"
   ]
  },
  {
   "cell_type": "code",
   "execution_count": 240,
   "metadata": {},
   "outputs": [
    {
     "name": "stdout",
     "output_type": "stream",
     "text": [
      "+-------+---------+-------------+-----------------+-----------------+-------------------------+--------------------------+\n",
      "|User_id|Coupon_id|Date_received|Max_date_received|Min_date_received|Month_same_coupon_lastone|Month_same_coupon_firstone|\n",
      "+-------+---------+-------------+-----------------+-----------------+-------------------------+--------------------------+\n",
      "|3649795|    10418|     20160701|         20160701|         20160701|                        0|                         0|\n",
      "|3025159|    10438|     20160701|         20160701|         20160701|                        0|                         0|\n",
      "|2296075|    13602|     20160728|         20160728|         20160728|                        0|                         0|\n",
      "|7346734|     4405|     20160701|         20160701|         20160701|                        0|                         0|\n",
      "|2970925|     5178|     20160722|         20160728|         20160711|                        6|                        11|\n",
      "|2970925|     5178|     20160725|         20160728|         20160711|                        3|                        14|\n",
      "|2970925|     5178|     20160711|         20160728|         20160711|                       17|                         0|\n",
      "|2970925|     5178|     20160728|         20160728|         20160711|                        0|                        17|\n",
      "|2970925|     5178|     20160720|         20160728|         20160711|                        8|                         9|\n",
      "|2970925|     5178|     20160727|         20160728|         20160711|                        1|                        16|\n",
      "|2970925|     5178|     20160721|         20160728|         20160711|                        7|                        10|\n",
      "|2970925|     5178|     20160723|         20160728|         20160711|                        5|                        12|\n",
      "|2970925|     5178|     20160726|         20160728|         20160711|                        2|                        15|\n",
      "|2746177|    13602|     20160704|         20160704|         20160704|                        0|                         0|\n",
      "|5632654|     4138|     20160716|         20160716|         20160716|                        0|                         0|\n",
      "|5406394|    13602|     20160705|         20160705|         20160705|                        0|                         0|\n",
      "|4451026|     9983|     20160711|         20160711|         20160711|                        0|                         0|\n",
      "|2891131|     3429|     20160724|         20160724|         20160724|                        0|                         0|\n",
      "|3032473|     8306|     20160715|         20160715|         20160715|                        0|                         0|\n",
      "|2447773|    12807|     20160703|         20160703|         20160703|                        0|                         0|\n",
      "+-------+---------+-------------+-----------------+-----------------+-------------------------+--------------------------+\n",
      "only showing top 20 rows\n",
      "\n"
     ]
    }
   ],
   "source": [
    "t3 = dataset3.select('User_id','Coupon_id','Date_received')\n",
    "t3 = t3.join(t2, ['User_id','Coupon_id'])\n",
    "t3 = t3.withColumn('Month_same_coupon_lastone', col('Max_date_received') - col('date_received'))\n",
    "t3 = t3.withColumn('Month_same_coupon_firstone',col('date_received') - col('Min_date_received'))                   \n",
    "t3.show()"
   ]
  },
  {
   "cell_type": "code",
   "execution_count": 239,
   "metadata": {},
   "outputs": [],
   "source": [
    "def is_firstlastone(x):\n",
    "    if x==0:\n",
    "        return 1\n",
    "    elif x>0:\n",
    "        return 0\n",
    "    else:\n",
    "        return -1 #those only receive once"
   ]
  },
  {
   "cell_type": "code",
   "execution_count": 214,
   "metadata": {},
   "outputs": [
    {
     "ename": "ValueError",
     "evalue": "Cannot convert column into bool: please use '&' for 'and', '|' for 'or', '~' for 'not' when building DataFrame boolean expressions.",
     "output_type": "error",
     "traceback": [
      "\u001b[0;31m---------------------------------------------------------------------------\u001b[0m",
      "\u001b[0;31mValueError\u001b[0m                                Traceback (most recent call last)",
      "\u001b[0;32m<ipython-input-214-0a73340e0fec>\u001b[0m in \u001b[0;36m<module>\u001b[0;34m\u001b[0m\n\u001b[0;32m----> 1\u001b[0;31m \u001b[0mt3\u001b[0m\u001b[0;34m.\u001b[0m\u001b[0mwithColumn\u001b[0m\u001b[0;34m(\u001b[0m\u001b[0;34m'Month_same_coupon_lastone'\u001b[0m\u001b[0;34m,\u001b[0m \u001b[0mis_firstlastone\u001b[0m\u001b[0;34m(\u001b[0m\u001b[0mcol\u001b[0m\u001b[0;34m(\u001b[0m\u001b[0;34m'Month_same_coupon_lastone'\u001b[0m\u001b[0;34m)\u001b[0m\u001b[0;34m)\u001b[0m\u001b[0;34m)\u001b[0m\u001b[0;34m\u001b[0m\u001b[0;34m\u001b[0m\u001b[0m\n\u001b[0m\u001b[1;32m      2\u001b[0m \u001b[0;31m#t3 = t3.withColumn('Month_same_coupon_firstone', is_firstlastone(col'Month_same_coupon_firstone'))\u001b[0m\u001b[0;34m\u001b[0m\u001b[0;34m\u001b[0m\u001b[0;34m\u001b[0m\u001b[0m\n\u001b[1;32m      3\u001b[0m \u001b[0;31m#t3 = t3.select('User_id','Coupon_id','Date_received','Month_same_coupon_lastone','Month_same_coupon_firstone')\u001b[0m\u001b[0;34m\u001b[0m\u001b[0;34m\u001b[0m\u001b[0;34m\u001b[0m\u001b[0m\n",
      "\u001b[0;32m<ipython-input-213-b0991de004bd>\u001b[0m in \u001b[0;36mis_firstlastone\u001b[0;34m(x)\u001b[0m\n\u001b[1;32m      1\u001b[0m \u001b[0;32mdef\u001b[0m \u001b[0mis_firstlastone\u001b[0m\u001b[0;34m(\u001b[0m\u001b[0mx\u001b[0m\u001b[0;34m)\u001b[0m\u001b[0;34m:\u001b[0m\u001b[0;34m\u001b[0m\u001b[0;34m\u001b[0m\u001b[0m\n\u001b[0;32m----> 2\u001b[0;31m     \u001b[0;32mif\u001b[0m \u001b[0mx\u001b[0m\u001b[0;34m==\u001b[0m\u001b[0;36m0\u001b[0m\u001b[0;34m:\u001b[0m\u001b[0;34m\u001b[0m\u001b[0;34m\u001b[0m\u001b[0m\n\u001b[0m\u001b[1;32m      3\u001b[0m         \u001b[0;32mreturn\u001b[0m \u001b[0;36m1\u001b[0m\u001b[0;34m\u001b[0m\u001b[0;34m\u001b[0m\u001b[0m\n\u001b[1;32m      4\u001b[0m     \u001b[0;32melif\u001b[0m \u001b[0mx\u001b[0m\u001b[0;34m>\u001b[0m\u001b[0;36m0\u001b[0m\u001b[0;34m:\u001b[0m\u001b[0;34m\u001b[0m\u001b[0;34m\u001b[0m\u001b[0m\n\u001b[1;32m      5\u001b[0m         \u001b[0;32mreturn\u001b[0m \u001b[0;36m0\u001b[0m\u001b[0;34m\u001b[0m\u001b[0;34m\u001b[0m\u001b[0m\n",
      "\u001b[0;32m~/spark-3.0.1-bin-hadoop2.7/python/pyspark/sql/column.py\u001b[0m in \u001b[0;36m__nonzero__\u001b[0;34m(self)\u001b[0m\n\u001b[1;32m    699\u001b[0m \u001b[0;34m\u001b[0m\u001b[0m\n\u001b[1;32m    700\u001b[0m     \u001b[0;32mdef\u001b[0m \u001b[0m__nonzero__\u001b[0m\u001b[0;34m(\u001b[0m\u001b[0mself\u001b[0m\u001b[0;34m)\u001b[0m\u001b[0;34m:\u001b[0m\u001b[0;34m\u001b[0m\u001b[0;34m\u001b[0m\u001b[0m\n\u001b[0;32m--> 701\u001b[0;31m         raise ValueError(\"Cannot convert column into bool: please use '&' for 'and', '|' for 'or', \"\n\u001b[0m\u001b[1;32m    702\u001b[0m                          \"'~' for 'not' when building DataFrame boolean expressions.\")\n\u001b[1;32m    703\u001b[0m     \u001b[0m__bool__\u001b[0m \u001b[0;34m=\u001b[0m \u001b[0m__nonzero__\u001b[0m\u001b[0;34m\u001b[0m\u001b[0;34m\u001b[0m\u001b[0m\n",
      "\u001b[0;31mValueError\u001b[0m: Cannot convert column into bool: please use '&' for 'and', '|' for 'or', '~' for 'not' when building DataFrame boolean expressions."
     ]
    }
   ],
   "source": [
    "t3.withColumn('Month_same_coupon_lastone', is_firstlastone(col('Month_same_coupon_lastone')))\n",
    "#t3 = t3.withColumn('Month_same_coupon_firstone', is_firstlastone(col'Month_same_coupon_firstone'))\n",
    "t3 = t3.select('User_id','Coupon_id','Date_received','Month_same_coupon_lastone','Month_same_coupon_firstone')"
   ]
  },
  {
   "cell_type": "code",
   "execution_count": 215,
   "metadata": {},
   "outputs": [],
   "source": [
    "t4 = dataset3.select('User_id','Date_received')\n",
    "t4 = t4.select('Date_received','User_id',).groupBy('User_id','Date_received').count().withColumnRenamed('count', 'Receive_all_coupon_count')\n",
    "\n",
    "#print(t4.orderBy('user_id').show())"
   ]
  },
  {
   "cell_type": "code",
   "execution_count": 216,
   "metadata": {},
   "outputs": [],
   "source": [
    "t5 = dataset3.select('User_id','Coupon_id','Date_received')\n",
    "t5 = t5.select('User_id','Coupon_id','Date_received').groupBy('User_id','Coupon_id','Date_received').count().withColumnRenamed('count', 'Receive_same_coupon_count')\n",
    "\n",
    "#print(t5.orderBy('user_id').show())"
   ]
  },
  {
   "cell_type": "code",
   "execution_count": 217,
   "metadata": {},
   "outputs": [],
   "source": [
    "t6 = dataset3.select('User_id','Coupon_id','Date_received')\n",
    "t6 = t6.withColumn('Date_received',(col('Date_received').astype('string')))"
   ]
  },
  {
   "cell_type": "code",
   "execution_count": 218,
   "metadata": {},
   "outputs": [],
   "source": [
    "link = udf(lambda x: ':'.join(x))\n",
    "t6 = t6.groupby('User_id', 'Coupon_id').agg(collect_list('Date_received').alias('Date_received')).withColumn('Date_received', link('Date_received'))\n",
    "t6 = t6.withColumnRenamed('Date_received', 'Dates')\n",
    "\n",
    "#t6.show()"
   ]
  },
  {
   "cell_type": "code",
   "execution_count": 219,
   "metadata": {},
   "outputs": [],
   "source": [
    "def get_day_gap_before(s):\n",
    "    date_received,dates = s.split('-')\n",
    "    dates = dates.split(':')\n",
    "    gaps = []\n",
    "    for d in dates:\n",
    "        this_gap = (date(int(date_received[0:4]),int(date_received[4:6]),int(date_received[6:8]))-date(int(d[0:4]),int(d[4:6]),int(d[6:8]))).days\n",
    "        if this_gap>0:\n",
    "            gaps.append(this_gap)\n",
    "    if len(gaps)==0:\n",
    "        return -1\n",
    "    else:\n",
    "        return min(gaps)\n",
    "        \n",
    "def get_day_gap_after(s):\n",
    "    date_received,dates = s.split('-')\n",
    "    dates = dates.split(':')\n",
    "    gaps = []\n",
    "    for d in dates:\n",
    "        this_gap = (date(int(d[0:4]),int(d[4:6]),int(d[6:8]))-date(int(date_received[0:4]),int(date_received[4:6]),int(date_received[6:8]))).days\n",
    "        if this_gap>0:\n",
    "            gaps.append(this_gap)\n",
    "    if len(gaps)==0:\n",
    "        return -1\n",
    "    else:\n",
    "        return min(gaps)"
   ]
  },
  {
   "cell_type": "code",
   "execution_count": 227,
   "metadata": {},
   "outputs": [],
   "source": [
    "t7 = dataset3.select('User_id','Coupon_id','Date_received')\n",
    "t7 = t7.join(t6,['User_id','Coupon_id'])\n",
    "#t7 = t7.withColumn('Date_received_date',((col('Date_received').astype('string')) + '-' + t7.dates))\n",
    "#t7.withColumn('Day_gap_before', get_day_gap_before(col('date_received_date')))\n",
    "#t7.withColumn('Day_gap_after', get_day_gap_after(col('date_received_date')))\n",
    "#t7 = t7.select('User_id','Coupon_id','Date_received','Day_gap_before','Day_gap_after')\n",
    "\n",
    "#t7.show()"
   ]
  },
  {
   "cell_type": "code",
   "execution_count": 228,
   "metadata": {},
   "outputs": [
    {
     "name": "stdout",
     "output_type": "stream",
     "text": [
      "+-------+---------+-------------+-------------------------+------------------------+-----------------+-----------------+-------------------------+--------------------------+------------------------+-------------------------+--------------------+\n",
      "|User_id|Coupon_id|Date_received|Receive_same_coupon_count|Receive_all_coupon_count|Max_date_received|Min_date_received|Month_same_coupon_lastone|Month_same_coupon_firstone|Receive_all_coupon_count|Receive_same_coupon_count|               Dates|\n",
      "+-------+---------+-------------+-------------------------+------------------------+-----------------+-----------------+-------------------------+--------------------------+------------------------+-------------------------+--------------------+\n",
      "|  11170|    11873|     20160730|                        4|                       6|         20160730|         20160715|                        0|                        15|                       1|                        1|20160717:20160715...|\n",
      "|  28927|     9983|     20160710|                        1|                       1|         20160710|         20160710|                        0|                         0|                       1|                        1|            20160710|\n",
      "|  31052|    13602|     20160725|                        1|                       1|         20160725|         20160725|                        0|                         0|                       1|                        1|            20160725|\n",
      "|  38590|     9983|     20160723|                        1|                       2|         20160723|         20160723|                        0|                         0|                       1|                        1|            20160723|\n",
      "|  46960|     1505|     20160712|                        1|                       1|         20160712|         20160712|                        0|                         0|                       1|                        1|            20160712|\n",
      "|  50167|     1759|     20160730|                        1|                       1|         20160730|         20160730|                        0|                         0|                       1|                        1|            20160730|\n",
      "|  65049|    11200|     20160724|                        1|                       3|         20160724|         20160724|                        0|                         0|                       1|                        1|            20160724|\n",
      "|  79841|    13602|     20160719|                        1|                       1|         20160719|         20160719|                        0|                         0|                       1|                        1|            20160719|\n",
      "|  83706|     2902|     20160730|                        1|                       2|         20160730|         20160730|                        0|                         0|                       1|                        1|            20160730|\n",
      "|  97544|    10306|     20160721|                        1|                       2|         20160721|         20160721|                        0|                         0|                       1|                        1|            20160721|\n",
      "|  97670|    13602|     20160722|                        1|                       1|         20160722|         20160722|                        0|                         0|                       1|                        1|            20160722|\n",
      "| 110239|     9983|     20160711|                        1|                       1|         20160711|         20160711|                        0|                         0|                       1|                        1|            20160711|\n",
      "| 125868|     9288|     20160714|                        1|                       5|         20160714|         20160714|                        0|                         0|                       1|                        1|            20160714|\n",
      "| 130699|     9983|     20160727|                        1|                       1|         20160727|         20160727|                        0|                         0|                       1|                        1|            20160727|\n",
      "| 144408|    13602|     20160716|                        1|                       1|         20160716|         20160716|                        0|                         0|                       1|                        1|            20160716|\n",
      "| 156568|      940|     20160704|                        5|                       6|         20160730|         20160704|                       26|                         0|                       1|                        1|20160704:20160717...|\n",
      "| 159124|     6619|     20160708|                        1|                       1|         20160708|         20160708|                        0|                         0|                       1|                        1|            20160708|\n",
      "| 174897|     9983|     20160702|                        1|                       1|         20160702|         20160702|                        0|                         0|                       1|                        1|            20160702|\n",
      "| 190057|    11894|     20160716|                        1|                       3|         20160716|         20160716|                        0|                         0|                       2|                        1|            20160716|\n",
      "| 191353|     8059|     20160714|                        1|                       1|         20160714|         20160714|                        0|                         0|                       1|                        1|            20160714|\n",
      "+-------+---------+-------------+-------------------------+------------------------+-----------------+-----------------+-------------------------+--------------------------+------------------------+-------------------------+--------------------+\n",
      "only showing top 20 rows\n",
      "\n"
     ]
    }
   ],
   "source": [
    "other_feature3 = t1.join(t, 'User_id')\n",
    "other_feature3 = other_feature3.join(t3,['user_id','coupon_id'])\n",
    "other_feature3 = other_feature3.join(t4, ['User_id','Date_received'])\n",
    "other_feature3 = other_feature3.join(t5, ['User_id','Coupon_id','Date_received'])\n",
    "other_feature3 = other_feature3.join(t7, ['User_id','Coupon_id','Date_received'])\n",
    "#other_feature3.write.csv('coupon3_featureother_feature3', header = True)\n",
    "\n",
    "other_feature3.show()"
   ]
  },
  {
   "cell_type": "code",
   "execution_count": null,
   "metadata": {},
   "outputs": [],
   "source": [
    "#for dataset2"
   ]
  },
  {
   "cell_type": "code",
   "execution_count": null,
   "metadata": {},
   "outputs": [],
   "source": [
    "t = dataset2.select('User_id')\n",
    "t = t.select('User_id').groupBy('User_id').count().withColumnRenamed('count', 'Receive_all_coupon_count')\n",
    "\n",
    "#print(t.orderBy('User_id').show())"
   ]
  },
  {
   "cell_type": "code",
   "execution_count": null,
   "metadata": {},
   "outputs": [],
   "source": [
    "t1 = dataset2.select('User_id','Coupon_id')\n",
    "t1 = t1.select('User_id','Coupon_id').groupBy('User_id','Coupon_id').count().withColumnRenamed('Count', 'Receive_same_coupon_count')\n",
    "\n",
    "#print(t1.orderBy('User_id').show())"
   ]
  },
  {
   "cell_type": "code",
   "execution_count": null,
   "metadata": {},
   "outputs": [],
   "source": [
    "t2 = dataset2.select('User_id', 'Coupon_id', 'Date_received')"
   ]
  },
  {
   "cell_type": "code",
   "execution_count": null,
   "metadata": {},
   "outputs": [],
   "source": [
    "from pyspark.sql import functions as F\n",
    "t2 = t2.groupby(['User_id', 'Coupon_id']).agg(F.max(\"Date_received\"),F.min(\"Date_received\"))\n",
    "t2 = t2.withColumnRenamed('max(Date_received)','Max_date_received').withColumnRenamed('Min(Date_received)','Min_date_received')\n",
    "#t2.show()"
   ]
  },
  {
   "cell_type": "code",
   "execution_count": null,
   "metadata": {},
   "outputs": [],
   "source": [
    "t3 = dataset2.select('User_id','Coupon_id','Date_received')\n",
    "t3 = t3.join(t2, ['User_id','Coupon_id'])\n",
    "t3 = t3.withColumn('Month_same_coupon_lastone', col('Max_date_received') - col('date_received'))\n",
    "t3 = t3.withColumn('Month_same_coupon_firstone',col('date_received') - col('Min_date_received'))                   \n",
    "#t3.show()"
   ]
  },
  {
   "cell_type": "code",
   "execution_count": null,
   "metadata": {},
   "outputs": [],
   "source": [
    "def is_firstlastone(x):\n",
    "    if x==0:\n",
    "        return 1\n",
    "    elif x>0:\n",
    "        return 0\n",
    "    else:\n",
    "        return -1 #those only receive once"
   ]
  },
  {
   "cell_type": "code",
   "execution_count": null,
   "metadata": {},
   "outputs": [],
   "source": [
    "t3.withColumn('Month_same_coupon_lastone', is_firstlastone(col('Month_same_coupon_lastone')))\n",
    "#t3 = t3.withColumn('Month_same_coupon_firstone', is_firstlastone(col'Month_same_coupon_firstone'))\n",
    "t3 = t3.select('User_id','Coupon_id','Date_received','Month_same_coupon_lastone','Month_same_coupon_firstone')"
   ]
  },
  {
   "cell_type": "code",
   "execution_count": null,
   "metadata": {},
   "outputs": [],
   "source": [
    "t4 = dataset2.select('User_id','Date_received')\n",
    "t4 = t4.select('Date_received','User_id',).groupBy('User_id','Date_received').count().withColumnRenamed('count', 'Receive_all_coupon_count')\n",
    "\n",
    "#print(t4.orderBy('user_id').show())"
   ]
  },
  {
   "cell_type": "code",
   "execution_count": null,
   "metadata": {},
   "outputs": [],
   "source": [
    "t5 = dataset2.select('User_id','Coupon_id','Date_received')\n",
    "t5 = t5.select('User_id','Coupon_id','Date_received').groupBy('User_id','Coupon_id','Date_received').count().withColumnRenamed('count', 'Receive_same_coupon_count')\n",
    "\n",
    "#print(t5.orderBy('user_id').show())"
   ]
  },
  {
   "cell_type": "code",
   "execution_count": null,
   "metadata": {},
   "outputs": [],
   "source": [
    "t6 = dataset2.select('User_id','Coupon_id','Date_received')\n",
    "t6 = t6.withColumn('Date_received',(col('Date_received').astype('string')))"
   ]
  },
  {
   "cell_type": "code",
   "execution_count": null,
   "metadata": {},
   "outputs": [],
   "source": [
    "link = udf(lambda x: ':'.join(x))\n",
    "t6 = t6.groupby('User_id', 'Coupon_id').agg(collect_list('Date_received').alias('Date_received')).withColumn('Date_received', link('Date_received'))\n",
    "t6 = t6.withColumnRenamed('Date_received', 'Dates')\n",
    "\n",
    "#t6.show()"
   ]
  },
  {
   "cell_type": "code",
   "execution_count": null,
   "metadata": {},
   "outputs": [],
   "source": [
    "def get_day_gap_before(s):\n",
    "    date_received,dates = s.split('-')\n",
    "    dates = dates.split(':')\n",
    "    gaps = []\n",
    "    for d in dates:\n",
    "        this_gap = (date(int(date_received[0:4]),int(date_received[4:6]),int(date_received[6:8]))-date(int(d[0:4]),int(d[4:6]),int(d[6:8]))).days\n",
    "        if this_gap>0:\n",
    "            gaps.append(this_gap)\n",
    "    if len(gaps)==0:\n",
    "        return -1\n",
    "    else:\n",
    "        return min(gaps)\n",
    "        \n",
    "def get_day_gap_after(s):\n",
    "    date_received,dates = s.split('-')\n",
    "    dates = dates.split(':')\n",
    "    gaps = []\n",
    "    for d in dates:\n",
    "        this_gap = (date(int(d[0:4]),int(d[4:6]),int(d[6:8]))-date(int(date_received[0:4]),int(date_received[4:6]),int(date_received[6:8]))).days\n",
    "        if this_gap>0:\n",
    "            gaps.append(this_gap)\n",
    "    if len(gaps)==0:\n",
    "        return -1\n",
    "    else:\n",
    "        return min(gaps)"
   ]
  },
  {
   "cell_type": "code",
   "execution_count": null,
   "metadata": {},
   "outputs": [],
   "source": [
    "t7 = dataset2.select('User_id','Coupon_id','Date_received')\n",
    "t7 = t7.join(t6,['User_id','Coupon_id'])\n",
    "#t7 = t7.withColumn('Date_received_date',((col('Date_received').astype('string')) + '-' + t7.dates))\n",
    "#t7.withColumn('Day_gap_before', get_day_gap_before(col('date_received_date')))\n",
    "#t7.withColumn('Day_gap_after', get_day_gap_after(col('date_received_date')))\n",
    "#t7 = t7.select('User_id','Coupon_id','Date_received','Day_gap_before','Day_gap_after')\n",
    "\n",
    "#t7.show()"
   ]
  },
  {
   "cell_type": "code",
   "execution_count": null,
   "metadata": {},
   "outputs": [],
   "source": [
    "other_feature2 = t1.join(t, 'User_id')\n",
    "other_feature2 = other_feature3.join(t3,['user_id','coupon_id'])\n",
    "other_feature2 = other_feature3.join(t4, ['User_id','Date_received'])\n",
    "other_feature2 = other_feature3.join(t5, ['User_id','Coupon_id','Date_received'])\n",
    "other_feature2 = other_feature3.join(t7, ['User_id','Coupon_id','Date_received'])\n",
    "#other_feature2.write.csv('coupon3_featureother_feature3', header = True)\n",
    "\n",
    "other_feature2.show()"
   ]
  },
  {
   "cell_type": "code",
   "execution_count": null,
   "metadata": {},
   "outputs": [],
   "source": [
    "#for dataset1"
   ]
  },
  {
   "cell_type": "code",
   "execution_count": null,
   "metadata": {},
   "outputs": [],
   "source": [
    "t = dataset1.select('User_id')\n",
    "t = t.select('User_id').groupBy('User_id').count().withColumnRenamed('count', 'Receive_all_coupon_count')\n",
    "\n",
    "#print(t.orderBy('User_id').show())"
   ]
  },
  {
   "cell_type": "code",
   "execution_count": null,
   "metadata": {},
   "outputs": [],
   "source": [
    "t1 = dataset1.select('User_id','Coupon_id')\n",
    "t1 = t1.select('User_id','Coupon_id').groupBy('User_id','Coupon_id').count().withColumnRenamed('Count', 'Receive_same_coupon_count')\n",
    "\n",
    "#print(t1.orderBy('User_id').show())"
   ]
  },
  {
   "cell_type": "code",
   "execution_count": null,
   "metadata": {},
   "outputs": [],
   "source": [
    "t2 = dataset1.select('User_id', 'Coupon_id', 'Date_received')"
   ]
  },
  {
   "cell_type": "code",
   "execution_count": null,
   "metadata": {},
   "outputs": [],
   "source": [
    "from pyspark.sql import functions as F\n",
    "t2 = t2.groupby(['User_id', 'Coupon_id']).agg(F.max(\"Date_received\"),F.min(\"Date_received\"))\n",
    "t2 = t2.withColumnRenamed('max(Date_received)','Max_date_received').withColumnRenamed('Min(Date_received)','Min_date_received')\n",
    "#t2.show()"
   ]
  },
  {
   "cell_type": "code",
   "execution_count": null,
   "metadata": {},
   "outputs": [],
   "source": [
    "t3 = dataset1.select('User_id','Coupon_id','Date_received')\n",
    "t3 = t3.join(t2, ['User_id','Coupon_id'])\n",
    "t3 = t3.withColumn('Month_same_coupon_lastone', col('Max_date_received') - col('date_received'))\n",
    "t3 = t3.withColumn('Month_same_coupon_firstone',col('date_received') - col('Min_date_received'))                   \n",
    "#t3.show()"
   ]
  },
  {
   "cell_type": "code",
   "execution_count": null,
   "metadata": {},
   "outputs": [],
   "source": [
    "def is_firstlastone(x):\n",
    "    if x==0:\n",
    "        return 1\n",
    "    elif x>0:\n",
    "        return 0\n",
    "    else:\n",
    "        return -1 #those only receive once"
   ]
  },
  {
   "cell_type": "code",
   "execution_count": null,
   "metadata": {},
   "outputs": [],
   "source": [
    "t3.withColumn('Month_same_coupon_lastone', is_firstlastone(col('Month_same_coupon_lastone')))\n",
    "#t3 = t3.withColumn('Month_same_coupon_firstone', is_firstlastone(col'Month_same_coupon_firstone'))\n",
    "t3 = t3.select('User_id','Coupon_id','Date_received','Month_same_coupon_lastone','Month_same_coupon_firstone')"
   ]
  },
  {
   "cell_type": "code",
   "execution_count": null,
   "metadata": {},
   "outputs": [],
   "source": [
    "t4 = dataset1.select('User_id','Date_received')\n",
    "t4 = t4.select('Date_received','User_id',).groupBy('User_id','Date_received').count().withColumnRenamed('count', 'Receive_all_coupon_count')\n",
    "\n",
    "#print(t4.orderBy('user_id').show())"
   ]
  },
  {
   "cell_type": "code",
   "execution_count": null,
   "metadata": {},
   "outputs": [],
   "source": [
    "t5 = dataset1.select('User_id','Coupon_id','Date_received')\n",
    "t5 = t5.select('User_id','Coupon_id','Date_received').groupBy('User_id','Coupon_id','Date_received').count().withColumnRenamed('count', 'Receive_same_coupon_count')\n",
    "\n",
    "#print(t5.orderBy('user_id').show())"
   ]
  },
  {
   "cell_type": "code",
   "execution_count": null,
   "metadata": {},
   "outputs": [],
   "source": [
    "t6 = dataset1.select('User_id','Coupon_id','Date_received')\n",
    "t6 = t6.withColumn('Date_received',(col('Date_received').astype('string')))"
   ]
  },
  {
   "cell_type": "code",
   "execution_count": null,
   "metadata": {},
   "outputs": [],
   "source": [
    "link = udf(lambda x: ':'.join(x))\n",
    "t6 = t6.groupby('User_id', 'Coupon_id').agg(collect_list('Date_received').alias('Date_received')).withColumn('Date_received', link('Date_received'))\n",
    "t6 = t6.withColumnRenamed('Date_received', 'Dates')\n",
    "\n",
    "#t6.show()"
   ]
  },
  {
   "cell_type": "code",
   "execution_count": null,
   "metadata": {},
   "outputs": [],
   "source": [
    "def get_day_gap_before(s):\n",
    "    date_received,dates = s.split('-')\n",
    "    dates = dates.split(':')\n",
    "    gaps = []\n",
    "    for d in dates:\n",
    "        this_gap = (date(int(date_received[0:4]),int(date_received[4:6]),int(date_received[6:8]))-date(int(d[0:4]),int(d[4:6]),int(d[6:8]))).days\n",
    "        if this_gap>0:\n",
    "            gaps.append(this_gap)\n",
    "    if len(gaps)==0:\n",
    "        return -1\n",
    "    else:\n",
    "        return min(gaps)\n",
    "        \n",
    "def get_day_gap_after(s):\n",
    "    date_received,dates = s.split('-')\n",
    "    dates = dates.split(':')\n",
    "    gaps = []\n",
    "    for d in dates:\n",
    "        this_gap = (date(int(d[0:4]),int(d[4:6]),int(d[6:8]))-date(int(date_received[0:4]),int(date_received[4:6]),int(date_received[6:8]))).days\n",
    "        if this_gap>0:\n",
    "            gaps.append(this_gap)\n",
    "    if len(gaps)==0:\n",
    "        return -1\n",
    "    else:\n",
    "        return min(gaps)"
   ]
  },
  {
   "cell_type": "code",
   "execution_count": null,
   "metadata": {},
   "outputs": [],
   "source": [
    "t7 = dataset1.select('User_id','Coupon_id','Date_received')\n",
    "t7 = t7.join(t6,['User_id','Coupon_id'])\n",
    "#t7 = t7.withColumn('Date_received_date',((col('Date_received').astype('string')) + '-' + t7.dates))\n",
    "#t7.withColumn('Day_gap_before', get_day_gap_before(col('date_received_date')))\n",
    "#t7.withColumn('Day_gap_after', get_day_gap_after(col('date_received_date')))\n",
    "#t7 = t7.select('User_id','Coupon_id','Date_received','Day_gap_before','Day_gap_after')\n",
    "\n",
    "#t7.show()"
   ]
  },
  {
   "cell_type": "code",
   "execution_count": null,
   "metadata": {},
   "outputs": [],
   "source": [
    "other_feature1 = t1.join(t, 'User_id')\n",
    "other_feature1 = other_feature3.join(t3,['user_id','coupon_id'])\n",
    "other_feature1 = other_feature3.join(t4, ['User_id','Date_received'])\n",
    "other_feature1 = other_feature3.join(t5, ['User_id','Coupon_id','Date_received'])\n",
    "other_feature1 = other_feature3.join(t7, ['User_id','Coupon_id','Date_received'])\n",
    "#other_feature1.write.csv('coupon3_featureother_feature3', header = True)\n",
    "\n",
    "other_feature1.show()"
   ]
  }
 ],
 "metadata": {
  "kernelspec": {
   "display_name": "Python 3",
   "language": "python",
   "name": "python3"
  },
  "language_info": {
   "codemirror_mode": {
    "name": "ipython",
    "version": 3
   },
   "file_extension": ".py",
   "mimetype": "text/x-python",
   "name": "python",
   "nbconvert_exporter": "python",
   "pygments_lexer": "ipython3",
   "version": "3.8.3"
  }
 },
 "nbformat": 4,
 "nbformat_minor": 4
}
