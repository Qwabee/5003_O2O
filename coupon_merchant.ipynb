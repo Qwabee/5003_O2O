{
 "cells": [
  {
   "cell_type": "code",
   "execution_count": 224,
   "metadata": {},
   "outputs": [],
   "source": [
    "from pyspark.sql.functions import *\n",
    "\n",
    "off_train = spark.read.csv('ccf_offline_stage1_train.csv', header=True, inferSchema=True)\n",
    "off_test = spark.read.csv('ccf_offline_stage1_test_revised.csv', header = True, inferSchema=True)\n",
    "on_train = spark.read.csv('ccf_online_stage1_train.csv', header = True, inferSchema = True)"
   ]
  },
  {
   "cell_type": "code",
   "execution_count": 445,
   "metadata": {},
   "outputs": [],
   "source": [
    "dataset3 = off_test\n",
    "feature3 = off_train.where(((off_train.Date>='20160315') & (off_train.Date<='20160630')) \\\n",
    "                                   | ((off_train.Date=='null' )& (off_train.Date_received>='20160315') & (off_train.Date_received<='20160630')))\\\n",
    "                              .select('*')\n",
    "dataset2 =  off_train.where((off_train.Date_received>='20160515')&(off_train.Date_received<='20160615'))\\\n",
    "                    .select('*')\n",
    "feature2 = off_train.where((off_train.Date>='20160201')&(off_train.Date<='20160514')\\\n",
    "                           |((off_train.Date=='null')&(off_train.Date_received>='20160201')&(off_train.Date_received<='20160514')))\\\n",
    "                    .select('*')\n",
    "dataset1 = off_train.where((off_train.Date_received>='20160414')&(off_train.Date_received<='20160514'))\\\n",
    "                    .select('*')\n",
    "feature1 = off_train.where((off_train.Date>='20160101')&(off_train.Date<='20160413')\\\n",
    "                           |((off_train.Date=='null')&(off_train.Date_received>='20160101')&(off_train.Date_received<='20160413')))\\\n",
    "                    .select('*')"
   ]
  },
  {
   "cell_type": "markdown",
   "metadata": {},
   "source": [
    "############# coupon related feature   #############\n",
    "\"\"\"\n",
    "coupon related: \n",
    "      discount_rate. discount_man. discount_jian. is_man_jian\n",
    "      day_of_week,day_of_month. (date_received)"
   ]
  },
  {
   "cell_type": "code",
   "execution_count": 446,
   "metadata": {},
   "outputs": [],
   "source": [
    "def calc_discount_rate(s):\n",
    "    s =str(s)\n",
    "    s = s.split(':')\n",
    "    if len(s)==1:\n",
    "        return float(s[0])\n",
    "    else:\n",
    "        return 1.0-float(s[1])/float(s[0])\n",
    "\n",
    "def get_discount_man(s):\n",
    "    s =str(s)\n",
    "    s = s.split(':')\n",
    "    if len(s)==1:\n",
    "        return 'null'\n",
    "    else:\n",
    "        return int(s[0])\n",
    "        \n",
    "def get_discount_jian(s):\n",
    "    s =str(s)\n",
    "    s = s.split(':')\n",
    "    if len(s)==1:\n",
    "        return 'null'\n",
    "    else:\n",
    "        return int(s[1])\n",
    "\n",
    "def is_man_jian(s):\n",
    "    s =str(s)\n",
    "    s = s.split(':')\n",
    "    if len(s)==1:\n",
    "        return 0\n",
    "    else:\n",
    "        return 1"
   ]
  },
  {
   "cell_type": "code",
   "execution_count": 447,
   "metadata": {},
   "outputs": [],
   "source": [
    "from pyspark.sql.types import FloatType\n",
    "from pyspark.sql.types import StringType\n",
    "from pyspark.sql.types import IntegerType\n",
    "# spark.udf.register('calc_discount_rate', calc_discount_rate, FloatType())\n",
    "calc_discount_rate = udf(calc_discount_rate, FloatType())\n",
    "get_discount_man = udf(get_discount_man)\n",
    "get_discount_jian = udf(get_discount_jian, IntegerType())\n",
    "is_man_jian = udf(is_man_jian, IntegerType())"
   ]
  },
  {
   "cell_type": "markdown",
   "metadata": {},
   "source": [
    "for dataset3"
   ]
  },
  {
   "cell_type": "code",
   "execution_count": 448,
   "metadata": {},
   "outputs": [],
   "source": [
    "#dataset3['day_of_week'] = test1.apply(lambda x:int(x[6:8]))\n",
    "#spark.udf.register('week_day', lambda x:date(int(x[0:4]),int(x[4:6]),int(x[6:8])).weekday()+1)\n",
    "from datetime import date\n",
    "week_day = udf(lambda x:x if(x == 'null') else date(int(x[0:4]),int(x[4:6]),int(x[6:8])).weekday()+1)\n",
    "month_day = udf(lambda x:x if(x == 'null') else int(x[6:8]))\n",
    "dayDistance = udf(lambda x:x if(x == 'null') else (date(int(x[0:4]),int(x[4:6]),int(x[6:8]))-date(2016,6,30)).days)"
   ]
  },
  {
   "cell_type": "code",
   "execution_count": 449,
   "metadata": {},
   "outputs": [],
   "source": [
    "dataset3 = dataset3.withColumn('Day_of_week', week_day(col('Date_received').astype('string')))\n",
    "dataset3 = dataset3.withColumn('Day_of_mouth', month_day(col('Date_received').astype('string')))\n",
    "dataset3 = dataset3.withColumn('Days_distance', dayDistance(col('Date_received').astype('string')))"
   ]
  },
  {
   "cell_type": "code",
   "execution_count": 450,
   "metadata": {},
   "outputs": [
    {
     "data": {
      "text/plain": [
       "DataFrame[User_id: int, Merchant_id: int, Coupon_id: int, Discount_rate: float, Distance: string, Date_received: int, Day_of_week: string, Day_of_mouth: string, Days_distance: string]"
      ]
     },
     "execution_count": 450,
     "metadata": {},
     "output_type": "execute_result"
    }
   ],
   "source": [
    "dataset3.withColumn('Discount_man', get_discount_man(col('Discount_rate')))\n",
    "dataset3.withColumn('Discount_jian', get_discount_jian(col('Discount_rate')))\n",
    "dataset3.withColumn('Is_man_jian', is_man_jian(col('Discount_rate')))\n",
    "dataset3.withColumn('Discount_rate', calc_discount_rate(col('Discount_rate')))"
   ]
  },
  {
   "cell_type": "code",
   "execution_count": 451,
   "metadata": {},
   "outputs": [],
   "source": [
    "d = dataset3.select('Coupon_id')\n",
    "# 赋值 d.withColumn('col', lit(1))\n",
    "d = d.groupBy('Coupon_id').count().withColumnRenamed('count', 'Coupon_count')"
   ]
  },
  {
   "cell_type": "code",
   "execution_count": 452,
   "metadata": {
    "scrolled": true
   },
   "outputs": [],
   "source": [
    "dataset3 = dataset3.join(d, 'Coupon_id')\n",
    "# dataset3.reorderColumns(seq('User_id', 'Merchant_id', 'Coupon_id', 'Coupon_count', 'Distance', 'Date_received', 'day_of_week', 'day_of_mouth', 'days_distance'))\n",
    "dataset3.write.csv('coupon3_feature', header = True)"
   ]
  },
  {
   "cell_type": "markdown",
   "metadata": {},
   "source": [
    "for dataset2"
   ]
  },
  {
   "cell_type": "code",
   "execution_count": 453,
   "metadata": {},
   "outputs": [],
   "source": [
    "dataset2 = dataset2.withColumn('Day_of_week', week_day(col('Date_received').astype('string')))\n",
    "dataset2 = dataset2.withColumn('Day_of_mouth', month_day(col('Date_received').astype('string')))\n",
    "dataset2 = dataset2.withColumn('Days_distance', dayDistance(col('Date_received').astype('string')))\n",
    "dataset2.withColumn('Discount_man', get_discount_man(col('Discount_rate')))\n",
    "dataset2.withColumn('Discount_jian', get_discount_jian(col('Discount_rate')))\n",
    "dataset2.withColumn('Is_man_jian', is_man_jian(col('Discount_rate')))\n",
    "dataset2.withColumn('Discount_rate', calc_discount_rate(col('Discount_rate')))\n",
    "\n",
    "d = dataset2.select('Coupon_id')\n",
    "d = d.groupBy('Coupon_id').count().withColumnRenamed('count', 'Coupon_count')\n",
    "\n",
    "dataset2 = dataset2.join(d, 'Coupon_id')\n",
    "dataset2.write.csv('coupon2_feature', header = True)"
   ]
  },
  {
   "cell_type": "markdown",
   "metadata": {},
   "source": [
    "for dataset1"
   ]
  },
  {
   "cell_type": "code",
   "execution_count": 454,
   "metadata": {},
   "outputs": [],
   "source": [
    "dataset1 = dataset1.withColumn('Day_of_week', week_day(col('Date_received').astype('string')))\n",
    "dataset1 = dataset1.withColumn('Day_of_mouth', month_day(col('Date_received').astype('string')))\n",
    "dataset1 = dataset1.withColumn('Days_distance', dayDistance(col('Date_received').astype('string')))\n",
    "dataset1.withColumn('Discount_man', get_discount_man(col('Discount_rate')))\n",
    "dataset1.withColumn('Discount_jian', get_discount_jian(col('Discount_rate')))\n",
    "dataset1.withColumn('Is_man_jian', is_man_jian(col('Discount_rate')))\n",
    "dataset1.withColumn('Discount_rate', calc_discount_rate(col('Discount_rate')))\n",
    "\n",
    "d = dataset1.select('Coupon_id')\n",
    "d = d.groupBy('Coupon_id').count().withColumnRenamed('count', 'Coupon_count')\n",
    "\n",
    "dataset1 = dataset1.join(d, 'Coupon_id')\n",
    "dataset1.write.csv('coupon1_feature', header = True)"
   ]
  },
  {
   "cell_type": "markdown",
   "metadata": {},
   "source": [
    "############# merchant related feature   #############\n",
    "\"\"\"merchant related: \n",
    "      total_sales. sales_use_coupon.  total_coupon\n",
    "      coupon_rate = sales_use_coupon/total_sales.  \n",
    "      transfer_rate = sales_use_coupon/total_coupon. \n",
    "      merchant_avg_distance,merchant_min_distance,merchant_max_distance of those use coupon\n",
    "\"\"\""
   ]
  },
  {
   "cell_type": "code",
   "execution_count": 391,
   "metadata": {},
   "outputs": [],
   "source": [
    "merchant3 = feature3.select('Merchant_id', 'Coupon_id', 'Distance', 'Date_received', 'Date')"
   ]
  },
  {
   "cell_type": "code",
   "execution_count": 392,
   "metadata": {},
   "outputs": [],
   "source": [
    "null_ex = udf(lambda x: 0 if(x == 'null') else x)\n",
    "t = merchant3.select('Merchant_id').distinct()\n",
    "t1 = merchant3.where(merchant3.Date!='null')\\\n",
    "              .select('Merchant_id')\\\n",
    "              .groupby('Merchant_id').count()\\\n",
    "              .withColumnRenamed('count', 'Total_sales')"
   ]
  },
  {
   "cell_type": "code",
   "execution_count": 393,
   "metadata": {},
   "outputs": [],
   "source": [
    "t2 = merchant3.where((merchant3.Date != 'null') & (merchant3.Coupon_id != 'null'))\\\n",
    "              .select('Merchant_id')\\\n",
    "              .groupby('Merchant_id').count()\\\n",
    "              .withColumnRenamed('count', 'Sales_use_coupon')\\\n",
    "              .withColumn('Sales_use_coupon', null_ex(col('Sales_use_coupon')))"
   ]
  },
  {
   "cell_type": "code",
   "execution_count": 394,
   "metadata": {},
   "outputs": [],
   "source": [
    "t3 = merchant3.where(merchant3.Coupon_id != 'null')\\\n",
    "              .select('Merchant_id')\\\n",
    "              .groupby('Merchant_id').count()\\\n",
    "              .withColumnRenamed('count', 'Total_coupon')\\\n",
    "              .withColumn('Total_coupon', null_ex(col('Total_coupon')))"
   ]
  },
  {
   "cell_type": "markdown",
   "metadata": {},
   "source": [
    "数据转换在select中进行才有效（不知道为什么）"
   ]
  },
  {
   "cell_type": "code",
   "execution_count": 395,
   "metadata": {},
   "outputs": [],
   "source": [
    "extract_null = udf(lambda x: -1 if(x == 'null') else x)\n",
    "t4 = merchant3.where((merchant3.Date!='null')&(merchant3.Coupon_id!='null'))\\\n",
    "              .select('Merchant_id',extract_null('Distance').cast(IntegerType()))\\\n",
    "              .withColumnRenamed('CAST(<lambda>(Distance) AS INT)', 'Distance')"
   ]
  },
  {
   "cell_type": "code",
   "execution_count": 402,
   "metadata": {},
   "outputs": [],
   "source": [
    "t5 = t4.groupby('Merchant_id').min('Distance')\\\n",
    "       .withColumnRenamed('min(Distance)', 'Merchant_min_distance')"
   ]
  },
  {
   "cell_type": "code",
   "execution_count": 403,
   "metadata": {},
   "outputs": [
    {
     "data": {
      "text/plain": [
       "DataFrame[Merchant_id: int, Merchant_max_distance: int]"
      ]
     },
     "execution_count": 403,
     "metadata": {},
     "output_type": "execute_result"
    }
   ],
   "source": [
    "t6 = t4.groupby('Merchant_id').max('Distance')\\\n",
    "       .withColumnRenamed('max(Distance)', 'Merchant_max_distance')\n",
    "t6"
   ]
  },
  {
   "cell_type": "code",
   "execution_count": 408,
   "metadata": {},
   "outputs": [],
   "source": [
    "t7 = t4.groupby('Merchant_id').mean('Distance')\\\n",
    "       .withColumnRenamed('avg(Distance)', 'Merchant_mean_distance')"
   ]
  },
  {
   "cell_type": "code",
   "execution_count": 409,
   "metadata": {},
   "outputs": [],
   "source": [
    "med = expr('percentile_approx(Distance, 0.5)')\n",
    "t8 = t4.groupby('Merchant_id').agg(med.alias('Merchant_median_distance'))"
   ]
  },
  {
   "cell_type": "code",
   "execution_count": 410,
   "metadata": {},
   "outputs": [
    {
     "data": {
      "text/plain": [
       "DataFrame[Merchant_id: int, Total_sales: bigint, Sales_use_coupon: string, Total_coupon: string, Merchant_min_distance: int, Merchant_max_distance: int, Merchant_mean_distance: double, Merchant_median_distance: int]"
      ]
     },
     "execution_count": 410,
     "metadata": {},
     "output_type": "execute_result"
    }
   ],
   "source": [
    "merchant3_feature = t.join(t1, 'Merchant_id')\\\n",
    "                     .join(t2, 'Merchant_id')\\\n",
    "                     .join(t3, 'Merchant_id')\\\n",
    "                     .join(t5, 'Merchant_id')\\\n",
    "                     .join(t6, 'Merchant_id')\\\n",
    "                     .join(t7, 'Merchant_id')\\\n",
    "                     .join(t8, 'Merchant_id')\n",
    "merchant3_feature"
   ]
  },
  {
   "cell_type": "code",
   "execution_count": 411,
   "metadata": {},
   "outputs": [],
   "source": [
    "merchant3_feature = merchant3_feature.withColumn('Merchant_coupon_transfer_rate', (col('Sales_use_coupon')\\\n",
    "                 .cast(FloatType())) / merchant3_feature.Total_coupon)"
   ]
  },
  {
   "cell_type": "code",
   "execution_count": 412,
   "metadata": {},
   "outputs": [],
   "source": [
    "merchant3_feature = merchant3_feature.withColumn('Coupon_rate', (col('Sales_use_coupon').cast(FloatType()))\\\n",
    "                                                 /  merchant3_feature.Total_sales)"
   ]
  },
  {
   "cell_type": "code",
   "execution_count": 413,
   "metadata": {},
   "outputs": [],
   "source": [
    "merchant3_feature.repartition(1).write.csv('merchant3_feature', header = True)"
   ]
  },
  {
   "cell_type": "markdown",
   "metadata": {},
   "source": [
    "for dataset2"
   ]
  },
  {
   "cell_type": "code",
   "execution_count": 455,
   "metadata": {},
   "outputs": [],
   "source": [
    "merchant2 = feature2.select('Merchant_id', 'Coupon_id', 'Distance', 'Date_received', 'Date')\n",
    "null_ex = udf(lambda x: 0 if(x == 'null') else x)\n",
    "t = merchant2.select('Merchant_id').distinct()\n",
    "t1 = merchant2.where(merchant2.Date!='null')\\\n",
    "              .select('Merchant_id')\\\n",
    "              .groupby('Merchant_id').count()\\\n",
    "              .withColumnRenamed('count', 'Total_sales')\n",
    "t2 = merchant2.where((merchant2.Date != 'null') & (merchant2.Coupon_id != 'null'))\\\n",
    "              .select('Merchant_id')\\\n",
    "              .groupby('Merchant_id').count()\\\n",
    "              .withColumnRenamed('count', 'Sales_use_coupon')\\\n",
    "              .withColumn('Sales_use_coupon', null_ex(col('Sales_use_coupon')))\n",
    "t3 = merchant2.where(merchant2.Coupon_id != 'null')\\\n",
    "              .select('Merchant_id')\\\n",
    "              .groupby('Merchant_id').count()\\\n",
    "              .withColumnRenamed('count', 'Total_coupon')\\\n",
    "              .withColumn('Total_coupon', null_ex(col('Total_coupon')))\n",
    "extract_null = udf(lambda x: -1 if(x == 'null') else x)\n",
    "t4 = merchant2.where((merchant2.Date!='null')&(merchant2.Coupon_id!='null'))\\\n",
    "              .select('Merchant_id',extract_null('Distance').cast(IntegerType()))\\\n",
    "              .withColumnRenamed('CAST(<lambda>(Distance) AS INT)', 'Distance')\n",
    "t5 = t4.groupby('Merchant_id').min('Distance')\\\n",
    "       .withColumnRenamed('min(Distance)', 'Merchant_min_distance')\n",
    "t6 = t4.groupby('Merchant_id').max('Distance')\\\n",
    "       .withColumnRenamed('max(Distance)', 'Merchant_max_distance')\n",
    "t7 = t4.groupby('Merchant_id').mean('Distance')\\\n",
    "       .withColumnRenamed('avg(Distance)', 'Merchant_mean_distance')\n",
    "med = expr('percentile_approx(Distance, 0.5)')\n",
    "t8 = t4.groupby('Merchant_id').agg(med.alias('Merchant_median_distance'))\n",
    "merchant2_feature = t.join(t1, 'Merchant_id')\\\n",
    "                     .join(t2, 'Merchant_id')\\\n",
    "                     .join(t3, 'Merchant_id')\\\n",
    "                     .join(t5, 'Merchant_id')\\\n",
    "                     .join(t6, 'Merchant_id')\\\n",
    "                     .join(t7, 'Merchant_id')\\\n",
    "                     .join(t8, 'Merchant_id')\n",
    "merchant2_feature = merchant2_feature.withColumn('Merchant_coupon_transfer_rate', (col('Sales_use_coupon')\\\n",
    "                 .cast(FloatType())) / merchant2_feature.Total_coupon)\n",
    "merchant2_feature = merchant2_feature.withColumn('Coupon_rate', (col('Sales_use_coupon').cast(FloatType()))\\\n",
    "                                                 /  merchant2_feature.Total_sales)\n",
    "merchant2_feature.repartition(1).write.csv('merchant2_feature', header = True)"
   ]
  },
  {
   "cell_type": "markdown",
   "metadata": {},
   "source": [
    "for dataset1"
   ]
  },
  {
   "cell_type": "code",
   "execution_count": 456,
   "metadata": {},
   "outputs": [],
   "source": [
    "merchant1 = feature1.select('Merchant_id', 'Coupon_id', 'Distance', 'Date_received', 'Date')\n",
    "null_ex = udf(lambda x: 0 if(x == 'null') else x)\n",
    "t = merchant1.select('Merchant_id').distinct()\n",
    "t1 = merchant1.where(merchant1.Date!='null')\\\n",
    "              .select('Merchant_id')\\\n",
    "              .groupby('Merchant_id').count()\\\n",
    "              .withColumnRenamed('count', 'Total_sales')\n",
    "t2 = merchant1.where((merchant1.Date != 'null') & (merchant1.Coupon_id != 'null'))\\\n",
    "              .select('Merchant_id')\\\n",
    "              .groupby('Merchant_id').count()\\\n",
    "              .withColumnRenamed('count', 'Sales_use_coupon')\\\n",
    "              .withColumn('Sales_use_coupon', null_ex(col('Sales_use_coupon')))\n",
    "t3 = merchant1.where(merchant1.Coupon_id != 'null')\\\n",
    "              .select('Merchant_id')\\\n",
    "              .groupby('Merchant_id').count()\\\n",
    "              .withColumnRenamed('count', 'Total_coupon')\\\n",
    "              .withColumn('Total_coupon', null_ex(col('Total_coupon')))\n",
    "extract_null = udf(lambda x: -1 if(x == 'null') else x)\n",
    "t4 = merchant1.where((merchant1.Date!='null')&(merchant1.Coupon_id!='null'))\\\n",
    "              .select('Merchant_id',extract_null('Distance').cast(IntegerType()))\\\n",
    "              .withColumnRenamed('CAST(<lambda>(Distance) AS INT)', 'Distance')\n",
    "t5 = t4.groupby('Merchant_id').min('Distance')\\\n",
    "       .withColumnRenamed('min(Distance)', 'Merchant_min_distance')\n",
    "t6 = t4.groupby('Merchant_id').max('Distance')\\\n",
    "       .withColumnRenamed('max(Distance)', 'Merchant_max_distance')\n",
    "t7 = t4.groupby('Merchant_id').mean('Distance')\\\n",
    "       .withColumnRenamed('avg(Distance)', 'Merchant_mean_distance')\n",
    "med = expr('percentile_approx(Distance, 0.5)')\n",
    "t8 = t4.groupby('Merchant_id').agg(med.alias('Merchant_median_distance'))\n",
    "merchant1_feature = t.join(t1, 'Merchant_id')\\\n",
    "                     .join(t2, 'Merchant_id')\\\n",
    "                     .join(t3, 'Merchant_id')\\\n",
    "                     .join(t5, 'Merchant_id')\\\n",
    "                     .join(t6, 'Merchant_id')\\\n",
    "                     .join(t7, 'Merchant_id')\\\n",
    "                     .join(t8, 'Merchant_id')\n",
    "merchant1_feature = merchant1_feature.withColumn('Merchant_coupon_transfer_rate', (col('Sales_use_coupon')\\\n",
    "                 .cast(FloatType())) / merchant1_feature.Total_coupon)\n",
    "merchant1_feature = merchant1_feature.withColumn('Coupon_rate', (col('Sales_use_coupon').cast(FloatType()))\\\n",
    "                                                 /  merchant1_feature.Total_sales)\n",
    "merchant1_feature.repartition(1).write.csv('merchant1_feature', header = True)"
   ]
  },
  {
   "cell_type": "code",
   "execution_count": null,
   "metadata": {},
   "outputs": [],
   "source": []
  }
 ],
 "metadata": {
  "kernelspec": {
   "display_name": "Python 3",
   "language": "python",
   "name": "python3"
  },
  "language_info": {
   "codemirror_mode": {
    "name": "ipython",
    "version": 3
   },
   "file_extension": ".py",
   "mimetype": "text/x-python",
   "name": "python",
   "nbconvert_exporter": "python",
   "pygments_lexer": "ipython3",
   "version": "3.8.3"
  }
 },
 "nbformat": 4,
 "nbformat_minor": 4
}
