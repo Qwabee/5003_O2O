{
 "cells": [
  {
   "cell_type": "code",
   "execution_count": 1,
   "metadata": {},
   "outputs": [
    {
     "name": "stderr",
     "output_type": "stream",
     "text": [
      "/home/msbd5003/spark/python/pyspark/context.py:220: DeprecationWarning: Support for Python 2 and Python 3 prior to version 3.6 is deprecated as of Spark 3.0. See also the plan for dropping Python 2 support at https://spark.apache.org/news/plan-for-dropping-python-2-support.html.\n",
      "  DeprecationWarning)\n"
     ]
    }
   ],
   "source": [
    "import findspark\n",
    "findspark.add_packages(\"graphframes:graphframes:0.8.0-spark3.0-s_2.12\")\n",
    "findspark.init()\n",
    "import pyspark\n",
    "import os\n",
    "os.environ['PYSPARK_SUBMIT_ARGS']=\"--master local[2] pyspark-shell\"\n",
    "sc = pyspark.SparkContext(appName = \"MyAPP\")\n",
    "from pyspark.sql.functions import *\n",
    "from pyspark.sql.session import SparkSession\n",
    "spark = SparkSession(sc)\n",
    "sc.addPyFile('/home/msbd5003/graphframes-0.8.0-spark3.0-s_2.12.jar')"
   ]
  },
  {
   "cell_type": "code",
   "execution_count": 28,
   "metadata": {},
   "outputs": [],
   "source": [
    "from pyspark.ml import Pipeline\n",
    "from pyspark.ml.linalg import Vectors\n",
    "from pyspark.ml.classification import LogisticRegression\n",
    "from pyspark.ml.feature import *\n",
    "from pyspark.ml.evaluation import BinaryClassificationEvaluator\n",
    "from pyspark.ml.tuning import CrossValidator, ParamGridBuilder\n",
    "import pandas as pd\n",
    "import numpy as np\n",
    "from datetime import date\n",
    "from pyspark.sql.types import FloatType\n",
    "from pyspark.sql.types import StringType\n",
    "from pyspark.sql.types import IntegerType\n"
   ]
  },
  {
   "cell_type": "code",
   "execution_count": 29,
   "metadata": {},
   "outputs": [],
   "source": [
    "from pyspark.sql import Row\n",
    "from pyspark.sql.functions import *\n",
    "from pyspark.sql.types import *"
   ]
  },
  {
   "cell_type": "code",
   "execution_count": 30,
   "metadata": {},
   "outputs": [
    {
     "name": "stdout",
     "output_type": "stream",
     "text": [
      "1994\n",
      "5594\n",
      "['User_id', 'Date_received', 'Discount_rate', 'Distance', 'Day_of_mouth', 'Days_distance', 'Total_sales', 'Sales_use_coupon', 'Total_coupon', 'Merchant_min_distance', 'Merchant_max_distance', 'Merchant_mean_distance', 'Merchant_median_distance', 'Merchant_coupon_transfer_rate', 'Coupon_rate', 'count_merchant', 'user_min_distance', 'user_max_distance', 'user_mean_distance', 'user_median_distance', 'buy_use_coupon', 'buy_total', 'coupon_received', 'avg_user_date_datereceived_gap', 'min_user_date_datereceived_gap', 'max_user_date_datereceived_gap', 'buy_use_coupon_rate', 'user_coupon_transfer_rate', 'User_merchant_buy_total', 'User_merchant_received', 'User_merchant_buy_use_coupon', 'User_merchant_any', 'User_merchant_buy_common', 'User_merchant_coupon_transfer_rate', 'User_merchant_coupon_buy_rate', 'User_merchant_coupon_rate', 'User_merchant_coupon_common_rate', 'Month_Receive_same_coupon_count', 'Month_Receive_all_coupon_count', 'Month_same_coupon_lastone', 'Month_same_coupon_firstone', 'Day_Receive_all_coupon_count', 'Day_Receive_same_coupon_count', 'Label_user_merchant_coupon_count', 'Label_merchant_coupon_count', 'Coupon_count_later', 'Is_weekend', 'Weekday1', 'Weekday2', 'Weekday3', 'Weekday4', 'Weekday5', 'Weekday6', 'Weekday7', 'Label']\n",
      "55\n",
      "55\n"
     ]
    }
   ],
   "source": [
    "dataset1 = spark.read.csv('data/dataset1.csv',header=True, inferSchema=True)\n",
    "dataset2 = spark.read.csv('data/dataset2.csv',header=True, inferSchema=True)\n",
    "#dataset3 is for competition\n",
    "#dataset3 = spark.read.csv('data/dataset3.csv',header=True, inferSchema=True)\n",
    "\n",
    "print(dataset1.count())\n",
    "print(dataset2.count())\n",
    "print(dataset1.columns)\n",
    "print(len(dataset1.columns))\n",
    "print(len(dataset2.columns))"
   ]
  },
  {
   "cell_type": "code",
   "execution_count": 31,
   "metadata": {},
   "outputs": [
    {
     "name": "stdout",
     "output_type": "stream",
     "text": [
      "1994\n",
      "5594\n"
     ]
    }
   ],
   "source": [
    "minus_to_zero = udf(lambda x : 0 if x == -1 else x)\n",
    "\n",
    "#for regression, label only 1 or 0\n",
    "dataset1 = dataset1.withColumn('Label',minus_to_zero(col('Label'))) \n",
    "dataset2 = dataset2.withColumn('Label',minus_to_zero(col('Label'))) \n",
    "print(dataset1.count())\n",
    "print(dataset2.count())"
   ]
  },
  {
   "cell_type": "code",
   "execution_count": 32,
   "metadata": {},
   "outputs": [
    {
     "name": "stdout",
     "output_type": "stream",
     "text": [
      "+-------------+\n",
      "|Discount_rate|\n",
      "+-------------+\n",
      "|        20:05|\n",
      "|    100:30:00|\n",
      "|        20:01|\n",
      "|        20:01|\n",
      "|    100:10:00|\n",
      "|     30:10:00|\n",
      "|        20:01|\n",
      "|        20:01|\n",
      "|        20:01|\n",
      "|        10:01|\n",
      "|        20:05|\n",
      "|          0.8|\n",
      "|    100:30:00|\n",
      "|        10:05|\n",
      "|     30:05:00|\n",
      "|        10:01|\n",
      "|        20:05|\n",
      "|     30:05:00|\n",
      "|     50:05:00|\n",
      "|        10:01|\n",
      "+-------------+\n",
      "only showing top 20 rows\n",
      "\n",
      "+------------------+\n",
      "|     Discount_rate|\n",
      "+------------------+\n",
      "|              0.75|\n",
      "|               0.7|\n",
      "|              0.95|\n",
      "|              0.95|\n",
      "|               0.9|\n",
      "|0.6666666666666667|\n",
      "|              0.95|\n",
      "|              0.95|\n",
      "|              0.95|\n",
      "|               0.9|\n",
      "|              0.75|\n",
      "|               0.8|\n",
      "|               0.7|\n",
      "|               0.5|\n",
      "|0.8333333333333334|\n",
      "|               0.9|\n",
      "|              0.75|\n",
      "|0.8333333333333334|\n",
      "|               0.9|\n",
      "|               0.9|\n",
      "+------------------+\n",
      "only showing top 20 rows\n",
      "\n",
      "root\n",
      " |-- User_id: double (nullable = true)\n",
      " |-- Date_received: double (nullable = true)\n",
      " |-- Discount_rate: double (nullable = true)\n",
      " |-- Distance: double (nullable = true)\n",
      " |-- Day_of_mouth: double (nullable = true)\n",
      " |-- Days_distance: double (nullable = true)\n",
      " |-- Total_sales: double (nullable = true)\n",
      " |-- Sales_use_coupon: double (nullable = true)\n",
      " |-- Total_coupon: double (nullable = true)\n",
      " |-- Merchant_min_distance: double (nullable = true)\n",
      " |-- Merchant_max_distance: double (nullable = true)\n",
      " |-- Merchant_mean_distance: double (nullable = true)\n",
      " |-- Merchant_median_distance: double (nullable = true)\n",
      " |-- Merchant_coupon_transfer_rate: double (nullable = true)\n",
      " |-- Coupon_rate: double (nullable = true)\n",
      " |-- count_merchant: double (nullable = true)\n",
      " |-- user_min_distance: double (nullable = true)\n",
      " |-- user_max_distance: double (nullable = true)\n",
      " |-- user_mean_distance: double (nullable = true)\n",
      " |-- user_median_distance: double (nullable = true)\n",
      " |-- buy_use_coupon: double (nullable = true)\n",
      " |-- buy_total: double (nullable = true)\n",
      " |-- coupon_received: double (nullable = true)\n",
      " |-- avg_user_date_datereceived_gap: double (nullable = true)\n",
      " |-- min_user_date_datereceived_gap: double (nullable = true)\n",
      " |-- max_user_date_datereceived_gap: double (nullable = true)\n",
      " |-- buy_use_coupon_rate: double (nullable = true)\n",
      " |-- user_coupon_transfer_rate: double (nullable = true)\n",
      " |-- User_merchant_buy_total: double (nullable = true)\n",
      " |-- User_merchant_received: double (nullable = true)\n",
      " |-- User_merchant_buy_use_coupon: double (nullable = true)\n",
      " |-- User_merchant_any: double (nullable = true)\n",
      " |-- User_merchant_buy_common: double (nullable = true)\n",
      " |-- User_merchant_coupon_transfer_rate: double (nullable = true)\n",
      " |-- User_merchant_coupon_buy_rate: double (nullable = true)\n",
      " |-- User_merchant_coupon_rate: double (nullable = true)\n",
      " |-- User_merchant_coupon_common_rate: double (nullable = true)\n",
      " |-- Label_user_merchant_coupon_count: double (nullable = true)\n",
      " |-- Label_merchant_coupon_count: double (nullable = true)\n",
      " |-- Coupon_count_later: double (nullable = true)\n",
      " |-- Month_Receive_same_coupon_count: double (nullable = true)\n",
      " |-- Month_Receive_all_coupon_count: double (nullable = true)\n",
      " |-- Month_same_coupon_lastone: double (nullable = true)\n",
      " |-- Month_same_coupon_firstone: double (nullable = true)\n",
      " |-- Day_Receive_all_coupon_count: double (nullable = true)\n",
      " |-- Day_Receive_same_coupon_count: double (nullable = true)\n",
      " |-- Is_weekend: double (nullable = true)\n",
      " |-- Weekday1: double (nullable = true)\n",
      " |-- Weekday2: double (nullable = true)\n",
      " |-- Weekday3: double (nullable = true)\n",
      " |-- Weekday4: double (nullable = true)\n",
      " |-- Weekday5: double (nullable = true)\n",
      " |-- Weekday6: double (nullable = true)\n",
      " |-- Weekday7: double (nullable = true)\n",
      " |-- Label: double (nullable = true)\n",
      "\n",
      "7588\n",
      "55\n"
     ]
    }
   ],
   "source": [
    "\n",
    "\n",
    "def cal_discount_rate(s):\n",
    "    s =str(s)\n",
    "    s = s.split(':')\n",
    "    \n",
    "    if len(s)==1:\n",
    "        #print(s[0])\n",
    "        return float(s[0])\n",
    "    else:\n",
    "        return float(1.0-float(s[1])/float(s[0]))\n",
    "    \n",
    "calc_discount_rate = udf(lambda x : cal_discount_rate(x))\n",
    "\n",
    "check_not_float = udf(lambda x : x if type(x) == float else float(x))\n",
    "    \n",
    "dataset_train = dataset2.union(dataset1)\n",
    "#dataset_train = dataset_train.replace\n",
    "dataset_train = dataset_train.withColumn('Distance',col('Distance').cast(IntegerType()))\n",
    "dataset_train.select('Discount_rate').show()\n",
    "dataset_train = dataset_train.withColumn('Discount_rate',calc_discount_rate(col('Discount_rate')))\n",
    "dataset_train = dataset_train.withColumn('Discount_rate',check_not_float(col('Discount_rate')))\n",
    "\n",
    "from pyspark.sql.types import DoubleType\n",
    "dataset_train = dataset_train.withColumn('Discount_rate',col('Discount_rate').cast(DoubleType()))\n",
    "dataset_train = dataset_train.select([col(c).cast(DoubleType()) for c in dataset_train.columns])\n",
    "\n",
    "dataset_train.select('Discount_rate').show()\n",
    "dataset_train.printSchema()\n",
    "print(dataset_train.count())\n",
    "print(len(dataset_train.columns))\n",
    "\n"
   ]
  },
  {
   "cell_type": "code",
   "execution_count": 33,
   "metadata": {},
   "outputs": [
    {
     "name": "stdout",
     "output_type": "stream",
     "text": [
      "7588\n",
      "['Date_received', 'Discount_rate', 'Distance', 'Day_of_mouth', 'Days_distance', 'Total_sales', 'Sales_use_coupon', 'Total_coupon', 'Merchant_min_distance', 'Merchant_max_distance', 'Merchant_mean_distance', 'Merchant_median_distance', 'Merchant_coupon_transfer_rate', 'Coupon_rate', 'count_merchant', 'user_min_distance', 'user_max_distance', 'user_mean_distance', 'user_median_distance', 'buy_use_coupon', 'buy_total', 'coupon_received', 'avg_user_date_datereceived_gap', 'min_user_date_datereceived_gap', 'max_user_date_datereceived_gap', 'buy_use_coupon_rate', 'user_coupon_transfer_rate', 'User_merchant_buy_total', 'User_merchant_received', 'User_merchant_buy_use_coupon', 'User_merchant_any', 'User_merchant_buy_common', 'User_merchant_coupon_transfer_rate', 'User_merchant_coupon_buy_rate', 'User_merchant_coupon_rate', 'User_merchant_coupon_common_rate', 'Label_user_merchant_coupon_count', 'Label_merchant_coupon_count', 'Coupon_count_later', 'Month_Receive_same_coupon_count', 'Month_Receive_all_coupon_count', 'Month_same_coupon_lastone', 'Month_same_coupon_firstone', 'Day_Receive_all_coupon_count', 'Day_Receive_same_coupon_count', 'Is_weekend', 'Weekday1', 'Weekday2', 'Weekday3', 'Weekday4', 'Weekday5', 'Weekday6', 'Weekday7', 'Label']\n"
     ]
    }
   ],
   "source": [
    "drop_list = ['User_id']\n",
    "dataset_train = dataset_train.drop(*drop_list)\n",
    "print(dataset_train.count())\n",
    "print(dataset_train.columns)"
   ]
  },
  {
   "cell_type": "code",
   "execution_count": 34,
   "metadata": {},
   "outputs": [],
   "source": [
    "col_list = ['Date_received', 'Discount_rate', 'Distance', 'Day_of_mouth', 'Days_distance', 'Total_sales', 'Sales_use_coupon', 'Total_coupon', 'Merchant_min_distance', 'Merchant_max_distance', 'Merchant_mean_distance', 'Merchant_median_distance', 'Merchant_coupon_transfer_rate', 'Coupon_rate', 'count_merchant', 'user_min_distance', 'user_max_distance', 'user_mean_distance', 'user_median_distance', 'buy_use_coupon', 'buy_total', 'coupon_received', 'avg_user_date_datereceived_gap', 'min_user_date_datereceived_gap', 'max_user_date_datereceived_gap', 'buy_use_coupon_rate', 'user_coupon_transfer_rate', 'User_merchant_buy_total', 'User_merchant_received', 'User_merchant_buy_use_coupon', 'User_merchant_any', 'User_merchant_buy_common', 'User_merchant_coupon_transfer_rate', 'User_merchant_coupon_buy_rate', 'User_merchant_coupon_rate', 'User_merchant_coupon_common_rate', 'Label_user_merchant_coupon_count', 'Label_merchant_coupon_count', 'Coupon_count_later', 'Month_Receive_same_coupon_count', 'Month_Receive_all_coupon_count', 'Month_same_coupon_lastone', 'Month_same_coupon_firstone', 'Day_Receive_all_coupon_count', 'Day_Receive_same_coupon_count', 'Is_weekend', 'Weekday1', 'Weekday2', 'Weekday3', 'Weekday4', 'Weekday5', 'Weekday6', 'Weekday7']\n",
    "col_list_not_rate_distance = ['Date_received','Day_of_mouth', 'Days_distance', 'Total_sales', 'Sales_use_coupon', 'Total_coupon', 'Merchant_min_distance', 'Merchant_max_distance', 'Merchant_mean_distance', 'Merchant_median_distance', 'Merchant_coupon_transfer_rate', 'Coupon_rate', 'count_merchant', 'user_min_distance', 'user_max_distance', 'user_mean_distance', 'user_median_distance', 'buy_use_coupon', 'buy_total', 'coupon_received', 'avg_user_date_datereceived_gap', 'min_user_date_datereceived_gap', 'max_user_date_datereceived_gap', 'buy_use_coupon_rate', 'user_coupon_transfer_rate', 'User_merchant_buy_total', 'User_merchant_received', 'User_merchant_buy_use_coupon', 'User_merchant_any', 'User_merchant_buy_common', 'User_merchant_coupon_transfer_rate', 'User_merchant_coupon_buy_rate', 'User_merchant_coupon_rate', 'User_merchant_coupon_common_rate', 'Label_user_merchant_coupon_count', 'Label_merchant_coupon_count', 'Coupon_count_later', 'Month_Receive_same_coupon_count', 'Month_Receive_all_coupon_count', 'Month_same_coupon_lastone', 'Month_same_coupon_firstone', 'Day_Receive_all_coupon_count', 'Day_Receive_same_coupon_count', 'Is_weekend', 'Weekday1', 'Weekday2', 'Weekday3', 'Weekday4', 'Weekday5', 'Weekday6', 'Weekday7']"
   ]
  },
  {
   "cell_type": "code",
   "execution_count": 35,
   "metadata": {},
   "outputs": [
    {
     "name": "stdout",
     "output_type": "stream",
     "text": [
      "6945\n",
      "root\n",
      " |-- Label: double (nullable = true)\n",
      " |-- features: vector (nullable = true)\n",
      "\n",
      "+-----+--------------------+\n",
      "|Label|            features|\n",
      "+-----+--------------------+\n",
      "|  1.0|[2.0160521E7,0.75...|\n",
      "|  0.0|[2.0160521E7,0.7,...|\n",
      "|  0.0|[2.0160516E7,0.95...|\n",
      "|  0.0|[2.016061E7,0.95,...|\n",
      "|  0.0|[2.0160525E7,0.9,...|\n",
      "|  0.0|[2.016053E7,0.666...|\n",
      "|  1.0|[2.0160516E7,0.95...|\n",
      "|  0.0|[2.016053E7,0.95,...|\n",
      "|  0.0|[2.0160522E7,0.75...|\n",
      "|  0.0|[2.0160613E7,0.8,...|\n",
      "|  0.0|[2.0160525E7,0.7,...|\n",
      "|  0.0|[2.0160525E7,0.5,...|\n",
      "|  1.0|[2.0160602E7,0.83...|\n",
      "|  0.0|[2.0160515E7,0.9,...|\n",
      "|  0.0|[2.0160525E7,0.75...|\n",
      "|  0.0|[2.0160615E7,0.83...|\n",
      "|  1.0|[2.0160522E7,0.9,...|\n",
      "|  1.0|[2.0160525E7,0.9,...|\n",
      "|  0.0|[2.0160517E7,0.83...|\n",
      "|  1.0|[2.0160525E7,0.83...|\n",
      "+-----+--------------------+\n",
      "only showing top 20 rows\n",
      "\n"
     ]
    }
   ],
   "source": [
    "from pyspark.ml.linalg import Vectors\n",
    "from pyspark.ml.feature import VectorAssembler\n",
    "\n",
    "assembler = VectorAssembler(inputCols=col_list, outputCol = 'features', handleInvalid='skip')\n",
    "#assembler = VectorAssembler(inputCols=col_list, outputCol = 'features', handleInvalid='keep')\n",
    "#assembler = VectorAssembler(inputCols=col_list_not_rate, outputCol = 'features')\n",
    "#print(dataset_train.count())\n",
    "dataset_train = assembler.transform(dataset_train)\n",
    "dataset_train = dataset_train.drop(*col_list)\n",
    "print(dataset_train.count())\n",
    "dataset_train.printSchema()\n",
    "dataset_train.show()\n",
    "#dataset_train_ass.select('features').show(10,False)"
   ]
  },
  {
   "cell_type": "code",
   "execution_count": 36,
   "metadata": {},
   "outputs": [],
   "source": [
    "\n",
    "#train validation test 0.8:0.1:0.1  seed 1\n",
    "#rdd_dataset = dataset_train.randomSplit([0.8,0.1,0.1],1)\n",
    "rdd_dataset = dataset_train.randomSplit([0.9,0.1],1)\n",
    "#dataset3 is testing data set\n",
    "#feature_list = rdd_dataset[0].columns\n",
    "#feature_list.remove('Label')\n",
    "#rdd_dataset[0] = rdd_dataset[0].withColumn('features', concat_ws(\",\",array(*feature_list))).drop(*feature_list)\n",
    "#print(rdd_dataset[0].count())\n",
    "#rdd_dataset[0].show(5)\n"
   ]
  },
  {
   "cell_type": "code",
   "execution_count": 37,
   "metadata": {},
   "outputs": [],
   "source": [
    "lr = LogisticRegression(maxIter=1000, regParam=0.01, labelCol = 'Label')"
   ]
  },
  {
   "cell_type": "code",
   "execution_count": 38,
   "metadata": {},
   "outputs": [
    {
     "name": "stdout",
     "output_type": "stream",
     "text": [
      "root\n",
      " |-- Label: double (nullable = true)\n",
      " |-- features: vector (nullable = true)\n",
      "\n"
     ]
    }
   ],
   "source": [
    "rdd_dataset[0].printSchema()\n",
    "model1 = lr.fit(rdd_dataset[0])"
   ]
  },
  {
   "cell_type": "code",
   "execution_count": 39,
   "metadata": {},
   "outputs": [
    {
     "name": "stdout",
     "output_type": "stream",
     "text": [
      "root\n",
      " |-- Label: double (nullable = true)\n",
      " |-- features: vector (nullable = true)\n",
      " |-- rawPrediction: vector (nullable = true)\n",
      " |-- probability: vector (nullable = true)\n",
      " |-- prediction: double (nullable = false)\n",
      "\n",
      "There were 688 inspections and there were 489 successful predictions\n",
      "This is a 71% success rate\n"
     ]
    }
   ],
   "source": [
    "prediction_v = model1.transform(rdd_dataset[1])\n",
    "prediction_v.printSchema()\n",
    "numSuccesses = prediction_v.where('Label == prediction').count()\n",
    "\n",
    "\n",
    "numInspections = prediction_v.count()\n",
    "\n",
    "print (\"There were %d inspections and there were %d successful predictions\" % (numInspections, numSuccesses))\n",
    "print(\"This is a %d%% success rate\" % (float(numSuccesses) / float(numInspections) * 100))\n",
    "\n",
    "#prediction_t = model1.transform(rdd_dataset[2])\n",
    "#numSuccesses = prediction_t.where('Label == prediction').count()\n",
    "#numInspections = prediction_t.count()\n",
    "#print (\"There were %d inspections and there were %d successful predictions\" % (numInspections, numSuccesses))\n",
    "#print(\"This is a %d%% success rate\" % (float(numSuccesses) / float(numInspections) * 100))"
   ]
  },
  {
   "cell_type": "code",
   "execution_count": null,
   "metadata": {},
   "outputs": [],
   "source": []
  }
 ],
 "metadata": {
  "kernelspec": {
   "display_name": "Python 3",
   "language": "python",
   "name": "python3"
  },
  "language_info": {
   "codemirror_mode": {
    "name": "ipython",
    "version": 3
   },
   "file_extension": ".py",
   "mimetype": "text/x-python",
   "name": "python",
   "nbconvert_exporter": "python",
   "pygments_lexer": "ipython3",
   "version": "3.5.2"
  }
 },
 "nbformat": 4,
 "nbformat_minor": 4
}
