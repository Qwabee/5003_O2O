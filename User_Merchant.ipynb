{
 "cells": [
  {
   "cell_type": "code",
   "execution_count": 1,
   "metadata": {},
   "outputs": [
    {
     "name": "stderr",
     "output_type": "stream",
     "text": [
      "/home/msbd5003/spark/python/pyspark/context.py:220: DeprecationWarning: Support for Python 2 and Python 3 prior to version 3.6 is deprecated as of Spark 3.0. See also the plan for dropping Python 2 support at https://spark.apache.org/news/plan-for-dropping-python-2-support.html.\n",
      "  DeprecationWarning)\n"
     ]
    }
   ],
   "source": [
    "import findspark\n",
    "findspark.add_packages(\"graphframes:graphframes:0.8.0-spark3.0-s_2.12\")\n",
    "findspark.init()\n",
    "import pyspark\n",
    "import os\n",
    "os.environ['PYSPARK_SUBMIT_ARGS']=\"--master local[2] pyspark-shell\"\n",
    "sc = pyspark.SparkContext(appName = \"MyAPP\")\n",
    "from pyspark.sql.functions import *\n",
    "from pyspark.sql.session import SparkSession\n",
    "spark = SparkSession(sc)\n",
    "sc.addPyFile('/home/msbd5003/graphframes-0.8.0-spark3.0-s_2.12.jar')\n"
   ]
  },
  {
   "cell_type": "code",
   "execution_count": 2,
   "metadata": {},
   "outputs": [],
   "source": [
    "import pandas as pd\n",
    "import numpy as np\n",
    "from datetime import date\n",
    "from pyspark.sql.types import FloatType\n",
    "from pyspark.sql.types import StringType\n",
    "from pyspark.sql.types import IntegerType\n",
    "\n",
    "from pyspark.sql.functions import *"
   ]
  },
  {
   "cell_type": "code",
   "execution_count": 3,
   "metadata": {},
   "outputs": [],
   "source": [
    "off_train = spark.read.csv('ccf_offline_stage1_train.csv',header=True, inferSchema=True)\n",
    "off_train.header = ['User_id','Merchant_id','Coupon_id','Discount_rate','Distance','Date_received','Date']\n",
    "off_test = spark.read.csv('ccf_offline_stage1_test_revised.csv', header=True, inferSchema=True)\n",
    "off_test.header = ['User_id','Merchant_id','Coupon_id','Discount_rate','Distance','Date_received']\n",
    "on_train = spark.read.csv('ccf_online_stage1_train.csv', header= True, inferSchema=True)\n",
    "on_train.header = ['User_id','Merchant_id','Action','Coupon_id','Discount_rate','Date_received','Date']"
   ]
  },
  {
   "cell_type": "code",
   "execution_count": 4,
   "metadata": {},
   "outputs": [],
   "source": [
    "dataset3 = off_test\n",
    "feature3 = off_train.where(((off_train.Date>='20160315') & (off_train.Date<='20160630')) \\\n",
    "                                   | ((off_train.Date=='null' )& (off_train.Date_received>='20160315') & (off_train.Date_received<='20160630')))\\\n",
    "                              .select('*')\n",
    "dataset2 =  off_train.where((off_train.Date_received>='20160515')&(off_train.Date_received<='20160615'))\\\n",
    "                    .select('*')\n",
    "feature2 = off_train.where((off_train.Date>='20160201')&(off_train.Date<='20160514')\\\n",
    "                           |((off_train.Date=='null')&(off_train.Date_received>='20160201')&(off_train.Date_received<='20160514')))\\\n",
    "                    .select('*')\n",
    "dataset1 = off_train.where((off_train.Date_received>='20160414')&(off_train.Date_received<='20160514'))\\\n",
    "                    .select('*')\n",
    "feature1 = off_train.where((off_train.Date>='20160101')&(off_train.Date<='20160413')\\\n",
    "                           |((off_train.Date=='null')&(off_train.Date_received>='20160101')&(off_train.Date_received<='20160413')))\\\n",
    "                    .select('*')"
   ]
  },
  {
   "cell_type": "code",
   "execution_count": 5,
   "metadata": {},
   "outputs": [
    {
     "name": "stdout",
     "output_type": "stream",
     "text": [
      "1036975\n",
      "258446\n",
      "812779\n",
      "137167\n",
      "995240\n"
     ]
    }
   ],
   "source": [
    "print(feature3.count())\n",
    "print(dataset2.count())\n",
    "print(feature2.count())\n",
    "print(dataset1.count())\n",
    "print(feature1.count())"
   ]
  },
  {
   "cell_type": "code",
   "execution_count": 6,
   "metadata": {
    "scrolled": true
   },
   "outputs": [
    {
     "name": "stdout",
     "output_type": "stream",
     "text": [
      "491819\n"
     ]
    }
   ],
   "source": [
    "\n",
    "all_u_m = feature3.select('User_id','Merchant_id').distinct()\n",
    "print(all_u_m.count())\n",
    "\n",
    "#distinct = dropduplicates, can use keys seq[attributes]\n",
    "#all_u_m2 = feature3.select('User_id','Merchant_id').dropDuplicates()\n",
    "#print(all_u_m2.count())"
   ]
  },
  {
   "cell_type": "code",
   "execution_count": 7,
   "metadata": {},
   "outputs": [],
   "source": [
    "t = feature3.select('User_id','Merchant_id','Date')\n",
    "t = t.select('User_id', 'Merchant_id')\\\n",
    "     .where(t.Date!='null')\\\n",
    "     .groupby('User_id', 'Merchant_id').count()\\\n",
    "     .withColumnRenamed('count', 'User_merchant_buy_total')\n",
    "\n",
    "t1 = feature3.select('User_id','Merchant_id','Coupon_id')\n",
    "t1 = t1.select('User_id', 'Merchant_id')\\\n",
    "     .where(t1.Coupon_id!='null')\\\n",
    "     .groupby('User_id', 'Merchant_id').count()\\\n",
    "     .withColumnRenamed('count', 'User_merchant_received')\n",
    "\n",
    "#t.show()\n",
    "#t1.show()\n",
    "\n",
    "t2 = feature3.select('User_id','Merchant_id','Date','Date_received')\n",
    "t2 = t2.select('User_id', 'Merchant_id')\\\n",
    "     .where((t2.Date!='null') & (t2.Date_received != 'null'))\\\n",
    "     .groupby('User_id', 'Merchant_id').count()\\\n",
    "     .withColumnRenamed('count', 'User_merchant_buy_use_coupon')\n",
    "\n",
    "t3 = feature3.select('User_id','Merchant_id','Date')\n",
    "t3 = t3.select('User_id', 'Merchant_id')\\\n",
    "     .groupby('User_id', 'Merchant_id').count()\\\n",
    "     .withColumnRenamed('count', 'User_merchant_any')\n",
    "\n",
    "t4 = feature3.select('User_id','Merchant_id','Date','Coupon_id')\n",
    "t4 = t4.select('User_id', 'Merchant_id')\\\n",
    "     .where((t4.Date!='null')& (t4.Coupon_id != 'null'))\\\n",
    "     .groupby('User_id', 'Merchant_id').count()\\\n",
    "     .withColumnRenamed('count', 'User_merchant_buy_common')"
   ]
  },
  {
   "cell_type": "code",
   "execution_count": 8,
   "metadata": {},
   "outputs": [],
   "source": [
    "user_merchant3 = all_u_m.join(t,['User_id','Merchant_id'])\n",
    "user_merchant3 = user_merchant3.join(t1,['User_id','Merchant_id'])\n",
    "user_merchant3 = user_merchant3.join(t2,['User_id','Merchant_id'])\n",
    "user_merchant3 = user_merchant3.join(t3,['User_id','Merchant_id'])\n",
    "user_merchant3 = user_merchant3.join(t4,['User_id','Merchant_id'])"
   ]
  },
  {
   "cell_type": "code",
   "execution_count": 10,
   "metadata": {},
   "outputs": [],
   "source": [
    "null_re = udf(lambda x: 0 if(x == 'null') else x)\n",
    "\n",
    "user_merchant3 = user_merchant3.withColumn('User_merchant_buy_use_coupon', null_re(col('user_merchant_buy_use_coupon')))\n",
    "user_merchant3 = user_merchant3.withColumn('User_merchant_buy_common', null_re(col('user_merchant_buy_common')))\n",
    "\n",
    "user_merchant3 = user_merchant3.withColumn('User_merchant_coupon_transfer_rate', lit(user_merchant3.User_merchant_buy_use_coupon\\\n",
    "                 .cast(FloatType()) / user_merchant3.User_merchant_received.cast(FloatType())))\n",
    "user_merchant3 = user_merchant3.withColumn('User_merchant_coupon_buy_rate', lit(user_merchant3.User_merchant_buy_use_coupon\\\n",
    "                 .cast(FloatType()) / user_merchant3.User_merchant_buy_total.cast(FloatType())))\n",
    "user_merchant3 = user_merchant3.withColumn('User_merchant_coupon_rate', lit(user_merchant3.User_merchant_buy_total\\\n",
    "                 .cast(FloatType()) / user_merchant3.User_merchant_any.cast(FloatType())))\n",
    "user_merchant3 = user_merchant3.withColumn('User_merchant_coupon_common_rate', lit(user_merchant3.User_merchant_buy_common\\\n",
    "                 .cast(FloatType()) / user_merchant3.User_merchant_buy_total.cast(FloatType())))\n",
    "\n",
    "\n",
    "user_merchant3.repartition(1).write.csv('user_merchant3.csv', header = True)"
   ]
  },
  {
   "cell_type": "code",
   "execution_count": 11,
   "metadata": {},
   "outputs": [],
   "source": [
    "all_u_m = feature2.select('User_id','Merchant_id').distinct()\n",
    "#print(all_u_m.count())\n",
    "\n",
    "t = feature2.select('User_id','Merchant_id','Date')\n",
    "t = t.select('User_id', 'Merchant_id')\\\n",
    "     .where(t.Date!='null')\\\n",
    "     .groupby('User_id', 'Merchant_id').count()\\\n",
    "     .withColumnRenamed('count', 'User_merchant_buy_total')\n",
    "\n",
    "t1 = feature2.select('User_id','Merchant_id','Coupon_id')\n",
    "t1 = t1.select('User_id', 'Merchant_id')\\\n",
    "     .where(t1.Coupon_id!='null')\\\n",
    "     .groupby('User_id', 'Merchant_id').count()\\\n",
    "     .withColumnRenamed('count', 'User_merchant_received')\n",
    "\n",
    "#t.show()\n",
    "#t1.show()\n",
    "\n",
    "t2 = feature2.select('User_id','Merchant_id','Date','Date_received')\n",
    "t2 = t2.select('User_id', 'Merchant_id')\\\n",
    "     .where((t2.Date!='null')& (t2.Date_received != 'null'))\\\n",
    "     .groupby('User_id', 'Merchant_id').count()\\\n",
    "     .withColumnRenamed('count', 'User_merchant_buy_use_coupon')\n",
    "\n",
    "t3 = feature2.select('User_id','Merchant_id','Date')\n",
    "t3 = t3.select('User_id', 'Merchant_id')\\\n",
    "     .groupby('User_id', 'Merchant_id').count()\\\n",
    "     .withColumnRenamed('count', 'User_merchant_any')\n",
    "\n",
    "t4 = feature2.select('User_id','Merchant_id','Date','Coupon_id')\n",
    "t4 = t4.select('User_id', 'Merchant_id')\\\n",
    "     .where((t4.Date!='null')& (t4.Coupon_id != 'null'))\\\n",
    "     .groupby('User_id', 'Merchant_id').count()\\\n",
    "     .withColumnRenamed('count', 'User_merchant_buy_common')"
   ]
  },
  {
   "cell_type": "code",
   "execution_count": 12,
   "metadata": {},
   "outputs": [],
   "source": [
    "user_merchant2 = all_u_m.join(t,['User_id','Merchant_id'])\n",
    "user_merchant2 = user_merchant2.join(t1,['User_id','Merchant_id'])\n",
    "user_merchant2 = user_merchant2.join(t2,['User_id','Merchant_id'])\n",
    "user_merchant2 = user_merchant2.join(t3,['User_id','Merchant_id'])\n",
    "user_merchant2 = user_merchant2.join(t4,['User_id','Merchant_id'])"
   ]
  },
  {
   "cell_type": "code",
   "execution_count": 13,
   "metadata": {},
   "outputs": [],
   "source": [
    "\n",
    "\n",
    "user_merchant2 = user_merchant2.withColumn('User_merchant_buy_use_coupon', null_re(col('user_merchant_buy_use_coupon')))\n",
    "user_merchant2 = user_merchant2.withColumn('User_merchant_buy_common', null_re(col('user_merchant_buy_common')))\n",
    "\n",
    "user_merchant2 = user_merchant2.withColumn('User_merchant_coupon_transfer_rate', lit(user_merchant2.User_merchant_buy_use_coupon\\\n",
    "                 .cast(FloatType()) / user_merchant2.User_merchant_received.cast(FloatType())))\n",
    "user_merchant2 = user_merchant2.withColumn('User_merchant_coupon_buy_rate', lit(user_merchant2.User_merchant_buy_use_coupon\\\n",
    "                 .cast(FloatType()) / user_merchant2.User_merchant_buy_total.cast(FloatType())))\n",
    "user_merchant2 = user_merchant2.withColumn('User_merchant_coupon_rate', lit(user_merchant2.User_merchant_buy_total\\\n",
    "                 .cast(FloatType()) / user_merchant2.User_merchant_any.cast(FloatType())))\n",
    "user_merchant2 = user_merchant2.withColumn('User_merchant_coupon_common_rate', lit(user_merchant2.User_merchant_buy_common\\\n",
    "                 .cast(FloatType()) / user_merchant2.User_merchant_buy_total.cast(FloatType())))\n",
    "\n",
    "user_merchant2.repartition(1).write.csv('user_merchant2.csv', header = True)"
   ]
  },
  {
   "cell_type": "code",
   "execution_count": 14,
   "metadata": {},
   "outputs": [],
   "source": [
    "all_u_m = feature1.select('User_id','Merchant_id').distinct()\n",
    "#print(all_u_m.count())\n",
    "\n",
    "t = feature1.select('User_id','Merchant_id','Date')\n",
    "t = t.select('User_id', 'Merchant_id')\\\n",
    "     .where(t.Date!='null')\\\n",
    "     .groupby('User_id', 'Merchant_id').count()\\\n",
    "     .withColumnRenamed('count', 'User_merchant_buy_total')\n",
    "\n",
    "t1 = feature1.select('User_id','Merchant_id','Coupon_id')\n",
    "t1 = t1.select('User_id', 'Merchant_id')\\\n",
    "     .where(t1.Coupon_id!='null')\\\n",
    "     .groupby('User_id', 'Merchant_id').count()\\\n",
    "     .withColumnRenamed('count', 'User_merchant_received')\n",
    "\n",
    "#t.show()\n",
    "#t1.show()\n",
    "\n",
    "t2 = feature1.select('User_id','Merchant_id','Date','Date_received')\n",
    "t2 = t2.select('User_id', 'Merchant_id')\\\n",
    "     .where((t2.Date!='null')& (t2.Date_received != 'null'))\\\n",
    "     .groupby('User_id', 'Merchant_id').count()\\\n",
    "     .withColumnRenamed('count', 'User_merchant_buy_use_coupon')\n",
    "\n",
    "t3 = feature1.select('User_id','Merchant_id','Date')\n",
    "t3 = t3.select('User_id', 'Merchant_id')\\\n",
    "     .groupby('User_id', 'Merchant_id').count()\\\n",
    "     .withColumnRenamed('count', 'User_merchant_any')\n",
    "\n",
    "t4 = feature1.select('User_id','Merchant_id','Date','Coupon_id')\n",
    "t4 = t4.select('User_id', 'Merchant_id')\\\n",
    "     .where((t4.Date!='null')& (t4.Coupon_id != 'null'))\\\n",
    "     .groupby('User_id', 'Merchant_id').count()\\\n",
    "     .withColumnRenamed('count', 'User_merchant_buy_common')"
   ]
  },
  {
   "cell_type": "code",
   "execution_count": 15,
   "metadata": {},
   "outputs": [],
   "source": [
    "user_merchant1 = all_u_m.join(t,['User_id','Merchant_id'])\n",
    "user_merchant1 = user_merchant1.join(t1,['User_id','Merchant_id'])\n",
    "user_merchant1 = user_merchant1.join(t2,['User_id','Merchant_id'])\n",
    "user_merchant1 = user_merchant1.join(t3,['User_id','Merchant_id'])\n",
    "user_merchant1 = user_merchant1.join(t4,['User_id','Merchant_id'])"
   ]
  },
  {
   "cell_type": "code",
   "execution_count": 16,
   "metadata": {},
   "outputs": [],
   "source": [
    "\n",
    "\n",
    "user_merchant1 = user_merchant1.withColumn('User_merchant_buy_use_coupon', null_re(col('user_merchant_buy_use_coupon')))\n",
    "user_merchant1 = user_merchant1.withColumn('User_merchant_buy_common', null_re(col('user_merchant_buy_common')))\n",
    "\n",
    "user_merchant1 = user_merchant1.withColumn('User_merchant_coupon_transfer_rate', lit(user_merchant1.User_merchant_buy_use_coupon\\\n",
    "                 .cast(FloatType()) / user_merchant1.User_merchant_received.cast(FloatType())))\n",
    "user_merchant1 = user_merchant1.withColumn('User_merchant_coupon_buy_rate', lit(user_merchant1.User_merchant_buy_use_coupon\\\n",
    "                 .cast(FloatType()) / user_merchant1.User_merchant_buy_total.cast(FloatType())))\n",
    "user_merchant1 = user_merchant1.withColumn('User_merchant_coupon_rate', lit(user_merchant1.User_merchant_buy_total\\\n",
    "                 .cast(FloatType()) / user_merchant1.User_merchant_any.cast(FloatType())))\n",
    "user_merchant1 = user_merchant1.withColumn('User_merchant_coupon_common_rate', lit(user_merchant1.User_merchant_buy_common\\\n",
    "                 .cast(FloatType()) / user_merchant1.User_merchant_buy_total.cast(FloatType())))\n",
    "\n",
    "\n",
    "user_merchant1.repartition(1).write.csv('user_merchant1.csv', header = True)"
   ]
  },
  {
   "cell_type": "code",
   "execution_count": null,
   "metadata": {},
   "outputs": [],
   "source": []
  },
  {
   "cell_type": "code",
   "execution_count": null,
   "metadata": {},
   "outputs": [],
   "source": []
  }
 ],
 "metadata": {
  "kernelspec": {
   "display_name": "Python 3",
   "language": "python",
   "name": "python3"
  },
  "language_info": {
   "codemirror_mode": {
    "name": "ipython",
    "version": 3
   },
   "file_extension": ".py",
   "mimetype": "text/x-python",
   "name": "python",
   "nbconvert_exporter": "python",
   "pygments_lexer": "ipython3",
   "version": "3.5.2"
  }
 },
 "nbformat": 4,
 "nbformat_minor": 4
}
