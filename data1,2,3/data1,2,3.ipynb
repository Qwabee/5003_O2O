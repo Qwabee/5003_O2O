{
 "cells": [
  {
   "cell_type": "code",
   "execution_count": 1,
   "metadata": {},
   "outputs": [],
   "source": [
    "from pyspark.sql.functions import *\n",
    "from pyspark.sql.types import FloatType\n",
    "from pyspark.sql.types import StringType\n",
    "from pyspark.sql.types import IntegerType\n",
    "\n",
    "\n",
    "off_train = spark.read.csv('ccf_offline_stage1_train.csv', header=True, inferSchema=True)\n",
    "off_test = spark.read.csv('ccf_offline_stage1_test_revised.csv', header = True, inferSchema=True)\n",
    "on_train = spark.read.csv('ccf_online_stage1_train.csv', header = True, inferSchema = True)"
   ]
  },
  {
   "cell_type": "code",
   "execution_count": 2,
   "metadata": {},
   "outputs": [],
   "source": [
    "dataset3 = off_test\n",
    "feature3 = off_train.filter(((off_train.Date>='20160315')&(off_train.Date<='20160630'))\\\n",
    "                           |((off_train.Date=='null') & (off_train.Date_received>='20160315')&(off_train.Date_received<='20160630')))\\\n",
    "                        .select('*')\n",
    "dataset2 = off_train.filter((off_train.Date_received>='20160515')&(off_train.Date_received<='20160615')).select('*')\n",
    "feature2 = off_train.filter((off_train.Date>='20160201')&(off_train.Date<='20160514')|((off_train.Date=='null')&(off_train.Date_received>='20160201')&(off_train.Date_received<='20160514'))).select('*')\n",
    "dataset1 = off_train.filter((off_train.Date_received>='20160414')&(off_train.Date_received<='20160514')).select('*')\n",
    "feature1 = off_train.filter((off_train.Date>='20160101')&(off_train.Date<='20160413')|((off_train.Date=='null')&(off_train.Date_received>='20160101')&(off_train.Date_received<='20160413'))).select('*')"
   ]
  },
  {
   "cell_type": "code",
   "execution_count": 3,
   "metadata": {},
   "outputs": [
    {
     "name": "stdout",
     "output_type": "stream",
     "text": [
      "+-------+-----------+---------+-------------+--------+-------------+\n",
      "|User_id|Merchant_id|Coupon_id|Discount_rate|Distance|Date_received|\n",
      "+-------+-----------+---------+-------------+--------+-------------+\n",
      "|4129537|        450|     9983|         30:5|       1|     20160712|\n",
      "|6949378|       1300|     3429|         30:5|    null|     20160706|\n",
      "|2166529|       7113|     6928|       200:20|       5|     20160727|\n",
      "|2166529|       7113|     1808|       100:10|       5|     20160727|\n",
      "|6172162|       7605|     6500|         30:1|       2|     20160708|\n",
      "|4005121|        450|     9983|         30:5|       0|     20160706|\n",
      "|4347394|        450|     9983|         30:5|       0|     20160716|\n",
      "|3094273|        760|    13602|         30:5|       1|     20160727|\n",
      "|5139970|        450|     9983|         30:5|      10|     20160729|\n",
      "|3237121|        760|    13602|         30:5|       1|     20160703|\n",
      "|6224386|        450|     9983|         30:5|       3|     20160716|\n",
      "|6488578|        760|    13602|         30:5|       0|     20160712|\n",
      "|4164865|        450|     9983|         30:5|       2|     20160703|\n",
      "|4164865|       5138|     8059|        50:10|       1|     20160706|\n",
      "|5468674|        450|     9983|         30:5|    null|     20160713|\n",
      "|6258178|       7024|     9144|         10:1|       0|     20160706|\n",
      "|3659521|       6000|     7341|       150:30|       6|     20160727|\n",
      "|3659521|       2436|    13181|         20:1|       3|     20160717|\n",
      "|3659521|        760|    13602|         30:5|       0|     20160718|\n",
      "|7333378|        760|    13602|         30:5|       0|     20160704|\n",
      "+-------+-----------+---------+-------------+--------+-------------+\n",
      "only showing top 20 rows\n",
      "\n",
      "+-------+-----------+---------+-------------+--------+-------------+--------+\n",
      "|User_id|Merchant_id|Coupon_id|Discount_rate|Distance|Date_received|    Date|\n",
      "+-------+-----------+---------+-------------+--------+-------------+--------+\n",
      "|1439408|       4663|    11002|       150:20|       1|     20160528|    null|\n",
      "|1439408|       2632|     8591|         20:1|       0|     20160613|    null|\n",
      "|1439408|       2632|     8591|         20:1|       0|     20160516|20160613|\n",
      "|2029232|        450|     1532|         30:5|       0|     20160530|    null|\n",
      "|2029232|       6459|    12737|         20:1|       0|     20160519|    null|\n",
      "|2747744|       6901|     1097|        50:10|    null|     20160606|    null|\n",
      "| 196342|       1579|    10698|         20:1|       1|     20160606|    null|\n",
      "| 253750|       6901|     2366|         30:5|       0|     20160518|    null|\n",
      "| 343660|       4663|    11002|       150:20|    null|     20160528|    null|\n",
      "|1113008|       3621|     2705|         20:5|       0|     20160524|    null|\n",
      "|1113008|       2277|     1495|        30:10|       0|     20160523|    null|\n",
      "|1113008|       1361|    11166|         20:1|       0|     20160515|20160521|\n",
      "|1113008|       1361|    11166|         20:1|       0|     20160521|    null|\n",
      "| 622296|       4874|      846|         50:5|       1|     20160523|    null|\n",
      "|4064096|       4666|     6604|       100:10|       0|     20160602|    null|\n",
      "| 114747|       6901|     2366|         30:5|       0|     20160523|20160605|\n",
      "| 114747|       6901|     1097|        50:10|       0|     20160605|    null|\n",
      "| 114747|        760|     2418|         30:5|       0|     20160607|    null|\n",
      "| 114747|       6901|     2107|         30:5|       0|     20160605|    null|\n",
      "| 245878|        760|     2418|         30:5|       0|     20160601|    null|\n",
      "+-------+-----------+---------+-------------+--------+-------------+--------+\n",
      "only showing top 20 rows\n",
      "\n",
      "+-------+-----------+---------+-------------+--------+-------------+----+\n",
      "|User_id|Merchant_id|Coupon_id|Discount_rate|Distance|Date_received|Date|\n",
      "+-------+-----------+---------+-------------+--------+-------------+----+\n",
      "|1832624|       3381|     7610|       200:20|       0|     20160429|null|\n",
      "| 163606|       1569|     5054|       200:30|      10|     20160421|null|\n",
      "|4061024|       3381|     7610|       200:20|      10|     20160426|null|\n",
      "| 106443|        450|     3732|         30:5|    null|     20160429|null|\n",
      "| 114747|       1569|     5054|       200:30|       9|     20160426|null|\n",
      "|6038208|       1569|     5054|       200:30|       0|     20160417|null|\n",
      "| 623832|       4442|     7643|       100:50|    null|     20160429|null|\n",
      "| 918744|       7555|     9871|         30:5|    null|     20160415|null|\n",
      "| 127227|       3621|     2705|         20:5|       0|     20160510|null|\n",
      "|3548000|       3381|     7610|       200:20|      10|     20160429|null|\n",
      "|4474560|       6504|     2348|         30:1|       1|     20160505|null|\n",
      "| 361900|        450|     3732|         30:5|       0|     20160430|null|\n",
      "| 527832|        450|     3732|         30:5|       1|     20160430|null|\n",
      "| 140278|        450|     3732|         30:5|       4|     20160414|null|\n",
      "| 460972|       3381|     7610|       200:20|       3|     20160421|null|\n",
      "|  90699|       7555|     9871|         30:5|       3|     20160420|null|\n",
      "|2116448|       2436|     3992|         30:5|      10|     20160422|null|\n",
      "| 379372|       7884|     6704|         20:1|       1|     20160508|null|\n",
      "|2904416|       3381|     7610|       200:20|       0|     20160425|null|\n",
      "| 103083|       2436|     3992|         30:5|       0|     20160422|null|\n",
      "+-------+-----------+---------+-------------+--------+-------------+----+\n",
      "only showing top 20 rows\n",
      "\n",
      "+-------+-----------+---------+-------------+--------+-------------+--------+\n",
      "|User_id|Merchant_id|Coupon_id|Discount_rate|Distance|Date_received|    Date|\n",
      "+-------+-----------+---------+-------------+--------+-------------+--------+\n",
      "|1439408|       4663|    11002|       150:20|       1|     20160528|    null|\n",
      "|1439408|       2632|     1078|         20:1|       0|     20160319|    null|\n",
      "|1439408|       2632|     8591|         20:1|       0|     20160613|    null|\n",
      "|1439408|       2632|     null|         null|       0|         null|20160516|\n",
      "|1439408|       2632|     8591|         20:1|       0|     20160516|20160613|\n",
      "|1832624|       3381|     7610|       200:20|       0|     20160429|    null|\n",
      "|2029232|        450|     1532|         30:5|       0|     20160530|    null|\n",
      "|2029232|       6459|    12737|         20:1|       0|     20160519|    null|\n",
      "|2029232|       6459|     null|         null|       0|         null|20160626|\n",
      "|2029232|       6459|     null|         null|       0|         null|20160519|\n",
      "|2747744|       6901|     1097|        50:10|    null|     20160606|    null|\n",
      "| 196342|       1579|     null|         null|       1|         null|20160606|\n",
      "| 196342|       1579|    10698|         20:1|       1|     20160606|    null|\n",
      "| 163606|       1569|     5054|       200:30|      10|     20160421|    null|\n",
      "|  94107|       3381|     7610|       200:20|       2|     20160412|    null|\n",
      "| 253750|       8390|     null|         null|       0|         null|20160327|\n",
      "| 253750|       6901|     2366|         30:5|       0|     20160518|    null|\n",
      "| 253750|       8390|     7531|         20:5|       0|     20160327|    null|\n",
      "| 343660|       4663|    11002|       150:20|    null|     20160528|    null|\n",
      "|4191584|       3051|     null|         null|       0|         null|20160519|\n",
      "+-------+-----------+---------+-------------+--------+-------------+--------+\n",
      "only showing top 20 rows\n",
      "\n"
     ]
    }
   ],
   "source": [
    "dataset3.show()\n",
    "dataset2.show()\n",
    "dataset1.show()\n",
    "feature3.show()"
   ]
  },
  {
   "cell_type": "code",
   "execution_count": 29,
   "metadata": {},
   "outputs": [],
   "source": [
    "###5. other feature:###\n",
    "\n",
    "#for dataset3\n",
    "t = dataset3.select('User_id')\n",
    "t = t.select('User_id').groupBy('User_id').count().withColumnRenamed('count', 'Month_Receive_all_coupon_count')\n",
    "\n",
    "#print(t.orderBy('User_id').show())"
   ]
  },
  {
   "cell_type": "code",
   "execution_count": 30,
   "metadata": {},
   "outputs": [],
   "source": [
    "t1 = dataset3.select('User_id','Coupon_id')\n",
    "t1 = t1.select('User_id','Coupon_id').groupBy('User_id','Coupon_id').count().withColumnRenamed('Count', 'Month_Receive_same_coupon_count')\n",
    "\n",
    "#print(t1.orderBy('User_id').show())"
   ]
  },
  {
   "cell_type": "code",
   "execution_count": 31,
   "metadata": {},
   "outputs": [],
   "source": [
    "t2 = dataset3.select('User_id', 'Coupon_id', 'Date_received')"
   ]
  },
  {
   "cell_type": "code",
   "execution_count": 32,
   "metadata": {},
   "outputs": [
    {
     "name": "stdout",
     "output_type": "stream",
     "text": [
      "+-------+---------+-----------------+-----------------+\n",
      "|User_id|Coupon_id|Max_date_received|Min_date_received|\n",
      "+-------+---------+-----------------+-----------------+\n",
      "|3649795|    10418|         20160701|         20160701|\n",
      "|3025159|    10438|         20160701|         20160701|\n",
      "|2296075|    13602|         20160728|         20160728|\n",
      "|7346734|     4405|         20160701|         20160701|\n",
      "|2970925|     5178|         20160728|         20160711|\n",
      "|2746177|    13602|         20160704|         20160704|\n",
      "|5632654|     4138|         20160716|         20160716|\n",
      "|5406394|    13602|         20160705|         20160705|\n",
      "|4451026|     9983|         20160711|         20160711|\n",
      "|2891131|     3429|         20160724|         20160724|\n",
      "|3032473|     8306|         20160715|         20160715|\n",
      "|2447773|    12807|         20160703|         20160703|\n",
      "|6210370|     2978|         20160704|         20160704|\n",
      "|4541266|     9983|         20160719|         20160719|\n",
      "|3618223|    11799|         20160712|         20160712|\n",
      "|6750070|    13602|         20160705|         20160705|\n",
      "|6389650|    11311|         20160721|         20160715|\n",
      "|5049238|    13602|         20160719|         20160719|\n",
      "|3977179|    10418|         20160706|         20160706|\n",
      "|4960186|    13602|         20160702|         20160702|\n",
      "+-------+---------+-----------------+-----------------+\n",
      "only showing top 20 rows\n",
      "\n"
     ]
    }
   ],
   "source": [
    "from pyspark.sql import functions as F\n",
    "t2 = t2.groupby(['User_id', 'Coupon_id']).agg(F.max(\"Date_received\"),F.min(\"Date_received\"))\n",
    "t2 = t2.withColumnRenamed('max(Date_received)','Max_date_received').withColumnRenamed('Min(Date_received)','Min_date_received')\n",
    "t2.show()"
   ]
  },
  {
   "cell_type": "code",
   "execution_count": null,
   "metadata": {},
   "outputs": [],
   "source": [
    "t3 = dataset3.select('User_id','Coupon_id','Date_received')\n",
    "t3 = t3.join(t2, ['User_id','Coupon_id'])\n",
    "t3 = t3.withColumn('Month_same_coupon_lastone', col('Max_date_received') - col('date_received'))\n",
    "t3 = t3.withColumn('Month_same_coupon_firstone',col('date_received') - col('Min_date_received'))                   \n",
    "\n",
    "#print(t3.orderBy('User_id').show())"
   ]
  },
  {
   "cell_type": "code",
   "execution_count": null,
   "metadata": {},
   "outputs": [],
   "source": [
    "equally1 = t3.select('User_id','Coupon_id','Date_received','Month_same_coupon_lastone', lit(1).alias('feat1')).filter('Month_same_coupon_lastone == 0').drop('Month_same_coupon_lastone')\n",
    "greater1 = t3.select('User_id','Coupon_id','Date_received','Month_same_coupon_lastone', lit(0).alias('feat1')).filter('Month_same_coupon_lastone > 0').drop('Month_same_coupon_lastone')\n",
    "u1 = equally1.union(greater1).withColumnRenamed('feat1', 'Month_same_coupon_lastone')\n",
    "u1 = u1.select('User_id','Coupon_id','Date_received','Month_same_coupon_lastone')\n",
    "t3 = t3.drop('Month_same_coupon_lastone')\n",
    "\n",
    "equally2 = t3.select('User_id','Coupon_id','Date_received','Month_same_coupon_firstone', lit(1).alias('feat2')).filter('Month_same_coupon_firstone == 0').drop('Month_same_coupon_firstone')\n",
    "greater2 = t3.select('User_id','Coupon_id','Date_received','Month_same_coupon_firstone', lit(0).alias('feat2')).filter('Month_same_coupon_firstone > 0').drop('Month_same_coupon_firstone')\n",
    "u2 = equally2.union(greater2).withColumnRenamed('feat2', 'Month_same_coupon_firstone')\n",
    "u2 = u2.select('User_id','Coupon_id','Date_received','Month_same_coupon_firstone')\n",
    "t3 = t3.drop('Month_same_coupon_firstone')\n",
    "\n",
    "t3 = t3.join(u1, ['User_id','Coupon_id','Date_received'])\n",
    "t3 = t3.join(u2, ['User_id','Coupon_id','Date_received'])\n",
    "t3 = t3.select('User_id','Coupon_id','Date_received','Month_same_coupon_lastone','Month_same_coupon_firstone')\n",
    "\n",
    "#print(t3.orderBy('User_id').show())\n",
    "#print(u1.orderBy('User_id').show())\n",
    "#print(u2.orderBy('User_id').show())"
   ]
  },
  {
   "cell_type": "code",
   "execution_count": 10,
   "metadata": {},
   "outputs": [
    {
     "name": "stdout",
     "output_type": "stream",
     "text": [
      "+-------+-------------+----------------------------+\n",
      "|User_id|Date_received|Day_Receive_all_coupon_count|\n",
      "+-------+-------------+----------------------------+\n",
      "|    209|     20160721|                           2|\n",
      "|    215|     20160703|                           1|\n",
      "|    316|     20160721|                           1|\n",
      "|    417|     20160712|                           1|\n",
      "|    432|     20160706|                           1|\n",
      "|    448|     20160701|                           1|\n",
      "|    448|     20160710|                           1|\n",
      "|    448|     20160706|                           1|\n",
      "|    448|     20160707|                           1|\n",
      "|    448|     20160704|                           1|\n",
      "|    452|     20160721|                           1|\n",
      "|    452|     20160702|                           1|\n",
      "|    470|     20160710|                           1|\n",
      "|    569|     20160716|                           1|\n",
      "|    728|     20160714|                           1|\n",
      "|    736|     20160724|                           1|\n",
      "|    736|     20160713|                           1|\n",
      "|    738|     20160708|                           1|\n",
      "|    738|     20160716|                           1|\n",
      "|    766|     20160705|                           1|\n",
      "+-------+-------------+----------------------------+\n",
      "only showing top 20 rows\n",
      "\n",
      "None\n"
     ]
    }
   ],
   "source": [
    "t4 = dataset3.select('User_id','Date_received')\n",
    "t4 = t4.select('Date_received','User_id',).groupBy('User_id','Date_received').count().withColumnRenamed('count', 'Day_Receive_all_coupon_count')\n",
    "\n",
    "print(t4.orderBy('user_id').show())"
   ]
  },
  {
   "cell_type": "code",
   "execution_count": 11,
   "metadata": {},
   "outputs": [
    {
     "name": "stdout",
     "output_type": "stream",
     "text": [
      "+-------+---------+-------------+-----------------------------+\n",
      "|User_id|Coupon_id|Date_received|Day_Receive_same_coupon_count|\n",
      "+-------+---------+-------------+-----------------------------+\n",
      "|    209|      825|     20160721|                            1|\n",
      "|    209|     7557|     20160721|                            1|\n",
      "|    215|     5488|     20160703|                            1|\n",
      "|    316|     3992|     20160721|                            1|\n",
      "|    417|    12465|     20160712|                            1|\n",
      "|    432|    10438|     20160706|                            1|\n",
      "|    448|    13602|     20160701|                            1|\n",
      "|    448|    10927|     20160706|                            1|\n",
      "|    448|    10927|     20160710|                            1|\n",
      "|    448|    10927|     20160704|                            1|\n",
      "|    448|    10927|     20160707|                            1|\n",
      "|    452|     6500|     20160702|                            1|\n",
      "|    452|     3992|     20160721|                            1|\n",
      "|    470|     9983|     20160710|                            1|\n",
      "|    569|     3594|     20160716|                            1|\n",
      "|    728|    10418|     20160714|                            1|\n",
      "|    736|     3686|     20160724|                            1|\n",
      "|    736|     3686|     20160713|                            1|\n",
      "|    738|     9424|     20160708|                            1|\n",
      "|    738|     3647|     20160716|                            1|\n",
      "+-------+---------+-------------+-----------------------------+\n",
      "only showing top 20 rows\n",
      "\n",
      "None\n"
     ]
    }
   ],
   "source": [
    "t5 = dataset3.select('User_id','Coupon_id','Date_received')\n",
    "t5 = t5.select('User_id','Coupon_id','Date_received').groupBy('User_id','Coupon_id','Date_received').count().withColumnRenamed('count', 'Day_Receive_same_coupon_count')\n",
    "\n",
    "print(t5.orderBy('user_id').show())"
   ]
  },
  {
   "cell_type": "code",
   "execution_count": 12,
   "metadata": {},
   "outputs": [
    {
     "name": "stdout",
     "output_type": "stream",
     "text": [
      "+-------+---------+-------------+\n",
      "|User_id|Coupon_id|Date_received|\n",
      "+-------+---------+-------------+\n",
      "|4129537|     9983|   2016-07-12|\n",
      "|6949378|     3429|   2016-07-06|\n",
      "|2166529|     6928|   2016-07-27|\n",
      "|2166529|     1808|   2016-07-27|\n",
      "|6172162|     6500|   2016-07-08|\n",
      "|4005121|     9983|   2016-07-06|\n",
      "|4347394|     9983|   2016-07-16|\n",
      "|3094273|    13602|   2016-07-27|\n",
      "|5139970|     9983|   2016-07-29|\n",
      "|3237121|    13602|   2016-07-03|\n",
      "|6224386|     9983|   2016-07-16|\n",
      "|6488578|    13602|   2016-07-12|\n",
      "|4164865|     9983|   2016-07-03|\n",
      "|4164865|     8059|   2016-07-06|\n",
      "|5468674|     9983|   2016-07-13|\n",
      "|6258178|     9144|   2016-07-06|\n",
      "|3659521|     7341|   2016-07-27|\n",
      "|3659521|    13181|   2016-07-17|\n",
      "|3659521|    13602|   2016-07-18|\n",
      "|7333378|    13602|   2016-07-04|\n",
      "+-------+---------+-------------+\n",
      "only showing top 20 rows\n",
      "\n"
     ]
    },
    {
     "data": {
      "text/plain": [
       "DataFrame[User_id: int, Coupon_id: int, Date_received: date]"
      ]
     },
     "execution_count": 12,
     "metadata": {},
     "output_type": "execute_result"
    }
   ],
   "source": [
    "t6 = dataset3.select('User_id','Coupon_id','Date_received')\n",
    "t6 = t6.withColumn('Date_received',(col('Date_received').astype('string')))\n",
    "t6 = t6.withColumn(\"Date_received\",lit(to_date(t6.Date_received,\"yyyyMMdd\")))\n",
    "\n",
    "t6.show()\n",
    "t6"
   ]
  },
  {
   "cell_type": "code",
   "execution_count": 13,
   "metadata": {},
   "outputs": [
    {
     "ename": "AttributeError",
     "evalue": "'GroupedData' object has no attribute 'sortBy'",
     "output_type": "error",
     "traceback": [
      "\u001b[0;31m---------------------------------------------------------------------------\u001b[0m",
      "\u001b[0;31mAttributeError\u001b[0m                            Traceback (most recent call last)",
      "\u001b[0;32m<ipython-input-13-b1d857a4454a>\u001b[0m in \u001b[0;36m<module>\u001b[0;34m\u001b[0m\n\u001b[1;32m      5\u001b[0m \u001b[0;34m\u001b[0m\u001b[0m\n\u001b[1;32m      6\u001b[0m \u001b[0;34m\u001b[0m\u001b[0m\n\u001b[0;32m----> 7\u001b[0;31m \u001b[0mt6\u001b[0m \u001b[0;34m=\u001b[0m \u001b[0mt6\u001b[0m\u001b[0;34m.\u001b[0m\u001b[0mgroupby\u001b[0m\u001b[0;34m(\u001b[0m\u001b[0;34m'User_id'\u001b[0m\u001b[0;34m,\u001b[0m \u001b[0;34m'Coupon_id'\u001b[0m\u001b[0;34m)\u001b[0m\u001b[0;34m.\u001b[0m\u001b[0msortBy\u001b[0m\u001b[0;34m(\u001b[0m\u001b[0;34m'Date_received'\u001b[0m\u001b[0;34m)\u001b[0m\u001b[0;34m\u001b[0m\u001b[0;34m\u001b[0m\u001b[0m\n\u001b[0m\u001b[1;32m      8\u001b[0m \u001b[0;31m#.agg(collect_list('Date_received').alias('Date')).withColumnRenamed('Date','Dates')\u001b[0m\u001b[0;34m\u001b[0m\u001b[0;34m\u001b[0m\u001b[0;34m\u001b[0m\u001b[0m\n\u001b[1;32m      9\u001b[0m \u001b[0mprint\u001b[0m\u001b[0;34m(\u001b[0m\u001b[0mt6\u001b[0m\u001b[0;34m.\u001b[0m\u001b[0morderBy\u001b[0m\u001b[0;34m(\u001b[0m\u001b[0;34m'User_id'\u001b[0m\u001b[0;34m)\u001b[0m\u001b[0;34m.\u001b[0m\u001b[0mshow\u001b[0m\u001b[0;34m(\u001b[0m\u001b[0;34m)\u001b[0m\u001b[0;34m)\u001b[0m\u001b[0;34m\u001b[0m\u001b[0;34m\u001b[0m\u001b[0m\n",
      "\u001b[0;31mAttributeError\u001b[0m: 'GroupedData' object has no attribute 'sortBy'"
     ]
    }
   ],
   "source": [
    "t6 = dataset3.select('User_id','Coupon_id','Date_received')\n",
    "t6 = t6.withColumn('Date_received',(col('Date_received').astype('string')))\n",
    "t6 = t6.withColumn(\"Date_received\",lit(to_date(t6.Date_received,\"yyyyMMdd\")))\n",
    "\n",
    "\n",
    "\n",
    "t6 = t6.groupby('User_id', 'Coupon_id').sortBy('Date_received')\n",
    "#.agg(collect_list('Date_received').alias('Date')).withColumnRenamed('Date','Dates')\n",
    "print(t6.orderBy('User_id').show())\n",
    "t6"
   ]
  },
  {
   "cell_type": "code",
   "execution_count": null,
   "metadata": {},
   "outputs": [],
   "source": [
    "from pyspark.sql.functions import lit\n",
    "t7 = dataset3.select('User_id','Coupon_id','Date_received')\n",
    "t7 = t7.join(t6,['User_id','Coupon_id'])\n",
    "t7 = t7.withColumn('Date_received',(col('Date_received').astype('string')))\n",
    "t7 = t7.withColumn(\"Date_received\",lit(to_date(t7.Date_received,\"yyyyMMdd\")))\n",
    "#t7 = t7.withColumn('Day_gap_before',lit(datediff('Dates','Date_received')))\n",
    "#t7 = t7.withColumn('single', lit('-'))\n",
    "#t7 = t7.select('User_id','Coupon_id','Date_received','Dates', concat('Date_received','single','Dates')).withColumnRenamed('concat(Date_received, single, Dates)', 'Date_received_date')\n",
    "print(t7.orderBy('User_id').show())\n",
    "t7"
   ]
  },
  {
   "cell_type": "code",
   "execution_count": null,
   "metadata": {},
   "outputs": [],
   "source": [
    "other_feature3 = t1.join(t, 'User_id')\n",
    "other_feature3 = other_feature3.join(t3,['user_id','coupon_id'])\n",
    "other_feature3 = other_feature3.join(t4, ['User_id','Date_received'])\n",
    "other_feature3 = other_feature3.join(t5, ['User_id','Coupon_id','Date_received'])\n",
    "#other_feature3 = other_feature3.join(t7, ['User_id','Coupon_id','Date_received'])\n",
    "other_feature3.write.csv('other_feature3', header = True)\n",
    "\n",
    "other_feature3.show()"
   ]
  },
  {
   "cell_type": "code",
   "execution_count": null,
   "metadata": {},
   "outputs": [],
   "source": [
    "#for dataset2"
   ]
  },
  {
   "cell_type": "code",
   "execution_count": 3,
   "metadata": {},
   "outputs": [],
   "source": [
    "t = dataset2.select('User_id')\n",
    "t = t.select('User_id').groupBy('User_id').count().withColumnRenamed('count', 'Month_Receive_all_coupon_count')\n",
    "\n",
    "#print(t.orderBy('User_id').show())"
   ]
  },
  {
   "cell_type": "code",
   "execution_count": 4,
   "metadata": {},
   "outputs": [],
   "source": [
    "t1 = dataset2.select('User_id','Coupon_id')\n",
    "t1 = t1.select('User_id','Coupon_id').groupBy('User_id','Coupon_id').count().withColumnRenamed('Count', 'Month_Receive_same_coupon_count')\n",
    "\n",
    "#print(t1.orderBy('User_id').show())"
   ]
  },
  {
   "cell_type": "code",
   "execution_count": 5,
   "metadata": {},
   "outputs": [],
   "source": [
    "t2 = dataset2.select('User_id', 'Coupon_id', 'Date_received')"
   ]
  },
  {
   "cell_type": "code",
   "execution_count": 6,
   "metadata": {},
   "outputs": [
    {
     "name": "stdout",
     "output_type": "stream",
     "text": [
      "+-------+---------+-----------------+-----------------+\n",
      "|User_id|Coupon_id|Max_date_received|Min_date_received|\n",
      "+-------+---------+-----------------+-----------------+\n",
      "|   1797|     3312|         20160524|         20160524|\n",
      "|   2574|    13208|         20160611|         20160611|\n",
      "|   7099|     1141|         20160518|         20160518|\n",
      "|   8094|     8067|         20160519|         20160519|\n",
      "|  10608|     1532|         20160531|         20160531|\n",
      "|  17068|     5317|         20160515|         20160515|\n",
      "|  38165|    10706|         20160521|         20160521|\n",
      "|  40712|     9296|         20160530|         20160530|\n",
      "|  44316|     2418|         20160611|         20160611|\n",
      "|  55266|     5899|         20160518|         20160518|\n",
      "|  58581|    11195|         20160525|         20160525|\n",
      "|  72805|     5899|         20160515|         20160515|\n",
      "|  79512|     2705|         20160523|         20160523|\n",
      "|  80170|     8192|         20160517|         20160517|\n",
      "|  85010|     2366|         20160527|         20160527|\n",
      "|  89915|     6103|         20160521|         20160521|\n",
      "|  99508|    11002|         20160528|         20160528|\n",
      "| 111047|     5136|         20160522|         20160522|\n",
      "| 111252|     2366|         20160523|         20160523|\n",
      "| 111848|     2705|         20160526|         20160526|\n",
      "+-------+---------+-----------------+-----------------+\n",
      "only showing top 20 rows\n",
      "\n"
     ]
    }
   ],
   "source": [
    "from pyspark.sql import functions as F\n",
    "t2 = t2.groupby(['User_id', 'Coupon_id']).agg(F.max(\"Date_received\"),F.min(\"Date_received\"))\n",
    "t2 = t2.withColumnRenamed('max(Date_received)','Max_date_received').withColumnRenamed('Min(Date_received)','Min_date_received')\n",
    "t2.show()"
   ]
  },
  {
   "cell_type": "code",
   "execution_count": 7,
   "metadata": {},
   "outputs": [
    {
     "name": "stdout",
     "output_type": "stream",
     "text": [
      "+-------+---------+-------------+-----------------+-----------------+-------------------------+--------------------------+\n",
      "|User_id|Coupon_id|Date_received|Max_date_received|Min_date_received|Month_same_coupon_lastone|Month_same_coupon_firstone|\n",
      "+-------+---------+-------------+-----------------+-----------------+-------------------------+--------------------------+\n",
      "|      4|     2902|     20160607|         20160607|         20160607|                      0.0|                       0.0|\n",
      "|    165|     7571|     20160525|         20160525|         20160525|                      0.0|                       0.0|\n",
      "|    166|     9261|     20160525|         20160525|         20160525|                      0.0|                       0.0|\n",
      "|    215|     8944|     20160524|         20160524|         20160524|                      0.0|                       0.0|\n",
      "|    236|    11002|     20160528|         20160528|         20160528|                      0.0|                       0.0|\n",
      "|    238|     2418|     20160608|         20160608|         20160608|                      0.0|                       0.0|\n",
      "|    239|     9762|     20160614|         20160614|         20160614|                      0.0|                       0.0|\n",
      "|    239|     1255|     20160614|         20160614|         20160614|                      0.0|                       0.0|\n",
      "|    315|     4033|     20160519|         20160519|         20160519|                      0.0|                       0.0|\n",
      "|    315|     1141|     20160518|         20160518|         20160518|                      0.0|                       0.0|\n",
      "|    353|     4823|     20160610|         20160610|         20160610|                      0.0|                       0.0|\n",
      "|    437|     2705|     20160531|         20160531|         20160531|                      0.0|                       0.0|\n",
      "|    448|    10927|     20160522|         20160522|         20160522|                      0.0|                       0.0|\n",
      "|    452|    12365|     20160521|         20160521|         20160521|                      0.0|                       0.0|\n",
      "|    452|     7730|     20160521|         20160521|         20160521|                      0.0|                       0.0|\n",
      "|    452|     8998|     20160521|         20160521|         20160521|                      0.0|                       0.0|\n",
      "|    565|    13304|     20160520|         20160520|         20160520|                      0.0|                       0.0|\n",
      "|    569|     4788|     20160604|         20160604|         20160604|                      0.0|                       0.0|\n",
      "|    696|     7571|     20160520|         20160524|         20160520|                      4.0|                       0.0|\n",
      "|    696|     7571|     20160523|         20160524|         20160520|                      1.0|                       3.0|\n",
      "+-------+---------+-------------+-----------------+-----------------+-------------------------+--------------------------+\n",
      "only showing top 20 rows\n",
      "\n",
      "None\n"
     ]
    }
   ],
   "source": [
    "t3 = dataset2.select('User_id','Coupon_id','Date_received')\n",
    "t3 = t3.join(t2, ['User_id','Coupon_id'])\n",
    "t3 = t3.withColumn('Month_same_coupon_lastone', col('Max_date_received') - col('date_received'))\n",
    "t3 = t3.withColumn('Month_same_coupon_firstone',col('date_received') - col('Min_date_received'))                   \n",
    "\n",
    "print(t3.orderBy('User_id').show())"
   ]
  },
  {
   "cell_type": "code",
   "execution_count": 8,
   "metadata": {},
   "outputs": [
    {
     "name": "stdout",
     "output_type": "stream",
     "text": [
      "+-------+---------+-------------+-------------------------+--------------------------+\n",
      "|User_id|Coupon_id|Date_received|Month_same_coupon_lastone|Month_same_coupon_firstone|\n",
      "+-------+---------+-------------+-------------------------+--------------------------+\n",
      "|      4|     2902|     20160607|                        1|                         1|\n",
      "|    165|     7571|     20160525|                        1|                         1|\n",
      "|    166|     9261|     20160525|                        1|                         1|\n",
      "|    215|     8944|     20160524|                        1|                         1|\n",
      "|    236|    11002|     20160528|                        1|                         1|\n",
      "|    238|     2418|     20160608|                        1|                         1|\n",
      "|    239|     1255|     20160614|                        1|                         1|\n",
      "|    239|     9762|     20160614|                        1|                         1|\n",
      "|    315|     1141|     20160518|                        1|                         1|\n",
      "|    315|     4033|     20160519|                        1|                         1|\n",
      "|    353|     4823|     20160610|                        1|                         1|\n",
      "|    437|     2705|     20160531|                        1|                         1|\n",
      "|    448|    10927|     20160522|                        1|                         1|\n",
      "|    452|     8998|     20160521|                        1|                         1|\n",
      "|    452|    12365|     20160521|                        1|                         1|\n",
      "|    452|     7730|     20160521|                        1|                         1|\n",
      "|    565|    13304|     20160520|                        1|                         1|\n",
      "|    569|     4788|     20160604|                        1|                         1|\n",
      "|    696|     7571|     20160523|                        0|                         0|\n",
      "|    696|     7571|     20160520|                        0|                         1|\n",
      "+-------+---------+-------------+-------------------------+--------------------------+\n",
      "only showing top 20 rows\n",
      "\n",
      "None\n"
     ]
    }
   ],
   "source": [
    "equally1 = t3.select('User_id','Coupon_id','Date_received','Month_same_coupon_lastone', lit(1).alias('feat1')).filter('Month_same_coupon_lastone == 0').drop('Month_same_coupon_lastone')\n",
    "greater1 = t3.select('User_id','Coupon_id','Date_received','Month_same_coupon_lastone', lit(0).alias('feat1')).filter('Month_same_coupon_lastone > 0').drop('Month_same_coupon_lastone')\n",
    "u1 = equally1.union(greater1).withColumnRenamed('feat1', 'Month_same_coupon_lastone')\n",
    "u1 = u1.select('User_id','Coupon_id','Date_received','Month_same_coupon_lastone')\n",
    "t3 = t3.drop('Month_same_coupon_lastone')\n",
    "\n",
    "equally2 = t3.select('User_id','Coupon_id','Date_received','Month_same_coupon_firstone', lit(1).alias('feat2')).filter('Month_same_coupon_firstone == 0').drop('Month_same_coupon_firstone')\n",
    "greater2 = t3.select('User_id','Coupon_id','Date_received','Month_same_coupon_firstone', lit(0).alias('feat2')).filter('Month_same_coupon_firstone > 0').drop('Month_same_coupon_firstone')\n",
    "u2 = equally2.union(greater2).withColumnRenamed('feat2', 'Month_same_coupon_firstone')\n",
    "u2 = u2.select('User_id','Coupon_id','Date_received','Month_same_coupon_firstone')\n",
    "t3 = t3.drop('Month_same_coupon_firstone')\n",
    "\n",
    "t3 = t3.join(u1, ['User_id','Coupon_id','Date_received'])\n",
    "t3 = t3.join(u2, ['User_id','Coupon_id','Date_received'])\n",
    "t3 = t3.select('User_id','Coupon_id','Date_received','Month_same_coupon_lastone','Month_same_coupon_firstone')\n",
    "\n",
    "print(t3.orderBy('User_id').show())\n",
    "#print(u1.orderBy('User_id').show())\n",
    "#print(u2.orderBy('User_id').show())"
   ]
  },
  {
   "cell_type": "code",
   "execution_count": 9,
   "metadata": {},
   "outputs": [],
   "source": [
    "t4 = dataset2.select('User_id','Date_received')\n",
    "t4 = t4.select('Date_received','User_id',).groupBy('User_id','Date_received').count().withColumnRenamed('count', 'Day_Receive_all_coupon_count')\n",
    "\n",
    "#print(t4.orderBy('user_id').show())"
   ]
  },
  {
   "cell_type": "code",
   "execution_count": 10,
   "metadata": {},
   "outputs": [],
   "source": [
    "t5 = dataset2.select('User_id','Coupon_id','Date_received')\n",
    "t5 = t5.select('User_id','Coupon_id','Date_received').groupBy('User_id','Coupon_id','Date_received').count().withColumnRenamed('count', 'Day_Receive_same_coupon_count')\n",
    "\n",
    "#print(t5.orderBy('user_id').show())"
   ]
  },
  {
   "cell_type": "code",
   "execution_count": 11,
   "metadata": {},
   "outputs": [],
   "source": [
    "t6 = dataset2.select('User_id','Coupon_id','Date_received')\n",
    "t6 = t6.withColumn('Date_received',(col('Date_received').astype('string')))"
   ]
  },
  {
   "cell_type": "code",
   "execution_count": null,
   "metadata": {},
   "outputs": [],
   "source": [
    "link = udf(lambda x: ':'.join(x))\n",
    "t6 = t6.groupby('User_id', 'Coupon_id').agg(collect_list('Date_received').alias('Date_received')).withColumn('Date_received', link('Date_received'))\n",
    "t6 = t6.withColumnRenamed('Date_received', 'Dates')\n",
    "\n",
    "#t6.show()"
   ]
  },
  {
   "cell_type": "code",
   "execution_count": null,
   "metadata": {},
   "outputs": [],
   "source": [
    "def get_day_gap_before(s):\n",
    "    date_received,dates = s.split('-')\n",
    "    dates = dates.split(':')\n",
    "    gaps = []\n",
    "    for d in dates:\n",
    "        this_gap = (date(int(date_received[0:4]),int(date_received[4:6]),int(date_received[6:8]))-date(int(d[0:4]),int(d[4:6]),int(d[6:8]))).days\n",
    "        if this_gap>0:\n",
    "            gaps.append(this_gap)\n",
    "    if len(gaps)==0:\n",
    "        return -1\n",
    "    else:\n",
    "        return min(gaps)\n",
    "        \n",
    "def get_day_gap_after(s):\n",
    "    date_received,dates = s.split('-')\n",
    "    dates = dates.split(':')\n",
    "    gaps = []\n",
    "    for d in dates:\n",
    "        this_gap = (date(int(d[0:4]),int(d[4:6]),int(d[6:8]))-date(int(date_received[0:4]),int(date_received[4:6]),int(date_received[6:8]))).days\n",
    "        if this_gap>0:\n",
    "            gaps.append(this_gap)\n",
    "    if len(gaps)==0:\n",
    "        return -1\n",
    "    else:\n",
    "        return min(gaps)"
   ]
  },
  {
   "cell_type": "code",
   "execution_count": null,
   "metadata": {},
   "outputs": [],
   "source": [
    "from pyspark.sql.functions import lit\n",
    "t7 = dataset2.select('User_id','Coupon_id','Date_received')\n",
    "t7 = t7.join(t6,['User_id','Coupon_id'])\n",
    "t7 = t7.withColumn('single', lit('-'))\n",
    "t7 = t7.select('User_id','Coupon_id','Date_received','Dates', concat('Date_received','single','Dates')).withColumnRenamed('concat(Date_received, single, Dates)', 'Date_received_date')\n",
    "#t7.withColumn('Day_gap_before', get_day_gap_before(col('date_received_date')))\n",
    "#t7.withColumn('Day_gap_after', get_day_gap_after(col('date_received_date')))\n",
    "#t7 = t7.select('User_id','Coupon_id','Date_received','Day_gap_before','Day_gap_after')\n",
    "\n",
    "#t7.show()"
   ]
  },
  {
   "cell_type": "code",
   "execution_count": 12,
   "metadata": {},
   "outputs": [
    {
     "name": "stdout",
     "output_type": "stream",
     "text": [
      "+-------+---------+-------------+-------------------------------+------------------------------+-------------------------+--------------------------+----------------------------+-----------------------------+\n",
      "|User_id|Coupon_id|Date_received|Month_Receive_same_coupon_count|Month_Receive_all_coupon_count|Month_same_coupon_lastone|Month_same_coupon_firstone|Day_Receive_all_coupon_count|Day_Receive_same_coupon_count|\n",
      "+-------+---------+-------------+-------------------------------+------------------------------+-------------------------+--------------------------+----------------------------+-----------------------------+\n",
      "|  11170|    11873|     20160522|                              4|                            15|                        0|                         0|                           5|                            1|\n",
      "|  11255|    13304|     20160521|                              1|                             1|                        1|                         1|                           1|                            1|\n",
      "|  11791|     2002|     20160529|                              1|                             2|                        1|                         1|                           2|                            1|\n",
      "|  16296|     3563|     20160610|                              1|                             2|                        1|                         1|                           1|                            1|\n",
      "|  22054|     7724|     20160604|                              1|                             3|                        1|                         1|                           1|                            1|\n",
      "|  23290|     6103|     20160524|                              1|                             4|                        1|                         1|                           1|                            1|\n",
      "|  25120|     3123|     20160526|                              1|                            13|                        1|                         1|                           3|                            1|\n",
      "|  41062|      929|     20160519|                              1|                             4|                        1|                         1|                           1|                            1|\n",
      "|  48033|     1633|     20160613|                              1|                             1|                        1|                         1|                           1|                            1|\n",
      "|  48772|    13793|     20160604|                              1|                             1|                        1|                         1|                           1|                            1|\n",
      "|  49626|    13165|     20160519|                              1|                             3|                        1|                         1|                           1|                            1|\n",
      "|  50602|      636|     20160614|                              1|                             3|                        1|                         1|                           1|                            1|\n",
      "|  72772|     9581|     20160524|                              1|                             4|                        1|                         1|                           2|                            1|\n",
      "|  86643|     2418|     20160611|                              1|                             2|                        1|                         1|                           1|                            1|\n",
      "|  94117|     3222|     20160520|                              1|                             2|                        1|                         1|                           1|                            1|\n",
      "|  94876|    11848|     20160526|                              1|                             1|                        1|                         1|                           1|                            1|\n",
      "| 131490|      336|     20160525|                              1|                             2|                        1|                         1|                           1|                            1|\n",
      "| 135960|     2366|     20160528|                              1|                             1|                        1|                         1|                           1|                            1|\n",
      "| 152551|     4823|     20160605|                              1|                             1|                        1|                         1|                           1|                            1|\n",
      "| 152835|    10139|     20160608|                              1|                             1|                        1|                         1|                           1|                            1|\n",
      "+-------+---------+-------------+-------------------------------+------------------------------+-------------------------+--------------------------+----------------------------+-----------------------------+\n",
      "only showing top 20 rows\n",
      "\n"
     ]
    }
   ],
   "source": [
    "other_feature2 = t1.join(t, 'User_id')\n",
    "other_feature2 = other_feature2.join(t3,['user_id','coupon_id'])\n",
    "other_feature2 = other_feature2.join(t4, ['User_id','Date_received'])\n",
    "other_feature2 = other_feature2.join(t5, ['User_id','Coupon_id','Date_received'])\n",
    "#other_feature2 = other_feature2.join(t7, ['User_id','Coupon_id','Date_received'])\n",
    "other_feature2.write.csv('other_feature2', header = True)\n",
    "\n",
    "other_feature2.show()"
   ]
  },
  {
   "cell_type": "code",
   "execution_count": null,
   "metadata": {},
   "outputs": [],
   "source": [
    "#for dataset1"
   ]
  },
  {
   "cell_type": "code",
   "execution_count": 4,
   "metadata": {},
   "outputs": [],
   "source": [
    "t = dataset1.select('User_id')\n",
    "t = t.select('User_id').groupBy('User_id').count().withColumnRenamed('count', 'Month_Receive_all_coupon_count')\n",
    "\n",
    "#print(t.orderBy('User_id').show())"
   ]
  },
  {
   "cell_type": "code",
   "execution_count": 5,
   "metadata": {},
   "outputs": [],
   "source": [
    "t1 = dataset1.select('User_id','Coupon_id')\n",
    "t1 = t1.select('User_id','Coupon_id').groupBy('User_id','Coupon_id').count().withColumnRenamed('Count', 'Month_Receive_same_coupon_count')\n",
    "\n",
    "#print(t1.orderBy('User_id').show())"
   ]
  },
  {
   "cell_type": "code",
   "execution_count": 6,
   "metadata": {},
   "outputs": [],
   "source": [
    "t2 = dataset1.select('User_id', 'Coupon_id', 'Date_received')"
   ]
  },
  {
   "cell_type": "code",
   "execution_count": 7,
   "metadata": {},
   "outputs": [],
   "source": [
    "from pyspark.sql import functions as F\n",
    "t2 = t2.groupby(['User_id', 'Coupon_id']).agg(F.max(\"Date_received\"),F.min(\"Date_received\"))\n",
    "t2 = t2.withColumnRenamed('max(Date_received)','Max_date_received').withColumnRenamed('Min(Date_received)','Min_date_received')\n",
    "#t2.show()"
   ]
  },
  {
   "cell_type": "code",
   "execution_count": 8,
   "metadata": {},
   "outputs": [],
   "source": [
    "t3 = dataset1.select('User_id','Coupon_id','Date_received')\n",
    "t3 = t3.join(t2, ['User_id','Coupon_id'])\n",
    "t3 = t3.withColumn('Month_same_coupon_lastone', col('Max_date_received') - col('date_received'))\n",
    "t3 = t3.withColumn('Month_same_coupon_firstone',col('date_received') - col('Min_date_received'))                   \n",
    "#t3.show()"
   ]
  },
  {
   "cell_type": "code",
   "execution_count": 9,
   "metadata": {},
   "outputs": [
    {
     "name": "stdout",
     "output_type": "stream",
     "text": [
      "+-------+---------+-------------+-------------------------+--------------------------+\n",
      "|User_id|Coupon_id|Date_received|Month_same_coupon_lastone|Month_same_coupon_firstone|\n",
      "+-------+---------+-------------+-------------------------+--------------------------+\n",
      "|    173|     7610|     20160414|                        1|                         1|\n",
      "|    285|     1532|     20160501|                        1|                         1|\n",
      "|    316|     8952|     20160430|                        1|                         1|\n",
      "|    377|     2857|     20160512|                        1|                         1|\n",
      "|    387|     7610|     20160421|                        1|                         1|\n",
      "|    430|     9871|     20160419|                        1|                         1|\n",
      "|    467|     9871|     20160417|                        1|                         1|\n",
      "|    470|     9614|     20160424|                        1|                         1|\n",
      "|    472|     3992|     20160504|                        1|                         1|\n",
      "|    489|     5112|     20160429|                        1|                         1|\n",
      "|    489|     4723|     20160425|                        1|                         1|\n",
      "|    597|     5054|     20160415|                        1|                         1|\n",
      "|    798|    12474|     20160420|                        1|                         1|\n",
      "|    865|     7559|     20160510|                        1|                         1|\n",
      "|    892|     5054|     20160426|                        1|                         1|\n",
      "|    947|    12941|     20160506|                        1|                         1|\n",
      "|    948|     7610|     20160414|                        1|                         1|\n",
      "|    975|     5054|     20160427|                        1|                         1|\n",
      "|    983|     9871|     20160418|                        1|                         1|\n",
      "|   1318|     9614|     20160505|                        1|                         1|\n",
      "+-------+---------+-------------+-------------------------+--------------------------+\n",
      "only showing top 20 rows\n",
      "\n",
      "None\n"
     ]
    }
   ],
   "source": [
    "equally1 = t3.select('User_id','Coupon_id','Date_received','Month_same_coupon_lastone', lit(1).alias('feat1')).filter('Month_same_coupon_lastone == 0').drop('Month_same_coupon_lastone')\n",
    "greater1 = t3.select('User_id','Coupon_id','Date_received','Month_same_coupon_lastone', lit(0).alias('feat1')).filter('Month_same_coupon_lastone > 0').drop('Month_same_coupon_lastone')\n",
    "u1 = equally1.union(greater1).withColumnRenamed('feat1', 'Month_same_coupon_lastone')\n",
    "u1 = u1.select('User_id','Coupon_id','Date_received','Month_same_coupon_lastone')\n",
    "t3 = t3.drop('Month_same_coupon_lastone')\n",
    "\n",
    "equally2 = t3.select('User_id','Coupon_id','Date_received','Month_same_coupon_firstone', lit(1).alias('feat2')).filter('Month_same_coupon_firstone == 0').drop('Month_same_coupon_firstone')\n",
    "greater2 = t3.select('User_id','Coupon_id','Date_received','Month_same_coupon_firstone', lit(0).alias('feat2')).filter('Month_same_coupon_firstone > 0').drop('Month_same_coupon_firstone')\n",
    "u2 = equally2.union(greater2).withColumnRenamed('feat2', 'Month_same_coupon_firstone')\n",
    "u2 = u2.select('User_id','Coupon_id','Date_received','Month_same_coupon_firstone')\n",
    "t3 = t3.drop('Month_same_coupon_firstone')\n",
    "\n",
    "t3 = t3.join(u1, ['User_id','Coupon_id','Date_received'])\n",
    "t3 = t3.join(u2, ['User_id','Coupon_id','Date_received'])\n",
    "t3 = t3.select('User_id','Coupon_id','Date_received','Month_same_coupon_lastone','Month_same_coupon_firstone')\n",
    "\n",
    "print(t3.orderBy('User_id').show())\n",
    "#print(u1.orderBy('User_id').show())\n",
    "#print(u2.orderBy('User_id').show())"
   ]
  },
  {
   "cell_type": "code",
   "execution_count": 10,
   "metadata": {},
   "outputs": [],
   "source": [
    "t4 = dataset1.select('User_id','Date_received')\n",
    "t4 = t4.select('Date_received','User_id',).groupBy('User_id','Date_received').count().withColumnRenamed('count', 'Day_Receive_all_coupon_count')\n",
    "\n",
    "#print(t4.orderBy('user_id').show())"
   ]
  },
  {
   "cell_type": "code",
   "execution_count": 11,
   "metadata": {},
   "outputs": [],
   "source": [
    "t5 = dataset1.select('User_id','Coupon_id','Date_received')\n",
    "t5 = t5.select('User_id','Coupon_id','Date_received').groupBy('User_id','Coupon_id','Date_received').count().withColumnRenamed('count', 'Day_Receive_same_coupon_count')\n",
    "\n",
    "#print(t5.orderBy('user_id').show())"
   ]
  },
  {
   "cell_type": "code",
   "execution_count": null,
   "metadata": {},
   "outputs": [],
   "source": [
    "t6 = dataset1.select('User_id','Coupon_id','Date_received')\n",
    "t6 = t6.withColumn('Date_received',(col('Date_received').astype('string')))"
   ]
  },
  {
   "cell_type": "code",
   "execution_count": null,
   "metadata": {},
   "outputs": [],
   "source": [
    "link = udf(lambda x: ':'.join(x))\n",
    "t6 = t6.groupby('User_id', 'Coupon_id').agg(collect_list('Date_received').alias('Date_received')).withColumn('Date_received', link('Date_received'))\n",
    "t6 = t6.withColumnRenamed('Date_received', 'Dates')\n",
    "\n",
    "#t6.show()"
   ]
  },
  {
   "cell_type": "code",
   "execution_count": null,
   "metadata": {},
   "outputs": [],
   "source": [
    "def get_day_gap_before(s):\n",
    "    date_received,dates = s.split('-')\n",
    "    dates = dates.split(':')\n",
    "    gaps = []\n",
    "    for d in dates:\n",
    "        this_gap = (date(int(date_received[0:4]),int(date_received[4:6]),int(date_received[6:8]))-date(int(d[0:4]),int(d[4:6]),int(d[6:8]))).days\n",
    "        if this_gap>0:\n",
    "            gaps.append(this_gap)\n",
    "    if len(gaps)==0:\n",
    "        return -1\n",
    "    else:\n",
    "        return min(gaps)\n",
    "        \n",
    "def get_day_gap_after(s):\n",
    "    date_received,dates = s.split('-')\n",
    "    dates = dates.split(':')\n",
    "    gaps = []\n",
    "    for d in dates:\n",
    "        this_gap = (date(int(d[0:4]),int(d[4:6]),int(d[6:8]))-date(int(date_received[0:4]),int(date_received[4:6]),int(date_received[6:8]))).days\n",
    "        if this_gap>0:\n",
    "            gaps.append(this_gap)\n",
    "    if len(gaps)==0:\n",
    "        return -1\n",
    "    else:\n",
    "        return min(gaps)"
   ]
  },
  {
   "cell_type": "code",
   "execution_count": null,
   "metadata": {},
   "outputs": [],
   "source": [
    "from pyspark.sql.functions import lit\n",
    "t7 = dataset1.select('User_id','Coupon_id','Date_received')\n",
    "t7 = t7.join(t6,['User_id','Coupon_id'])\n",
    "t7 = t7.withColumn('single', lit('-'))\n",
    "t7 = t7.select('User_id','Coupon_id','Date_received','Dates', concat('Date_received','single','Dates')).withColumnRenamed('concat(Date_received, single, Dates)', 'Date_received_date')\n",
    "#t7.withColumn('Day_gap_before', get_day_gap_before(col('date_received_date')))\n",
    "#t7.withColumn('Day_gap_after', get_day_gap_after(col('date_received_date')))\n",
    "#t7 = t7.select('User_id','Coupon_id','Date_received','Day_gap_before','Day_gap_after')\n",
    "\n",
    "#t7.show()"
   ]
  },
  {
   "cell_type": "code",
   "execution_count": 13,
   "metadata": {},
   "outputs": [
    {
     "name": "stdout",
     "output_type": "stream",
     "text": [
      "+-------+---------+-------------+-------------------------------+------------------------------+-------------------------+--------------------------+----------------------------+-----------------------------+\n",
      "|User_id|Coupon_id|Date_received|Month_Receive_same_coupon_count|Month_Receive_all_coupon_count|Month_same_coupon_lastone|Month_same_coupon_firstone|Day_Receive_all_coupon_count|Day_Receive_same_coupon_count|\n",
      "+-------+---------+-------------+-------------------------------+------------------------------+-------------------------+--------------------------+----------------------------+-----------------------------+\n",
      "|    377|     2857|     20160512|                              1|                             1|                        1|                         1|                           1|                            1|\n",
      "|   5096|     5054|     20160426|                              1|                             1|                        1|                         1|                           1|                            1|\n",
      "|  15536|    12474|     20160422|                              8|                            15|                        0|                         0|                           2|                            2|\n",
      "|  15536|    12474|     20160422|                              8|                            15|                        0|                         0|                           2|                            2|\n",
      "|  15536|    12474|     20160422|                              8|                            15|                        0|                         0|                           2|                            2|\n",
      "|  15536|    12474|     20160422|                              8|                            15|                        0|                         0|                           2|                            2|\n",
      "|  15536|    12474|     20160422|                              8|                            15|                        0|                         0|                           2|                            2|\n",
      "|  15536|    12474|     20160422|                              8|                            15|                        0|                         0|                           2|                            2|\n",
      "|  15536|    12474|     20160422|                              8|                            15|                        0|                         0|                           2|                            2|\n",
      "|  15536|    12474|     20160422|                              8|                            15|                        0|                         0|                           2|                            2|\n",
      "|  26207|     7610|     20160421|                              1|                             1|                        1|                         1|                           1|                            1|\n",
      "|  30189|     2705|     20160506|                              1|                             2|                        1|                         1|                           1|                            1|\n",
      "|  38571|     7487|     20160427|                              1|                             1|                        1|                         1|                           1|                            1|\n",
      "|  58355|     8498|     20160514|                              1|                             1|                        1|                         1|                           1|                            1|\n",
      "|  80206|     7610|     20160422|                              1|                             1|                        1|                         1|                           1|                            1|\n",
      "|  81669|     7610|     20160427|                              1|                             1|                        1|                         1|                           1|                            1|\n",
      "|  94158|     3732|     20160429|                              1|                             1|                        1|                         1|                           1|                            1|\n",
      "| 104632|     4156|     20160505|                             15|                            15|                        0|                         0|                           1|                            1|\n",
      "| 108266|     6859|     20160510|                              1|                             1|                        1|                         1|                           1|                            1|\n",
      "| 126309|     3162|     20160415|                              1|                             1|                        1|                         1|                           1|                            1|\n",
      "+-------+---------+-------------+-------------------------------+------------------------------+-------------------------+--------------------------+----------------------------+-----------------------------+\n",
      "only showing top 20 rows\n",
      "\n"
     ]
    }
   ],
   "source": [
    "other_feature1 = t1.join(t, 'User_id')\n",
    "other_feature1 = other_feature1.join(t3,['user_id','coupon_id'])\n",
    "other_feature1 = other_feature1.join(t4, ['User_id','Date_received'])\n",
    "other_feature1 = other_feature1.join(t5, ['User_id','Coupon_id','Date_received'])\n",
    "#other_feature1 = other_feature3.join(t7, ['User_id','Coupon_id','Date_received'])\n",
    "other_feature1.write.csv('other_feature1', header = True)\n",
    "\n",
    "other_feature1.show()"
   ]
  },
  {
   "cell_type": "code",
   "execution_count": null,
   "metadata": {},
   "outputs": [],
   "source": []
  }
 ],
 "metadata": {
  "kernelspec": {
   "display_name": "Python 3",
   "language": "python",
   "name": "python3"
  },
  "language_info": {
   "codemirror_mode": {
    "name": "ipython",
    "version": 3
   },
   "file_extension": ".py",
   "mimetype": "text/x-python",
   "name": "python",
   "nbconvert_exporter": "python",
   "pygments_lexer": "ipython3",
   "version": "3.8.3"
  }
 },
 "nbformat": 4,
 "nbformat_minor": 4
}
