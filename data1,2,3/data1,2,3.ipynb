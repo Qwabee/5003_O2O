{
 "cells": [
  {
   "cell_type": "code",
   "execution_count": 1,
   "metadata": {},
   "outputs": [],
   "source": [
    "from pyspark.sql.functions import *\n",
    "from pyspark.sql.types import FloatType\n",
    "from pyspark.sql.types import StringType\n",
    "from pyspark.sql.types import IntegerType\n",
    "\n",
    "\n",
    "off_train = spark.read.csv('ccf_offline_stage1_train.csv', header=True, inferSchema=True)\n",
    "off_test = spark.read.csv('ccf_offline_stage1_test_revised.csv', header = True, inferSchema=True)\n",
    "on_train = spark.read.csv('ccf_online_stage1_train.csv', header = True, inferSchema = True)"
   ]
  },
  {
   "cell_type": "code",
   "execution_count": 2,
   "metadata": {},
   "outputs": [],
   "source": [
    "dataset3 = off_test\n",
    "feature3 = off_train.filter(((off_train.Date>='20160315')&(off_train.Date<='20160630'))|((off_train.Date=='null') & (off_train.Date_received>='20160315')&(off_train.Date_received<='20160630'))).select('*')\n",
    "dataset2 = off_train.filter((off_train.Date_received>='20160515')&(off_train.Date_received<='20160615')).select('*')\n",
    "feature2 = off_train.filter((off_train.Date>='20160201')&(off_train.Date<='20160514')|((off_train.Date=='null')&(off_train.Date_received>='20160201')&(off_train.Date_received<='20160514'))).select('*')\n",
    "dataset1 = off_train.filter((off_train.Date_received>='20160414')&(off_train.Date_received<='20160514')).select('*')\n",
    "feature1 = off_train.filter((off_train.Date>='20160101')&(off_train.Date<='20160413')|((off_train.Date=='null')&(off_train.Date_received>='20160101')&(off_train.Date_received<='20160413'))).select('*')"
   ]
  },
  {
   "cell_type": "code",
   "execution_count": 3,
   "metadata": {},
   "outputs": [
    {
     "name": "stdout",
     "output_type": "stream",
     "text": [
      "+-------+-----------+---------+-------------+--------+-------------+\n",
      "|User_id|Merchant_id|Coupon_id|Discount_rate|Distance|Date_received|\n",
      "+-------+-----------+---------+-------------+--------+-------------+\n",
      "|4129537|        450|     9983|         30:5|       1|     20160712|\n",
      "|6949378|       1300|     3429|         30:5|    null|     20160706|\n",
      "|2166529|       7113|     6928|       200:20|       5|     20160727|\n",
      "|2166529|       7113|     1808|       100:10|       5|     20160727|\n",
      "|6172162|       7605|     6500|         30:1|       2|     20160708|\n",
      "|4005121|        450|     9983|         30:5|       0|     20160706|\n",
      "|4347394|        450|     9983|         30:5|       0|     20160716|\n",
      "|3094273|        760|    13602|         30:5|       1|     20160727|\n",
      "|5139970|        450|     9983|         30:5|      10|     20160729|\n",
      "|3237121|        760|    13602|         30:5|       1|     20160703|\n",
      "|6224386|        450|     9983|         30:5|       3|     20160716|\n",
      "|6488578|        760|    13602|         30:5|       0|     20160712|\n",
      "|4164865|        450|     9983|         30:5|       2|     20160703|\n",
      "|4164865|       5138|     8059|        50:10|       1|     20160706|\n",
      "|5468674|        450|     9983|         30:5|    null|     20160713|\n",
      "|6258178|       7024|     9144|         10:1|       0|     20160706|\n",
      "|3659521|       6000|     7341|       150:30|       6|     20160727|\n",
      "|3659521|       2436|    13181|         20:1|       3|     20160717|\n",
      "|3659521|        760|    13602|         30:5|       0|     20160718|\n",
      "|7333378|        760|    13602|         30:5|       0|     20160704|\n",
      "+-------+-----------+---------+-------------+--------+-------------+\n",
      "only showing top 20 rows\n",
      "\n",
      "+-------+-----------+---------+-------------+--------+-------------+--------+\n",
      "|User_id|Merchant_id|Coupon_id|Discount_rate|Distance|Date_received|    Date|\n",
      "+-------+-----------+---------+-------------+--------+-------------+--------+\n",
      "|1439408|       4663|    11002|       150:20|       1|     20160528|    null|\n",
      "|1439408|       2632|     8591|         20:1|       0|     20160613|    null|\n",
      "|1439408|       2632|     8591|         20:1|       0|     20160516|20160613|\n",
      "|2029232|        450|     1532|         30:5|       0|     20160530|    null|\n",
      "|2029232|       6459|    12737|         20:1|       0|     20160519|    null|\n",
      "|2747744|       6901|     1097|        50:10|    null|     20160606|    null|\n",
      "| 196342|       1579|    10698|         20:1|       1|     20160606|    null|\n",
      "| 253750|       6901|     2366|         30:5|       0|     20160518|    null|\n",
      "| 343660|       4663|    11002|       150:20|    null|     20160528|    null|\n",
      "|1113008|       3621|     2705|         20:5|       0|     20160524|    null|\n",
      "|1113008|       2277|     1495|        30:10|       0|     20160523|    null|\n",
      "|1113008|       1361|    11166|         20:1|       0|     20160515|20160521|\n",
      "|1113008|       1361|    11166|         20:1|       0|     20160521|    null|\n",
      "| 622296|       4874|      846|         50:5|       1|     20160523|    null|\n",
      "|4064096|       4666|     6604|       100:10|       0|     20160602|    null|\n",
      "| 114747|       6901|     2366|         30:5|       0|     20160523|20160605|\n",
      "| 114747|       6901|     1097|        50:10|       0|     20160605|    null|\n",
      "| 114747|        760|     2418|         30:5|       0|     20160607|    null|\n",
      "| 114747|       6901|     2107|         30:5|       0|     20160605|    null|\n",
      "| 245878|        760|     2418|         30:5|       0|     20160601|    null|\n",
      "+-------+-----------+---------+-------------+--------+-------------+--------+\n",
      "only showing top 20 rows\n",
      "\n",
      "+-------+-----------+---------+-------------+--------+-------------+----+\n",
      "|User_id|Merchant_id|Coupon_id|Discount_rate|Distance|Date_received|Date|\n",
      "+-------+-----------+---------+-------------+--------+-------------+----+\n",
      "|1832624|       3381|     7610|       200:20|       0|     20160429|null|\n",
      "| 163606|       1569|     5054|       200:30|      10|     20160421|null|\n",
      "|4061024|       3381|     7610|       200:20|      10|     20160426|null|\n",
      "| 106443|        450|     3732|         30:5|    null|     20160429|null|\n",
      "| 114747|       1569|     5054|       200:30|       9|     20160426|null|\n",
      "|6038208|       1569|     5054|       200:30|       0|     20160417|null|\n",
      "| 623832|       4442|     7643|       100:50|    null|     20160429|null|\n",
      "| 918744|       7555|     9871|         30:5|    null|     20160415|null|\n",
      "| 127227|       3621|     2705|         20:5|       0|     20160510|null|\n",
      "|3548000|       3381|     7610|       200:20|      10|     20160429|null|\n",
      "|4474560|       6504|     2348|         30:1|       1|     20160505|null|\n",
      "| 361900|        450|     3732|         30:5|       0|     20160430|null|\n",
      "| 527832|        450|     3732|         30:5|       1|     20160430|null|\n",
      "| 140278|        450|     3732|         30:5|       4|     20160414|null|\n",
      "| 460972|       3381|     7610|       200:20|       3|     20160421|null|\n",
      "|  90699|       7555|     9871|         30:5|       3|     20160420|null|\n",
      "|2116448|       2436|     3992|         30:5|      10|     20160422|null|\n",
      "| 379372|       7884|     6704|         20:1|       1|     20160508|null|\n",
      "|2904416|       3381|     7610|       200:20|       0|     20160425|null|\n",
      "| 103083|       2436|     3992|         30:5|       0|     20160422|null|\n",
      "+-------+-----------+---------+-------------+--------+-------------+----+\n",
      "only showing top 20 rows\n",
      "\n",
      "+-------+-----------+---------+-------------+--------+-------------+--------+\n",
      "|User_id|Merchant_id|Coupon_id|Discount_rate|Distance|Date_received|    Date|\n",
      "+-------+-----------+---------+-------------+--------+-------------+--------+\n",
      "|1439408|       4663|    11002|       150:20|       1|     20160528|    null|\n",
      "|1439408|       2632|     1078|         20:1|       0|     20160319|    null|\n",
      "|1439408|       2632|     8591|         20:1|       0|     20160613|    null|\n",
      "|1439408|       2632|     null|         null|       0|         null|20160516|\n",
      "|1439408|       2632|     8591|         20:1|       0|     20160516|20160613|\n",
      "|1832624|       3381|     7610|       200:20|       0|     20160429|    null|\n",
      "|2029232|        450|     1532|         30:5|       0|     20160530|    null|\n",
      "|2029232|       6459|    12737|         20:1|       0|     20160519|    null|\n",
      "|2029232|       6459|     null|         null|       0|         null|20160626|\n",
      "|2029232|       6459|     null|         null|       0|         null|20160519|\n",
      "|2747744|       6901|     1097|        50:10|    null|     20160606|    null|\n",
      "| 196342|       1579|     null|         null|       1|         null|20160606|\n",
      "| 196342|       1579|    10698|         20:1|       1|     20160606|    null|\n",
      "| 163606|       1569|     5054|       200:30|      10|     20160421|    null|\n",
      "|  94107|       3381|     7610|       200:20|       2|     20160412|    null|\n",
      "| 253750|       8390|     null|         null|       0|         null|20160327|\n",
      "| 253750|       6901|     2366|         30:5|       0|     20160518|    null|\n",
      "| 253750|       8390|     7531|         20:5|       0|     20160327|    null|\n",
      "| 343660|       4663|    11002|       150:20|    null|     20160528|    null|\n",
      "|4191584|       3051|     null|         null|       0|         null|20160519|\n",
      "+-------+-----------+---------+-------------+--------+-------------+--------+\n",
      "only showing top 20 rows\n",
      "\n"
     ]
    }
   ],
   "source": [
    "#dataset3.show()\n",
    "#dataset2.show()\n",
    "#dataset1.show()\n",
    "#feature3.show()"
   ]
  },
  {
   "cell_type": "code",
   "execution_count": 3,
   "metadata": {},
   "outputs": [],
   "source": [
    "###5. other feature:###\n",
    "\n",
    "#for dataset3\n",
    "t = dataset3.select('User_id')\n",
    "t = t.select('User_id').groupBy('User_id').count().withColumnRenamed('count', 'Month_Receive_all_coupon_count')\n",
    "\n",
    "#print(t.orderBy('User_id').show())"
   ]
  },
  {
   "cell_type": "code",
   "execution_count": 4,
   "metadata": {},
   "outputs": [],
   "source": [
    "t1 = dataset3.select('User_id','Coupon_id')\n",
    "t1 = t1.select('User_id','Coupon_id').groupBy('User_id','Coupon_id').count().withColumnRenamed('Count', 'Month_Receive_same_coupon_count')\n",
    "\n",
    "#print(t1.orderBy('User_id').show())"
   ]
  },
  {
   "cell_type": "code",
   "execution_count": 5,
   "metadata": {},
   "outputs": [],
   "source": [
    "t2 = dataset3.select('User_id', 'Coupon_id', 'Date_received')"
   ]
  },
  {
   "cell_type": "code",
   "execution_count": 6,
   "metadata": {},
   "outputs": [
    {
     "name": "stdout",
     "output_type": "stream",
     "text": [
      "+-------+---------+-----------------+-----------------+\n",
      "|User_id|Coupon_id|Max_date_received|Min_date_received|\n",
      "+-------+---------+-----------------+-----------------+\n",
      "|3649795|    10418|         20160701|         20160701|\n",
      "|3025159|    10438|         20160701|         20160701|\n",
      "|2296075|    13602|         20160728|         20160728|\n",
      "|7346734|     4405|         20160701|         20160701|\n",
      "|2970925|     5178|         20160728|         20160711|\n",
      "|2746177|    13602|         20160704|         20160704|\n",
      "|5632654|     4138|         20160716|         20160716|\n",
      "|5406394|    13602|         20160705|         20160705|\n",
      "|4451026|     9983|         20160711|         20160711|\n",
      "|2891131|     3429|         20160724|         20160724|\n",
      "|3032473|     8306|         20160715|         20160715|\n",
      "|2447773|    12807|         20160703|         20160703|\n",
      "|6210370|     2978|         20160704|         20160704|\n",
      "|4541266|     9983|         20160719|         20160719|\n",
      "|3618223|    11799|         20160712|         20160712|\n",
      "|6750070|    13602|         20160705|         20160705|\n",
      "|6389650|    11311|         20160721|         20160715|\n",
      "|5049238|    13602|         20160719|         20160719|\n",
      "|3977179|    10418|         20160706|         20160706|\n",
      "|4960186|    13602|         20160702|         20160702|\n",
      "+-------+---------+-----------------+-----------------+\n",
      "only showing top 20 rows\n",
      "\n"
     ]
    }
   ],
   "source": [
    "from pyspark.sql import functions as F\n",
    "t2 = t2.groupby(['User_id', 'Coupon_id']).agg(F.max(\"Date_received\"),F.min(\"Date_received\"))\n",
    "t2 = t2.withColumnRenamed('max(Date_received)','Max_date_received').withColumnRenamed('Min(Date_received)','Min_date_received')\n",
    "t2.show()"
   ]
  },
  {
   "cell_type": "code",
   "execution_count": 7,
   "metadata": {},
   "outputs": [],
   "source": [
    "t3 = dataset3.select('User_id','Coupon_id','Date_received')\n",
    "t3 = t3.join(t2, ['User_id','Coupon_id'])\n",
    "t3 = t3.withColumn('Month_same_coupon_lastone', col('Max_date_received') - col('date_received'))\n",
    "t3 = t3.withColumn('Month_same_coupon_firstone',col('date_received') - col('Min_date_received'))                   \n",
    "\n",
    "#print(t3.orderBy('User_id').show())"
   ]
  },
  {
   "cell_type": "code",
   "execution_count": 8,
   "metadata": {},
   "outputs": [],
   "source": [
    "equally1 = t3.select('User_id','Coupon_id','Date_received','Month_same_coupon_lastone', lit(1).alias('feat1')).filter('Month_same_coupon_lastone == 0').drop('Month_same_coupon_lastone')\n",
    "greater1 = t3.select('User_id','Coupon_id','Date_received','Month_same_coupon_lastone', lit(0).alias('feat1')).filter('Month_same_coupon_lastone > 0').drop('Month_same_coupon_lastone')\n",
    "u1 = equally1.union(greater1).withColumnRenamed('feat1', 'Month_same_coupon_lastone')\n",
    "u1 = u1.select('User_id','Coupon_id','Date_received','Month_same_coupon_lastone')\n",
    "t3 = t3.drop('Month_same_coupon_lastone')\n",
    "\n",
    "equally2 = t3.select('User_id','Coupon_id','Date_received','Month_same_coupon_firstone', lit(1).alias('feat2')).filter('Month_same_coupon_firstone == 0').drop('Month_same_coupon_firstone')\n",
    "greater2 = t3.select('User_id','Coupon_id','Date_received','Month_same_coupon_firstone', lit(0).alias('feat2')).filter('Month_same_coupon_firstone > 0').drop('Month_same_coupon_firstone')\n",
    "u2 = equally2.union(greater2).withColumnRenamed('feat2', 'Month_same_coupon_firstone')\n",
    "u2 = u2.select('User_id','Coupon_id','Date_received','Month_same_coupon_firstone')\n",
    "t3 = t3.drop('Month_same_coupon_firstone')\n",
    "\n",
    "t3 = t3.join(u1, ['User_id','Coupon_id','Date_received'])\n",
    "t3 = t3.join(u2, ['User_id','Coupon_id','Date_received'])\n",
    "t3 = t3.select('User_id','Coupon_id','Date_received','Month_same_coupon_lastone','Month_same_coupon_firstone')\n",
    "\n",
    "#print(t3.orderBy('User_id').show())\n",
    "#print(u1.orderBy('User_id').show())\n",
    "#print(u2.orderBy('User_id').show())"
   ]
  },
  {
   "cell_type": "code",
   "execution_count": 9,
   "metadata": {},
   "outputs": [
    {
     "name": "stdout",
     "output_type": "stream",
     "text": [
      "+-------+-------------+----------------------------+\n",
      "|User_id|Date_received|Day_Receive_all_coupon_count|\n",
      "+-------+-------------+----------------------------+\n",
      "|    209|     20160721|                           2|\n",
      "|    215|     20160703|                           1|\n",
      "|    316|     20160721|                           1|\n",
      "|    417|     20160712|                           1|\n",
      "|    432|     20160706|                           1|\n",
      "|    448|     20160701|                           1|\n",
      "|    448|     20160707|                           1|\n",
      "|    448|     20160704|                           1|\n",
      "|    448|     20160710|                           1|\n",
      "|    448|     20160706|                           1|\n",
      "|    452|     20160702|                           1|\n",
      "|    452|     20160721|                           1|\n",
      "|    470|     20160710|                           1|\n",
      "|    569|     20160716|                           1|\n",
      "|    728|     20160714|                           1|\n",
      "|    736|     20160724|                           1|\n",
      "|    736|     20160713|                           1|\n",
      "|    738|     20160708|                           1|\n",
      "|    738|     20160716|                           1|\n",
      "|    766|     20160705|                           1|\n",
      "+-------+-------------+----------------------------+\n",
      "only showing top 20 rows\n",
      "\n",
      "None\n"
     ]
    }
   ],
   "source": [
    "t4 = dataset3.select('User_id','Date_received')\n",
    "t4 = t4.select('Date_received','User_id',).groupBy('User_id','Date_received').count().withColumnRenamed('count', 'Day_Receive_all_coupon_count')\n",
    "\n",
    "#print(t4.orderBy('user_id').show())"
   ]
  },
  {
   "cell_type": "code",
   "execution_count": 10,
   "metadata": {},
   "outputs": [
    {
     "name": "stdout",
     "output_type": "stream",
     "text": [
      "+-------+---------+-------------+-----------------------------+\n",
      "|User_id|Coupon_id|Date_received|Day_Receive_same_coupon_count|\n",
      "+-------+---------+-------------+-----------------------------+\n",
      "|    209|      825|     20160721|                            1|\n",
      "|    209|     7557|     20160721|                            1|\n",
      "|    215|     5488|     20160703|                            1|\n",
      "|    316|     3992|     20160721|                            1|\n",
      "|    417|    12465|     20160712|                            1|\n",
      "|    432|    10438|     20160706|                            1|\n",
      "|    448|    10927|     20160706|                            1|\n",
      "|    448|    13602|     20160701|                            1|\n",
      "|    448|    10927|     20160710|                            1|\n",
      "|    448|    10927|     20160704|                            1|\n",
      "|    448|    10927|     20160707|                            1|\n",
      "|    452|     3992|     20160721|                            1|\n",
      "|    452|     6500|     20160702|                            1|\n",
      "|    470|     9983|     20160710|                            1|\n",
      "|    569|     3594|     20160716|                            1|\n",
      "|    728|    10418|     20160714|                            1|\n",
      "|    736|     3686|     20160724|                            1|\n",
      "|    736|     3686|     20160713|                            1|\n",
      "|    738|     9424|     20160708|                            1|\n",
      "|    738|     3647|     20160716|                            1|\n",
      "+-------+---------+-------------+-----------------------------+\n",
      "only showing top 20 rows\n",
      "\n",
      "None\n"
     ]
    }
   ],
   "source": [
    "t5 = dataset3.select('User_id','Coupon_id','Date_received')\n",
    "t5 = t5.select('User_id','Coupon_id','Date_received').groupBy('User_id','Coupon_id','Date_received').count().withColumnRenamed('count', 'Day_Receive_same_coupon_count')\n",
    "\n",
    "#print(t5.orderBy('user_id').show())"
   ]
  },
  {
   "cell_type": "code",
   "execution_count": 11,
   "metadata": {},
   "outputs": [
    {
     "name": "stdout",
     "output_type": "stream",
     "text": [
      "+-----------+---------+---------------------------+\n",
      "|Merchant_id|Coupon_id|Label_merchant_coupon_count|\n",
      "+-----------+---------+---------------------------+\n",
      "|        760|    13602|                      29885|\n",
      "|        450|     9983|                      11586|\n",
      "|       5717|    10418|                       7370|\n",
      "|       5138|     8059|                       6401|\n",
      "|       3621|     2978|                       5339|\n",
      "|       1300|     3429|                       4887|\n",
      "|       2050|    10438|                       4215|\n",
      "|       1469|    11799|                       1725|\n",
      "|       2436|     3992|                       1650|\n",
      "|       7717|     1904|                       1425|\n",
      "|       1469|     2601|                       1019|\n",
      "|       7717|    11894|                        797|\n",
      "|       6901|      785|                        606|\n",
      "|       7354|     2002|                        557|\n",
      "|       7422|     4727|                        533|\n",
      "|       3939|     4277|                        492|\n",
      "|       4582|     8306|                        492|\n",
      "|       6485|    13320|                        471|\n",
      "|       8653|     8181|                        396|\n",
      "|       6135|     8182|                        356|\n",
      "+-----------+---------+---------------------------+\n",
      "only showing top 20 rows\n",
      "\n",
      "None\n",
      "+-----------+---------+---------------------------+\n",
      "|Merchant_id|Coupon_id|Label_merchant_coupon_count|\n",
      "+-----------+---------+---------------------------+\n",
      "|          6|     6818|                         21|\n",
      "|         11|     2934|                          1|\n",
      "|         13|     4717|                          8|\n",
      "|         15|    12848|                          2|\n",
      "|         15|     3764|                          1|\n",
      "|         21|      899|                          3|\n",
      "|         39|     3484|                         17|\n",
      "|         43|     4087|                          1|\n",
      "|         44|     8498|                          3|\n",
      "|         48|     8832|                          3|\n",
      "|         53|     9611|                          7|\n",
      "|         71|     7634|                          1|\n",
      "|         72|    10898|                          1|\n",
      "|         75|     2511|                          7|\n",
      "|         75|     9462|                         24|\n",
      "|         75|     6465|                         35|\n",
      "|         76|     1309|                         12|\n",
      "|         76|     5264|                         29|\n",
      "|         76|     1079|                         25|\n",
      "|         76|    10177|                          4|\n",
      "+-----------+---------+---------------------------+\n",
      "only showing top 20 rows\n",
      "\n",
      "None\n"
     ]
    }
   ],
   "source": [
    "#商家发出的所有优惠券种类数目  label_merchant_coupon_type_count\n",
    "\n",
    "t6 = dataset3.select('Merchant_id','Coupon_id')\n",
    "t6 = t6.select('Merchant_id','Coupon_id').groupBy('Merchant_id','Coupon_id').count().withColumnRenamed('count', 'Label_merchant_coupon_count')\n",
    "\n",
    "\n",
    "#print(t6.orderBy(desc('Label_merchant_coupon_count')).show())\n",
    "#print(t6.orderBy('Merchant_id').show())"
   ]
  },
  {
   "cell_type": "code",
   "execution_count": 12,
   "metadata": {},
   "outputs": [],
   "source": [
    "#用户领取该商家的所有优惠券数目  label_user_merchant_coupon_count\n",
    "\n",
    "t7 = dataset3.select('user_id','Merchant_id')\n",
    "t7 = t7.select('user_id','Merchant_id').groupBy('user_id','Merchant_id').count().withColumnRenamed('count', 'Label_user_merchant_coupon_count')\n",
    "\n",
    "#print(t7.orderBy('user_id').show())"
   ]
  },
  {
   "cell_type": "code",
   "execution_count": 13,
   "metadata": {},
   "outputs": [],
   "source": [
    "#用户在此次优惠券之后还领取了多少相同优惠券     label_coupon_count_later\n",
    "\n",
    "\n",
    "from pyspark.sql.window import Window\n",
    "from pyspark.sql import functions as F\n",
    "\n",
    "t8 = dataset3.select('User_id','Coupon_id','Date_received')\n",
    "win1 = Window.partitionBy('User_id','Coupon_id').orderBy(desc('Date_received'))\n",
    "t8= t8.withColumn(\"rank\",F.rank().over(win1))\n",
    "t8 = t8.select('User_id','Coupon_id','Date_received', lit(t8['rank']-1).alias('Coupon_count_later'))\n",
    "\n",
    "\n",
    "#print(t8.orderBy('user_id').show())"
   ]
  },
  {
   "cell_type": "code",
   "execution_count": 14,
   "metadata": {},
   "outputs": [],
   "source": [
    "other_feature3 = t1.join(t, 'User_id')\n",
    "other_feature3 = other_feature3.join(t3,['user_id','coupon_id'])\n",
    "other_feature3 = other_feature3.join(t4, ['User_id','Date_received'])\n",
    "other_feature3 = other_feature3.join(t5, ['User_id','Coupon_id','Date_received'])\n",
    "other_feature3 = other_feature3.join(t6, ['Coupon_id'])\n",
    "other_feature3 = other_feature3.join(t7, ['user_id','Merchant_id'])\n",
    "other_feature3 = other_feature3.join(t8, ['User_id','Coupon_id','Date_received'])\n",
    "\n",
    "\n",
    "#other_feature3.write.csv('other_feature3', header = True)\n",
    "\n",
    "#other_feature3.show()"
   ]
  },
  {
   "cell_type": "code",
   "execution_count": 15,
   "metadata": {},
   "outputs": [],
   "source": [
    "other_feature3.coalesce(1).write.mode(\"overwrite\").option('header','true').csv('other_feature3')"
   ]
  },
  {
   "cell_type": "code",
   "execution_count": null,
   "metadata": {},
   "outputs": [],
   "source": [
    "#for dataset2"
   ]
  },
  {
   "cell_type": "code",
   "execution_count": 3,
   "metadata": {},
   "outputs": [],
   "source": [
    "t = dataset2.select('User_id')\n",
    "t = t.select('User_id').groupBy('User_id').count().withColumnRenamed('count', 'Month_Receive_all_coupon_count')\n",
    "\n",
    "#print(t.orderBy('User_id').show())\n",
    "\n",
    "t1 = dataset2.select('User_id','Coupon_id')\n",
    "t1 = t1.select('User_id','Coupon_id').groupBy('User_id','Coupon_id').count().withColumnRenamed('Count', 'Month_Receive_same_coupon_count')\n",
    "\n",
    "#print(t1.orderBy('User_id').show())"
   ]
  },
  {
   "cell_type": "code",
   "execution_count": 4,
   "metadata": {},
   "outputs": [],
   "source": [
    "t2 = dataset2.select('User_id', 'Coupon_id', 'Date_received')\n",
    "\n",
    "from pyspark.sql import functions as F\n",
    "t2 = t2.groupby(['User_id', 'Coupon_id']).agg(F.max(\"Date_received\"),F.min(\"Date_received\"))\n",
    "t2 = t2.withColumnRenamed('max(Date_received)','Max_date_received').withColumnRenamed('Min(Date_received)','Min_date_received')\n",
    "#t2.show()"
   ]
  },
  {
   "cell_type": "code",
   "execution_count": 5,
   "metadata": {},
   "outputs": [],
   "source": [
    "t3 = dataset2.select('User_id','Coupon_id','Date_received')\n",
    "t3 = t3.join(t2, ['User_id','Coupon_id'])\n",
    "t3 = t3.withColumn('Month_same_coupon_lastone', col('Max_date_received') - col('date_received'))\n",
    "t3 = t3.withColumn('Month_same_coupon_firstone',col('date_received') - col('Min_date_received'))                   \n",
    "\n",
    "#print(t3.orderBy('User_id').show())\n",
    "\n",
    "\n",
    "equally1 = t3.select('User_id','Coupon_id','Date_received','Month_same_coupon_lastone', lit(1).alias('feat1')).filter('Month_same_coupon_lastone == 0').drop('Month_same_coupon_lastone')\n",
    "greater1 = t3.select('User_id','Coupon_id','Date_received','Month_same_coupon_lastone', lit(0).alias('feat1')).filter('Month_same_coupon_lastone > 0').drop('Month_same_coupon_lastone')\n",
    "u1 = equally1.union(greater1).withColumnRenamed('feat1', 'Month_same_coupon_lastone')\n",
    "u1 = u1.select('User_id','Coupon_id','Date_received','Month_same_coupon_lastone')\n",
    "t3 = t3.drop('Month_same_coupon_lastone')\n",
    "\n",
    "equally2 = t3.select('User_id','Coupon_id','Date_received','Month_same_coupon_firstone', lit(1).alias('feat2')).filter('Month_same_coupon_firstone == 0').drop('Month_same_coupon_firstone')\n",
    "greater2 = t3.select('User_id','Coupon_id','Date_received','Month_same_coupon_firstone', lit(0).alias('feat2')).filter('Month_same_coupon_firstone > 0').drop('Month_same_coupon_firstone')\n",
    "u2 = equally2.union(greater2).withColumnRenamed('feat2', 'Month_same_coupon_firstone')\n",
    "u2 = u2.select('User_id','Coupon_id','Date_received','Month_same_coupon_firstone')\n",
    "t3 = t3.drop('Month_same_coupon_firstone')\n",
    "\n",
    "t3 = t3.join(u1, ['User_id','Coupon_id','Date_received'])\n",
    "t3 = t3.join(u2, ['User_id','Coupon_id','Date_received'])\n",
    "t3 = t3.select('User_id','Coupon_id','Date_received','Month_same_coupon_lastone','Month_same_coupon_firstone')\n",
    "\n",
    "#print(t3.orderBy('User_id').show())\n",
    "#print(u1.orderBy('User_id').show())\n",
    "#print(u2.orderBy('User_id').show())"
   ]
  },
  {
   "cell_type": "code",
   "execution_count": 6,
   "metadata": {},
   "outputs": [],
   "source": [
    "t4 = dataset2.select('User_id','Date_received')\n",
    "t4 = t4.select('Date_received','User_id',).groupBy('User_id','Date_received').count().withColumnRenamed('count', 'Day_Receive_all_coupon_count')\n",
    "\n",
    "#print(t4.orderBy('user_id').show())\n",
    "\n",
    "\n",
    "t5 = dataset2.select('User_id','Coupon_id','Date_received')\n",
    "t5 = t5.select('User_id','Coupon_id','Date_received').groupBy('User_id','Coupon_id','Date_received').count().withColumnRenamed('count', 'Day_Receive_same_coupon_count')\n",
    "\n",
    "#print(t5.orderBy('user_id').show())\n"
   ]
  },
  {
   "cell_type": "code",
   "execution_count": 7,
   "metadata": {},
   "outputs": [],
   "source": [
    "#商家发出的所有优惠券种类数目  label_merchant_coupon_type_count\n",
    "\n",
    "t6 = dataset2.select('Merchant_id','Coupon_id')\n",
    "t6 = t6.select('Merchant_id','Coupon_id').groupBy('Merchant_id','Coupon_id').count().withColumnRenamed('count', 'Label_merchant_coupon_count')\n",
    "\n",
    "\n",
    "#print(t6.orderBy(desc('Label_merchant_coupon_count')).show())\n",
    "#print(t6.orderBy('Merchant_id').show())\n",
    "\n",
    "\n",
    "#用户领取该商家的所有优惠券数目  label_user_merchant_coupon_count\n",
    "\n",
    "t7 = dataset2.select('user_id','Merchant_id')\n",
    "t7 = t7.select('user_id','Merchant_id').groupBy('user_id','Merchant_id').count().withColumnRenamed('count', 'Label_user_merchant_coupon_count')\n",
    "\n",
    "#print(t7.orderBy('user_id').show())\n",
    "\n",
    "#用户在此次优惠券之后还领取了多少相同优惠券     label_coupon_count_later\n",
    "\n",
    "\n",
    "from pyspark.sql.window import Window\n",
    "from pyspark.sql import functions as F\n",
    "\n",
    "t8 = dataset2.select('User_id','Coupon_id','Date_received')\n",
    "win1 = Window.partitionBy('User_id','Coupon_id').orderBy(desc('Date_received'))\n",
    "t8= t8.withColumn(\"rank\",F.rank().over(win1))\n",
    "t8 = t8.select('User_id','Coupon_id','Date_received', lit(t8['rank']-1).alias('Coupon_count_later'))\n",
    "\n",
    "\n",
    "#print(t8.orderBy('user_id').show())"
   ]
  },
  {
   "cell_type": "code",
   "execution_count": 9,
   "metadata": {},
   "outputs": [],
   "source": [
    "other_feature2 = t1.join(t, 'User_id')\n",
    "other_feature2 = other_feature2.join(t3,['user_id','coupon_id'])\n",
    "other_feature2 = other_feature2.join(t4, ['User_id','Date_received'])\n",
    "other_feature2 = other_feature2.join(t5, ['User_id','Coupon_id','Date_received'])\n",
    "other_feature2 = other_feature2.join(t6, ['Coupon_id'])\n",
    "other_feature2 = other_feature2.join(t7, ['user_id','Merchant_id'])\n",
    "other_feature2 = other_feature2.join(t8, ['User_id','Coupon_id','Date_received'])\n",
    "\n",
    "\n",
    "#other_feature2.write.csv('other_feature2', header = True)\n",
    "\n",
    "#other_feature2.show()"
   ]
  },
  {
   "cell_type": "code",
   "execution_count": 9,
   "metadata": {},
   "outputs": [],
   "source": [
    "#other_feature2 = t7.join(t6, ['Merchant_id'])\n",
    "#other_feature2 = other_feature2.join(t8, ['User_id','Coupon_id'])\n",
    "\n",
    "#other_feature2.show()"
   ]
  },
  {
   "cell_type": "code",
   "execution_count": 10,
   "metadata": {
    "scrolled": false
   },
   "outputs": [],
   "source": [
    "other_feature2.coalesce(1).write.mode(\"overwrite\").option('header','true').csv('other_feature2')"
   ]
  },
  {
   "cell_type": "code",
   "execution_count": 1,
   "metadata": {},
   "outputs": [],
   "source": [
    "#for dataset1"
   ]
  },
  {
   "cell_type": "code",
   "execution_count": 17,
   "metadata": {},
   "outputs": [],
   "source": [
    "t = dataset1.select('User_id')\n",
    "t = t.select('User_id').groupBy('User_id').count().withColumnRenamed('count', 'Month_Receive_all_coupon_count')\n",
    "\n",
    "#print(t.orderBy('User_id').show())"
   ]
  },
  {
   "cell_type": "code",
   "execution_count": 18,
   "metadata": {},
   "outputs": [],
   "source": [
    "t1 = dataset1.select('User_id','Coupon_id')\n",
    "t1 = t1.select('User_id','Coupon_id').groupBy('User_id','Coupon_id').count().withColumnRenamed('Count', 'Month_Receive_same_coupon_count')\n",
    "\n",
    "#print(t1.orderBy('User_id').show())"
   ]
  },
  {
   "cell_type": "code",
   "execution_count": 19,
   "metadata": {},
   "outputs": [],
   "source": [
    "t2 = dataset1.select('User_id', 'Coupon_id', 'Date_received')"
   ]
  },
  {
   "cell_type": "code",
   "execution_count": 20,
   "metadata": {},
   "outputs": [],
   "source": [
    "from pyspark.sql import functions as F\n",
    "t2 = t2.groupby(['User_id', 'Coupon_id']).agg(F.max(\"Date_received\"),F.min(\"Date_received\"))\n",
    "t2 = t2.withColumnRenamed('max(Date_received)','Max_date_received').withColumnRenamed('Min(Date_received)','Min_date_received')\n",
    "#t2.show()"
   ]
  },
  {
   "cell_type": "code",
   "execution_count": 21,
   "metadata": {},
   "outputs": [],
   "source": [
    "t3 = dataset1.select('User_id','Coupon_id','Date_received')\n",
    "t3 = t3.join(t2, ['User_id','Coupon_id'])\n",
    "t3 = t3.withColumn('Month_same_coupon_lastone', col('Max_date_received') - col('date_received'))\n",
    "t3 = t3.withColumn('Month_same_coupon_firstone',col('date_received') - col('Min_date_received'))                   \n",
    "#t3.show()"
   ]
  },
  {
   "cell_type": "code",
   "execution_count": 22,
   "metadata": {},
   "outputs": [],
   "source": [
    "equally1 = t3.select('User_id','Coupon_id','Date_received','Month_same_coupon_lastone', lit(1).alias('feat1')).filter('Month_same_coupon_lastone == 0').drop('Month_same_coupon_lastone')\n",
    "greater1 = t3.select('User_id','Coupon_id','Date_received','Month_same_coupon_lastone', lit(0).alias('feat1')).filter('Month_same_coupon_lastone > 0').drop('Month_same_coupon_lastone')\n",
    "u1 = equally1.union(greater1).withColumnRenamed('feat1', 'Month_same_coupon_lastone')\n",
    "u1 = u1.select('User_id','Coupon_id','Date_received','Month_same_coupon_lastone')\n",
    "t3 = t3.drop('Month_same_coupon_lastone')\n",
    "\n",
    "equally2 = t3.select('User_id','Coupon_id','Date_received','Month_same_coupon_firstone', lit(1).alias('feat2')).filter('Month_same_coupon_firstone == 0').drop('Month_same_coupon_firstone')\n",
    "greater2 = t3.select('User_id','Coupon_id','Date_received','Month_same_coupon_firstone', lit(0).alias('feat2')).filter('Month_same_coupon_firstone > 0').drop('Month_same_coupon_firstone')\n",
    "u2 = equally2.union(greater2).withColumnRenamed('feat2', 'Month_same_coupon_firstone')\n",
    "u2 = u2.select('User_id','Coupon_id','Date_received','Month_same_coupon_firstone')\n",
    "t3 = t3.drop('Month_same_coupon_firstone')\n",
    "\n",
    "t3 = t3.join(u1, ['User_id','Coupon_id','Date_received'])\n",
    "t3 = t3.join(u2, ['User_id','Coupon_id','Date_received'])\n",
    "t3 = t3.select('User_id','Coupon_id','Date_received','Month_same_coupon_lastone','Month_same_coupon_firstone')\n",
    "\n",
    "#print(t3.orderBy('User_id').show())\n",
    "#print(u1.orderBy('User_id').show())\n",
    "#print(u2.orderBy('User_id').show())"
   ]
  },
  {
   "cell_type": "code",
   "execution_count": 23,
   "metadata": {},
   "outputs": [],
   "source": [
    "t4 = dataset1.select('User_id','Date_received')\n",
    "t4 = t4.select('Date_received','User_id',).groupBy('User_id','Date_received').count().withColumnRenamed('count', 'Day_Receive_all_coupon_count')\n",
    "\n",
    "#print(t4.orderBy('user_id').show())"
   ]
  },
  {
   "cell_type": "code",
   "execution_count": 24,
   "metadata": {},
   "outputs": [],
   "source": [
    "t5 = dataset1.select('User_id','Coupon_id','Date_received')\n",
    "t5 = t5.select('User_id','Coupon_id','Date_received').groupBy('User_id','Coupon_id','Date_received').count().withColumnRenamed('count', 'Day_Receive_same_coupon_count')\n",
    "\n",
    "#print(t5.orderBy('user_id').show())"
   ]
  },
  {
   "cell_type": "code",
   "execution_count": 3,
   "metadata": {},
   "outputs": [],
   "source": [
    "#商家发出的所有优惠券种类数目  label_merchant_coupon_type_count\n",
    "\n",
    "t6 = dataset1.select('Merchant_id','Coupon_id')\n",
    "t6 = t6.select('Merchant_id','Coupon_id').groupBy('Merchant_id','Coupon_id').count().withColumnRenamed('count', 'Label_merchant_coupon_count')\n",
    "\n",
    "\n",
    "#print(t6.orderBy(desc('Label_merchant_coupon_count')).show())\n",
    "#print(t6.orderBy('Merchant_id').show())"
   ]
  },
  {
   "cell_type": "code",
   "execution_count": 4,
   "metadata": {},
   "outputs": [
    {
     "name": "stdout",
     "output_type": "stream",
     "text": [
      "+-------+-----------+--------------------------------+\n",
      "|user_id|Merchant_id|Label_user_merchant_coupon_count|\n",
      "+-------+-----------+--------------------------------+\n",
      "|    173|       3381|                               1|\n",
      "|    285|        450|                               1|\n",
      "|    316|       7974|                               1|\n",
      "|    377|       4906|                               1|\n",
      "|    387|       3381|                               1|\n",
      "|    430|       7555|                               1|\n",
      "|    467|       7555|                               1|\n",
      "|    470|       7717|                               1|\n",
      "|    472|       2436|                               1|\n",
      "|    489|       6568|                               1|\n",
      "|    489|       4057|                               1|\n",
      "|    597|       1569|                               1|\n",
      "|    798|        797|                               1|\n",
      "|    865|       7993|                               1|\n",
      "|    892|       1569|                               1|\n",
      "|    947|       6610|                               1|\n",
      "|    948|       3381|                               1|\n",
      "|    975|       1569|                               1|\n",
      "|    983|       7555|                               1|\n",
      "|   1318|       7717|                               1|\n",
      "+-------+-----------+--------------------------------+\n",
      "only showing top 20 rows\n",
      "\n",
      "None\n"
     ]
    }
   ],
   "source": [
    "#用户领取该商家的所有优惠券数目  label_user_merchant_coupon_count\n",
    "\n",
    "t7 = dataset1.select('user_id','Merchant_id')\n",
    "t7 = t7.select('user_id','Merchant_id').groupBy('user_id','Merchant_id').count().withColumnRenamed('count', 'Label_user_merchant_coupon_count')\n",
    "\n",
    "print(t7.orderBy('user_id').show())"
   ]
  },
  {
   "cell_type": "code",
   "execution_count": 5,
   "metadata": {},
   "outputs": [],
   "source": [
    "#用户在此次优惠券之后还领取了多少相同优惠券     label_coupon_count_later\n",
    "\n",
    "\n",
    "from pyspark.sql.window import Window\n",
    "from pyspark.sql import functions as F\n",
    "\n",
    "t8 = dataset1.select('User_id','Coupon_id','Date_received')\n",
    "win1 = Window.partitionBy('User_id','Coupon_id').orderBy(desc('Date_received'))\n",
    "t8= t8.withColumn(\"rank\",F.rank().over(win1))\n",
    "t8 = t8.select('User_id','Coupon_id','Date_received', lit(t8['rank']-1).alias('Coupon_count_later'))\n",
    "\n",
    "\n",
    "#print(t8.orderBy('user_id').show())"
   ]
  },
  {
   "cell_type": "code",
   "execution_count": 28,
   "metadata": {},
   "outputs": [],
   "source": [
    "other_feature1 = t1.join(t, 'User_id')\n",
    "other_feature1 = other_feature1.join(t3,['user_id','coupon_id'])\n",
    "other_feature1 = other_feature1.join(t4, ['User_id','Date_received'])\n",
    "other_feature1 = other_feature1.join(t5, ['User_id','Coupon_id','Date_received'])\n",
    "other_feature1 = other_feature1.join(t6, ['Coupon_id'])\n",
    "other_feature1 = other_feature1.join(t7, ['user_id','Merchant_id'])\n",
    "other_feature1 = other_feature1.join(t8, ['User_id','Coupon_id','Date_received'])\n",
    "\n",
    "\n",
    "#other_feature2.write.csv('other_feature2', header = True)\n",
    "\n",
    "#other_feature2.show()"
   ]
  },
  {
   "cell_type": "code",
   "execution_count": 7,
   "metadata": {},
   "outputs": [],
   "source": [
    "#other_feature1 = t7.join(t6, ['Merchant_id'])\n",
    "#other_feature1 = other_feature1.join(t8, ['User_id','Coupon_id'])"
   ]
  },
  {
   "cell_type": "code",
   "execution_count": 8,
   "metadata": {},
   "outputs": [],
   "source": [
    "other_feature1.coalesce(1).write.mode(\"overwrite\").option('header','true').csv('other_feature1')"
   ]
  },
  {
   "cell_type": "code",
   "execution_count": null,
   "metadata": {},
   "outputs": [],
   "source": []
  }
 ],
 "metadata": {
  "kernelspec": {
   "display_name": "Python 3",
   "language": "python",
   "name": "python3"
  },
  "language_info": {
   "codemirror_mode": {
    "name": "ipython",
    "version": 3
   },
   "file_extension": ".py",
   "mimetype": "text/x-python",
   "name": "python",
   "nbconvert_exporter": "python",
   "pygments_lexer": "ipython3",
   "version": "3.8.3"
  }
 },
 "nbformat": 4,
 "nbformat_minor": 4
}
